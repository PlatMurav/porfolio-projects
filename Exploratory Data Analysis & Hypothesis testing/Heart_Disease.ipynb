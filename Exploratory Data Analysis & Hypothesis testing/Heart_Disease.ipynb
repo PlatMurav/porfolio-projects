{
 "cells": [
  {
   "cell_type": "code",
   "execution_count": 1,
   "id": "0ca9e793-209b-4448-870d-44d7dbd333d6",
   "metadata": {},
   "outputs": [],
   "source": [
    "import pandas as pd\n",
    "import numpy as np\n",
    "import matplotlib.pyplot as plt\n",
    "%matplotlib inline\n",
    "import seaborn as sns\n",
    "import scipy.stats as stats\n",
    "import plotly.express as px\n",
    "\n",
    "import warnings # this is optional\n",
    "warnings.filterwarnings('ignore')"
   ]
  },
  {
   "cell_type": "markdown",
   "id": "c281e812-5eb1-4689-8ccd-303fb046669d",
   "metadata": {},
   "source": [
    "**Matplotlib** offers extensive customization but demands more code, **Seaborn** simplifies statistical plots with built-in themes, and **Plotly** excels at creating dynamic and interactive visualizations."
   ]
  },
  {
   "cell_type": "markdown",
   "id": "b8c70396-4d8c-4e83-be40-bade1797c5c3",
   "metadata": {},
   "source": [
    "Let's look at the data"
   ]
  },
  {
   "cell_type": "code",
   "execution_count": 2,
   "id": "10aa7b75-9574-4b32-9945-f316597ce0d5",
   "metadata": {},
   "outputs": [],
   "source": [
    "df = pd.read_csv('heart_d.csv')"
   ]
  },
  {
   "cell_type": "code",
   "execution_count": 3,
   "id": "83384d5f-65da-4e05-8b17-de1280c73f9d",
   "metadata": {
    "scrolled": true
   },
   "outputs": [
    {
     "data": {
      "text/html": [
       "<div>\n",
       "<style scoped>\n",
       "    .dataframe tbody tr th:only-of-type {\n",
       "        vertical-align: middle;\n",
       "    }\n",
       "\n",
       "    .dataframe tbody tr th {\n",
       "        vertical-align: top;\n",
       "    }\n",
       "\n",
       "    .dataframe thead th {\n",
       "        text-align: right;\n",
       "    }\n",
       "</style>\n",
       "<table border=\"1\" class=\"dataframe\">\n",
       "  <thead>\n",
       "    <tr style=\"text-align: right;\">\n",
       "      <th></th>\n",
       "      <th>Age</th>\n",
       "      <th>Sex</th>\n",
       "      <th>ChestPainType</th>\n",
       "      <th>RestingBP</th>\n",
       "      <th>Cholesterol</th>\n",
       "      <th>FastingBS</th>\n",
       "      <th>RestingECG</th>\n",
       "      <th>MaxHR</th>\n",
       "      <th>ExerciseAngina</th>\n",
       "      <th>Oldpeak</th>\n",
       "      <th>ST_Slope</th>\n",
       "      <th>HeartDisease</th>\n",
       "    </tr>\n",
       "  </thead>\n",
       "  <tbody>\n",
       "    <tr>\n",
       "      <th>0</th>\n",
       "      <td>40</td>\n",
       "      <td>M</td>\n",
       "      <td>ATA</td>\n",
       "      <td>140</td>\n",
       "      <td>289</td>\n",
       "      <td>0</td>\n",
       "      <td>Normal</td>\n",
       "      <td>172</td>\n",
       "      <td>N</td>\n",
       "      <td>0.0</td>\n",
       "      <td>Up</td>\n",
       "      <td>0</td>\n",
       "    </tr>\n",
       "    <tr>\n",
       "      <th>1</th>\n",
       "      <td>49</td>\n",
       "      <td>F</td>\n",
       "      <td>NAP</td>\n",
       "      <td>160</td>\n",
       "      <td>180</td>\n",
       "      <td>0</td>\n",
       "      <td>Normal</td>\n",
       "      <td>156</td>\n",
       "      <td>N</td>\n",
       "      <td>1.0</td>\n",
       "      <td>Flat</td>\n",
       "      <td>1</td>\n",
       "    </tr>\n",
       "    <tr>\n",
       "      <th>2</th>\n",
       "      <td>37</td>\n",
       "      <td>M</td>\n",
       "      <td>ATA</td>\n",
       "      <td>130</td>\n",
       "      <td>283</td>\n",
       "      <td>0</td>\n",
       "      <td>ST</td>\n",
       "      <td>98</td>\n",
       "      <td>N</td>\n",
       "      <td>0.0</td>\n",
       "      <td>Up</td>\n",
       "      <td>0</td>\n",
       "    </tr>\n",
       "    <tr>\n",
       "      <th>3</th>\n",
       "      <td>48</td>\n",
       "      <td>F</td>\n",
       "      <td>ASY</td>\n",
       "      <td>138</td>\n",
       "      <td>214</td>\n",
       "      <td>0</td>\n",
       "      <td>Normal</td>\n",
       "      <td>108</td>\n",
       "      <td>Y</td>\n",
       "      <td>1.5</td>\n",
       "      <td>Flat</td>\n",
       "      <td>1</td>\n",
       "    </tr>\n",
       "    <tr>\n",
       "      <th>4</th>\n",
       "      <td>54</td>\n",
       "      <td>M</td>\n",
       "      <td>NAP</td>\n",
       "      <td>150</td>\n",
       "      <td>195</td>\n",
       "      <td>0</td>\n",
       "      <td>Normal</td>\n",
       "      <td>122</td>\n",
       "      <td>N</td>\n",
       "      <td>0.0</td>\n",
       "      <td>Up</td>\n",
       "      <td>0</td>\n",
       "    </tr>\n",
       "  </tbody>\n",
       "</table>\n",
       "</div>"
      ],
      "text/plain": [
       "   Age Sex ChestPainType  RestingBP  Cholesterol  FastingBS RestingECG  MaxHR  \\\n",
       "0   40   M           ATA        140          289          0     Normal    172   \n",
       "1   49   F           NAP        160          180          0     Normal    156   \n",
       "2   37   M           ATA        130          283          0         ST     98   \n",
       "3   48   F           ASY        138          214          0     Normal    108   \n",
       "4   54   M           NAP        150          195          0     Normal    122   \n",
       "\n",
       "  ExerciseAngina  Oldpeak ST_Slope  HeartDisease  \n",
       "0              N      0.0       Up             0  \n",
       "1              N      1.0     Flat             1  \n",
       "2              N      0.0       Up             0  \n",
       "3              Y      1.5     Flat             1  \n",
       "4              N      0.0       Up             0  "
      ]
     },
     "execution_count": 3,
     "metadata": {},
     "output_type": "execute_result"
    }
   ],
   "source": [
    "df.head()"
   ]
  },
  {
   "cell_type": "markdown",
   "id": "f07aab68-5588-4846-acfd-b36b08970cdc",
   "metadata": {},
   "source": [
    "**Variables**:\n",
    "* **Age** : age of the patient (*years*)\n",
    "* **Sex** : sex of the patient (*M: Male, F: Female*)\n",
    "* **ChestPainType** : chest pain type (*TA: Typical Angina, ATA: Atypical Angina, NAP: Non-Anginal Pain, ASY: Asymptomatic*)\n",
    "* **RestingBP** : resting blood pressure (*mm Hg*)\n",
    "* **Cholesterol** : serum cholesterol (*mm/dl*)\n",
    "* **FastingBS** : fasting blood sugar (*1: if FastingBS > 120 mg/dl, 0: otherwise*)\n",
    "* **RestingECG** : resting electrocardiogram results (*Normal: Normal, ST: having ST-T wave abnormality (T wave inversions and/or ST elevation or depression of > 0.05 mV), LVH: showing probable or definite left ventricular hypertrophy by Estes' criteria*)\n",
    "* **MaxHR** : maximum heart rate achieved (*Numeric value between 60 and 202*)\n",
    "* **ExerciseAngina** : exercise-induced angina (*Y: Yes, N: No*)\n",
    "* **Oldpeak** : oldpeak = ST (*Numeric value measured in depression*)\n",
    "* **ST_Slope** : the slope of the peak exercise ST segment (*Up: upsloping, Flat: flat, Down: downsloping*)\n",
    "* **HeartDisease** : output class (*1: heart disease, 0: Normal*)"
   ]
  },
  {
   "cell_type": "code",
   "execution_count": null,
   "id": "68e4803a-8f2b-4a64-9d51-24583084e652",
   "metadata": {},
   "outputs": [],
   "source": []
  },
  {
   "cell_type": "markdown",
   "id": "6b580096-015d-4703-9cdb-5b3ea96f3980",
   "metadata": {},
   "source": [
    "## Exploratory Data Analysis (EDA) & Visualization\n",
    "* Better understanding of the given dataset and helps clean up the given dataset.\n",
    "* It gives us a clear picture of the features and the relationships between them.\n",
    "* Identifying outliers."
   ]
  },
  {
   "cell_type": "markdown",
   "id": "931c6854-fe5f-479a-99f2-cb06fd011753",
   "metadata": {},
   "source": [
    "### Basic information"
   ]
  },
  {
   "cell_type": "code",
   "execution_count": 22,
   "id": "c582e33e-062b-4855-b82e-4668de69858e",
   "metadata": {},
   "outputs": [
    {
     "data": {
      "text/plain": [
       "(918, 12)"
      ]
     },
     "execution_count": 22,
     "metadata": {},
     "output_type": "execute_result"
    }
   ],
   "source": [
    "df.shape"
   ]
  },
  {
   "cell_type": "markdown",
   "id": "d21ebd8a-a774-494a-932d-0290f830deb8",
   "metadata": {},
   "source": [
    "We have 918 rows and 12 columns"
   ]
  },
  {
   "cell_type": "code",
   "execution_count": 24,
   "id": "1da11e1c-47fa-4d53-9dc2-364e2ec09c79",
   "metadata": {},
   "outputs": [
    {
     "data": {
      "text/plain": [
       "Index(['Age', 'Sex', 'ChestPainType', 'RestingBP', 'Cholesterol', 'FastingBS',\n",
       "       'RestingECG', 'MaxHR', 'ExerciseAngina', 'Oldpeak', 'ST_Slope',\n",
       "       'HeartDisease'],\n",
       "      dtype='object')"
      ]
     },
     "execution_count": 24,
     "metadata": {},
     "output_type": "execute_result"
    }
   ],
   "source": [
    "df.columns # And these are our columns"
   ]
  },
  {
   "cell_type": "markdown",
   "id": "7fc80edd-b92e-484f-8b80-c2dc23f61910",
   "metadata": {},
   "source": [
    "What are the types of the columns?"
   ]
  },
  {
   "cell_type": "code",
   "execution_count": 25,
   "id": "25080754-d20d-410d-bd29-ba71b9e2f967",
   "metadata": {},
   "outputs": [
    {
     "data": {
      "text/plain": [
       "Age                 int64\n",
       "Sex                object\n",
       "ChestPainType      object\n",
       "RestingBP           int64\n",
       "Cholesterol         int64\n",
       "FastingBS           int64\n",
       "RestingECG         object\n",
       "MaxHR               int64\n",
       "ExerciseAngina     object\n",
       "Oldpeak           float64\n",
       "ST_Slope           object\n",
       "HeartDisease        int64\n",
       "dtype: object"
      ]
     },
     "execution_count": 25,
     "metadata": {},
     "output_type": "execute_result"
    }
   ],
   "source": [
    "df.dtypes"
   ]
  },
  {
   "cell_type": "markdown",
   "id": "4f26f188-1f8b-4533-a13b-11def961028a",
   "metadata": {},
   "source": [
    "Primarily we have quantative variables"
   ]
  },
  {
   "cell_type": "markdown",
   "id": "366f1f97-aeee-4c34-8a0e-42b2c5d35e49",
   "metadata": {},
   "source": [
    "#### Missing values"
   ]
  },
  {
   "cell_type": "code",
   "execution_count": 27,
   "id": "5514caea-189d-443b-9683-eee3559f1971",
   "metadata": {},
   "outputs": [
    {
     "data": {
      "text/plain": [
       "Age               0\n",
       "Sex               0\n",
       "ChestPainType     0\n",
       "RestingBP         0\n",
       "Cholesterol       0\n",
       "FastingBS         0\n",
       "RestingECG        0\n",
       "MaxHR             0\n",
       "ExerciseAngina    0\n",
       "Oldpeak           0\n",
       "ST_Slope          0\n",
       "HeartDisease      0\n",
       "dtype: int64"
      ]
     },
     "execution_count": 27,
     "metadata": {},
     "output_type": "execute_result"
    }
   ],
   "source": [
    "df.isnull().sum()"
   ]
  },
  {
   "cell_type": "markdown",
   "id": "f3d5391a-933e-45cb-a6ec-9f8f2dfd738a",
   "metadata": {},
   "source": [
    "Looks like there are **no missing values**"
   ]
  },
  {
   "cell_type": "markdown",
   "id": "37abf86a-c606-43c7-a227-0dc14cd7df0d",
   "metadata": {},
   "source": [
    "#### Unique values"
   ]
  },
  {
   "cell_type": "code",
   "execution_count": 122,
   "id": "d60b9177-8c15-4eec-bf9d-73b2f650ac89",
   "metadata": {},
   "outputs": [
    {
     "data": {
      "text/html": [
       "<div>\n",
       "<style scoped>\n",
       "    .dataframe tbody tr th:only-of-type {\n",
       "        vertical-align: middle;\n",
       "    }\n",
       "\n",
       "    .dataframe tbody tr th {\n",
       "        vertical-align: top;\n",
       "    }\n",
       "\n",
       "    .dataframe thead th {\n",
       "        text-align: right;\n",
       "    }\n",
       "</style>\n",
       "<table border=\"1\" class=\"dataframe\">\n",
       "  <thead>\n",
       "    <tr style=\"text-align: right;\">\n",
       "      <th></th>\n",
       "      <th>Data types</th>\n",
       "      <th>Unique values</th>\n",
       "    </tr>\n",
       "  </thead>\n",
       "  <tbody>\n",
       "    <tr>\n",
       "      <th>Age</th>\n",
       "      <td>int64</td>\n",
       "      <td>50</td>\n",
       "    </tr>\n",
       "    <tr>\n",
       "      <th>Sex</th>\n",
       "      <td>object</td>\n",
       "      <td>2</td>\n",
       "    </tr>\n",
       "    <tr>\n",
       "      <th>ChestPainType</th>\n",
       "      <td>object</td>\n",
       "      <td>4</td>\n",
       "    </tr>\n",
       "    <tr>\n",
       "      <th>RestingBP</th>\n",
       "      <td>int64</td>\n",
       "      <td>67</td>\n",
       "    </tr>\n",
       "    <tr>\n",
       "      <th>Cholesterol</th>\n",
       "      <td>int64</td>\n",
       "      <td>222</td>\n",
       "    </tr>\n",
       "    <tr>\n",
       "      <th>FastingBS</th>\n",
       "      <td>int64</td>\n",
       "      <td>2</td>\n",
       "    </tr>\n",
       "    <tr>\n",
       "      <th>RestingECG</th>\n",
       "      <td>object</td>\n",
       "      <td>3</td>\n",
       "    </tr>\n",
       "    <tr>\n",
       "      <th>MaxHR</th>\n",
       "      <td>int64</td>\n",
       "      <td>119</td>\n",
       "    </tr>\n",
       "    <tr>\n",
       "      <th>ExerciseAngina</th>\n",
       "      <td>object</td>\n",
       "      <td>2</td>\n",
       "    </tr>\n",
       "    <tr>\n",
       "      <th>Oldpeak</th>\n",
       "      <td>float64</td>\n",
       "      <td>53</td>\n",
       "    </tr>\n",
       "    <tr>\n",
       "      <th>ST_Slope</th>\n",
       "      <td>object</td>\n",
       "      <td>3</td>\n",
       "    </tr>\n",
       "    <tr>\n",
       "      <th>HeartDisease</th>\n",
       "      <td>int64</td>\n",
       "      <td>2</td>\n",
       "    </tr>\n",
       "  </tbody>\n",
       "</table>\n",
       "</div>"
      ],
      "text/plain": [
       "               Data types  Unique values\n",
       "Age                 int64             50\n",
       "Sex                object              2\n",
       "ChestPainType      object              4\n",
       "RestingBP           int64             67\n",
       "Cholesterol         int64            222\n",
       "FastingBS           int64              2\n",
       "RestingECG         object              3\n",
       "MaxHR               int64            119\n",
       "ExerciseAngina     object              2\n",
       "Oldpeak           float64             53\n",
       "ST_Slope           object              3\n",
       "HeartDisease        int64              2"
      ]
     },
     "execution_count": 122,
     "metadata": {},
     "output_type": "execute_result"
    }
   ],
   "source": [
    "pd.concat([df.dtypes.rename('Data types'), df.nunique().rename('Unique values')],\n",
    "          axis=1)"
   ]
  },
  {
   "cell_type": "markdown",
   "id": "dc2178bd-7677-49b6-8da4-b1c299c186bf",
   "metadata": {},
   "source": [
    "As we see all categorical variavles don't have a lot of unique values (We treat \"FastingBS\" as a categorical variable): from 2 to 4"
   ]
  },
  {
   "cell_type": "markdown",
   "id": "526b25ed-89f5-43c3-a585-a7102994602d",
   "metadata": {},
   "source": [
    "#### Checking for Duplicates"
   ]
  },
  {
   "cell_type": "code",
   "execution_count": 60,
   "id": "08387dd5-8fa8-4f1c-9a0a-64db51431a08",
   "metadata": {},
   "outputs": [
    {
     "data": {
      "text/plain": [
       "0      False\n",
       "1      False\n",
       "2      False\n",
       "3      False\n",
       "4      False\n",
       "       ...  \n",
       "913    False\n",
       "914    False\n",
       "915    False\n",
       "916    False\n",
       "917    False\n",
       "Length: 918, dtype: bool"
      ]
     },
     "execution_count": 60,
     "metadata": {},
     "output_type": "execute_result"
    }
   ],
   "source": [
    "df.duplicated() # marks duplicates as True except for the first occurrence."
   ]
  },
  {
   "cell_type": "code",
   "execution_count": 61,
   "id": "fb112818-9e85-493b-b1c4-331145f4ac74",
   "metadata": {},
   "outputs": [
    {
     "data": {
      "text/plain": [
       "0"
      ]
     },
     "execution_count": 61,
     "metadata": {},
     "output_type": "execute_result"
    }
   ],
   "source": [
    "df.duplicated().sum()"
   ]
  },
  {
   "cell_type": "markdown",
   "id": "e6ecb764-f910-4edb-b229-0b4294373ec0",
   "metadata": {},
   "source": [
    "There are **no duplicated values**, I guess we're lucky"
   ]
  },
  {
   "cell_type": "markdown",
   "id": "4ef527b1-d254-4cad-af17-b6ebd942c8dc",
   "metadata": {},
   "source": [
    "#### Summarize"
   ]
  },
  {
   "cell_type": "code",
   "execution_count": 62,
   "id": "05a4b45a-2980-461f-8bc7-abad428ba6aa",
   "metadata": {},
   "outputs": [
    {
     "name": "stdout",
     "output_type": "stream",
     "text": [
      "<class 'pandas.core.frame.DataFrame'>\n",
      "RangeIndex: 918 entries, 0 to 917\n",
      "Data columns (total 12 columns):\n",
      " #   Column          Non-Null Count  Dtype  \n",
      "---  ------          --------------  -----  \n",
      " 0   Age             918 non-null    int64  \n",
      " 1   Sex             918 non-null    object \n",
      " 2   ChestPainType   918 non-null    object \n",
      " 3   RestingBP       918 non-null    int64  \n",
      " 4   Cholesterol     918 non-null    int64  \n",
      " 5   FastingBS       918 non-null    int64  \n",
      " 6   RestingECG      918 non-null    object \n",
      " 7   MaxHR           918 non-null    int64  \n",
      " 8   ExerciseAngina  918 non-null    object \n",
      " 9   Oldpeak         918 non-null    float64\n",
      " 10  ST_Slope        918 non-null    object \n",
      " 11  HeartDisease    918 non-null    int64  \n",
      "dtypes: float64(1), int64(6), object(5)\n",
      "memory usage: 86.2+ KB\n"
     ]
    }
   ],
   "source": [
    "df.info()"
   ]
  },
  {
   "cell_type": "markdown",
   "id": "2f1a5d78-a8cf-4622-a808-3f272c38f451",
   "metadata": {},
   "source": [
    "We see everything we saw before but in a different form"
   ]
  },
  {
   "cell_type": "code",
   "execution_count": 64,
   "id": "2daa6ba6-67aa-4dff-b2cb-da610ef58a4b",
   "metadata": {},
   "outputs": [
    {
     "data": {
      "text/html": [
       "<div>\n",
       "<style scoped>\n",
       "    .dataframe tbody tr th:only-of-type {\n",
       "        vertical-align: middle;\n",
       "    }\n",
       "\n",
       "    .dataframe tbody tr th {\n",
       "        vertical-align: top;\n",
       "    }\n",
       "\n",
       "    .dataframe thead th {\n",
       "        text-align: right;\n",
       "    }\n",
       "</style>\n",
       "<table border=\"1\" class=\"dataframe\">\n",
       "  <thead>\n",
       "    <tr style=\"text-align: right;\">\n",
       "      <th></th>\n",
       "      <th>count</th>\n",
       "      <th>mean</th>\n",
       "      <th>std</th>\n",
       "      <th>min</th>\n",
       "      <th>25%</th>\n",
       "      <th>50%</th>\n",
       "      <th>75%</th>\n",
       "      <th>max</th>\n",
       "    </tr>\n",
       "  </thead>\n",
       "  <tbody>\n",
       "    <tr>\n",
       "      <th>Age</th>\n",
       "      <td>918.0</td>\n",
       "      <td>53.510893</td>\n",
       "      <td>9.432617</td>\n",
       "      <td>28.0</td>\n",
       "      <td>47.00</td>\n",
       "      <td>54.0</td>\n",
       "      <td>60.0</td>\n",
       "      <td>77.0</td>\n",
       "    </tr>\n",
       "    <tr>\n",
       "      <th>RestingBP</th>\n",
       "      <td>918.0</td>\n",
       "      <td>132.396514</td>\n",
       "      <td>18.514154</td>\n",
       "      <td>0.0</td>\n",
       "      <td>120.00</td>\n",
       "      <td>130.0</td>\n",
       "      <td>140.0</td>\n",
       "      <td>200.0</td>\n",
       "    </tr>\n",
       "    <tr>\n",
       "      <th>Cholesterol</th>\n",
       "      <td>918.0</td>\n",
       "      <td>198.799564</td>\n",
       "      <td>109.384145</td>\n",
       "      <td>0.0</td>\n",
       "      <td>173.25</td>\n",
       "      <td>223.0</td>\n",
       "      <td>267.0</td>\n",
       "      <td>603.0</td>\n",
       "    </tr>\n",
       "    <tr>\n",
       "      <th>FastingBS</th>\n",
       "      <td>918.0</td>\n",
       "      <td>0.233115</td>\n",
       "      <td>0.423046</td>\n",
       "      <td>0.0</td>\n",
       "      <td>0.00</td>\n",
       "      <td>0.0</td>\n",
       "      <td>0.0</td>\n",
       "      <td>1.0</td>\n",
       "    </tr>\n",
       "    <tr>\n",
       "      <th>MaxHR</th>\n",
       "      <td>918.0</td>\n",
       "      <td>136.809368</td>\n",
       "      <td>25.460334</td>\n",
       "      <td>60.0</td>\n",
       "      <td>120.00</td>\n",
       "      <td>138.0</td>\n",
       "      <td>156.0</td>\n",
       "      <td>202.0</td>\n",
       "    </tr>\n",
       "    <tr>\n",
       "      <th>Oldpeak</th>\n",
       "      <td>918.0</td>\n",
       "      <td>0.887364</td>\n",
       "      <td>1.066570</td>\n",
       "      <td>-2.6</td>\n",
       "      <td>0.00</td>\n",
       "      <td>0.6</td>\n",
       "      <td>1.5</td>\n",
       "      <td>6.2</td>\n",
       "    </tr>\n",
       "    <tr>\n",
       "      <th>HeartDisease</th>\n",
       "      <td>918.0</td>\n",
       "      <td>0.553377</td>\n",
       "      <td>0.497414</td>\n",
       "      <td>0.0</td>\n",
       "      <td>0.00</td>\n",
       "      <td>1.0</td>\n",
       "      <td>1.0</td>\n",
       "      <td>1.0</td>\n",
       "    </tr>\n",
       "  </tbody>\n",
       "</table>\n",
       "</div>"
      ],
      "text/plain": [
       "              count        mean         std   min     25%    50%    75%    max\n",
       "Age           918.0   53.510893    9.432617  28.0   47.00   54.0   60.0   77.0\n",
       "RestingBP     918.0  132.396514   18.514154   0.0  120.00  130.0  140.0  200.0\n",
       "Cholesterol   918.0  198.799564  109.384145   0.0  173.25  223.0  267.0  603.0\n",
       "FastingBS     918.0    0.233115    0.423046   0.0    0.00    0.0    0.0    1.0\n",
       "MaxHR         918.0  136.809368   25.460334  60.0  120.00  138.0  156.0  202.0\n",
       "Oldpeak       918.0    0.887364    1.066570  -2.6    0.00    0.6    1.5    6.2\n",
       "HeartDisease  918.0    0.553377    0.497414   0.0    0.00    1.0    1.0    1.0"
      ]
     },
     "execution_count": 64,
     "metadata": {},
     "output_type": "execute_result"
    }
   ],
   "source": [
    "df.describe().T # some general information about the quantative variables in the data set"
   ]
  },
  {
   "cell_type": "markdown",
   "id": "c267f364-ee4b-445b-a38b-27adb1909999",
   "metadata": {},
   "source": [
    "As we see the average age is 53"
   ]
  },
  {
   "cell_type": "code",
   "execution_count": 65,
   "id": "e23106e8-e05a-42bd-9d9e-7a25cac6b6eb",
   "metadata": {},
   "outputs": [
    {
     "data": {
      "text/html": [
       "<div>\n",
       "<style scoped>\n",
       "    .dataframe tbody tr th:only-of-type {\n",
       "        vertical-align: middle;\n",
       "    }\n",
       "\n",
       "    .dataframe tbody tr th {\n",
       "        vertical-align: top;\n",
       "    }\n",
       "\n",
       "    .dataframe thead th {\n",
       "        text-align: right;\n",
       "    }\n",
       "</style>\n",
       "<table border=\"1\" class=\"dataframe\">\n",
       "  <thead>\n",
       "    <tr style=\"text-align: right;\">\n",
       "      <th></th>\n",
       "      <th>count</th>\n",
       "      <th>unique</th>\n",
       "      <th>top</th>\n",
       "      <th>freq</th>\n",
       "    </tr>\n",
       "  </thead>\n",
       "  <tbody>\n",
       "    <tr>\n",
       "      <th>Sex</th>\n",
       "      <td>918</td>\n",
       "      <td>2</td>\n",
       "      <td>M</td>\n",
       "      <td>725</td>\n",
       "    </tr>\n",
       "    <tr>\n",
       "      <th>ChestPainType</th>\n",
       "      <td>918</td>\n",
       "      <td>4</td>\n",
       "      <td>ASY</td>\n",
       "      <td>496</td>\n",
       "    </tr>\n",
       "    <tr>\n",
       "      <th>RestingECG</th>\n",
       "      <td>918</td>\n",
       "      <td>3</td>\n",
       "      <td>Normal</td>\n",
       "      <td>552</td>\n",
       "    </tr>\n",
       "    <tr>\n",
       "      <th>ExerciseAngina</th>\n",
       "      <td>918</td>\n",
       "      <td>2</td>\n",
       "      <td>N</td>\n",
       "      <td>547</td>\n",
       "    </tr>\n",
       "    <tr>\n",
       "      <th>ST_Slope</th>\n",
       "      <td>918</td>\n",
       "      <td>3</td>\n",
       "      <td>Flat</td>\n",
       "      <td>460</td>\n",
       "    </tr>\n",
       "  </tbody>\n",
       "</table>\n",
       "</div>"
      ],
      "text/plain": [
       "               count unique     top freq\n",
       "Sex              918      2       M  725\n",
       "ChestPainType    918      4     ASY  496\n",
       "RestingECG       918      3  Normal  552\n",
       "ExerciseAngina   918      2       N  547\n",
       "ST_Slope         918      3    Flat  460"
      ]
     },
     "execution_count": 65,
     "metadata": {},
     "output_type": "execute_result"
    }
   ],
   "source": [
    "df.describe(include = object).T"
   ]
  },
  {
   "cell_type": "markdown",
   "id": "6c7d1fdf-8939-4281-adea-afc45ade0c1e",
   "metadata": {},
   "source": [
    "Do we see it rihgt?\n",
    "<br>It looks like the **class \"Sex\" is imbalanced**\n",
    "<br>Let's see it"
   ]
  },
  {
   "cell_type": "code",
   "execution_count": 67,
   "id": "ba71ea78-c553-4105-a13a-4414a53a7dd2",
   "metadata": {},
   "outputs": [
    {
     "data": {
      "text/plain": [
       "Sex  HeartDisease\n",
       "F    0               143\n",
       "     1                50\n",
       "M    0               267\n",
       "     1               458\n",
       "Name: HeartDisease, dtype: int64"
      ]
     },
     "execution_count": 67,
     "metadata": {},
     "output_type": "execute_result"
    }
   ],
   "source": [
    "df.groupby(['Sex', 'HeartDisease']).HeartDisease.count()"
   ]
  },
  {
   "cell_type": "code",
   "execution_count": 72,
   "id": "50fa3f82-5729-47bc-8a67-59ccdd1769e7",
   "metadata": {},
   "outputs": [
    {
     "name": "stdout",
     "output_type": "stream",
     "text": [
      "63.17% of males have heart desiase and 34.97% of females\n"
     ]
    }
   ],
   "source": [
    "# Let's compare proportions\n",
    "print(f'{458 / 725 * 100:.2f}% of males have heart desiase and {50 / 143 * 100:.2f}% of females')"
   ]
  },
  {
   "cell_type": "markdown",
   "id": "56dfe90b-c5a3-4576-806d-ed942b481c34",
   "metadata": {},
   "source": [
    "Most of the patients in the data are males and the proportion of healthy women is bigger than healty men in the data"
   ]
  },
  {
   "cell_type": "markdown",
   "id": "e7708c06-a70a-4fbc-a430-849265092158",
   "metadata": {},
   "source": [
    "What about our target variable?"
   ]
  },
  {
   "cell_type": "code",
   "execution_count": 30,
   "id": "cb8c4841-4c5f-415b-a3c2-e00d3876cb97",
   "metadata": {
    "scrolled": true
   },
   "outputs": [
    {
     "data": {
      "text/plain": [
       "FastingBS\n",
       "0    0.766885\n",
       "1    0.233115\n",
       "Name: proportion, dtype: float64"
      ]
     },
     "execution_count": 30,
     "metadata": {},
     "output_type": "execute_result"
    }
   ],
   "source": [
    "df.FastingBS.value_counts(normalize = True)"
   ]
  },
  {
   "cell_type": "markdown",
   "id": "52e7dd84-b752-4d1f-a780-6da57d054d9f",
   "metadata": {},
   "source": [
    "23% of all patients have fasting blood sugar and 76% don't"
   ]
  },
  {
   "cell_type": "code",
   "execution_count": null,
   "id": "f9036a17-1b93-4a1d-bcb3-7a3c52f077df",
   "metadata": {},
   "outputs": [],
   "source": []
  },
  {
   "cell_type": "markdown",
   "id": "a6d76bf4-0d09-446d-91ec-122d4b7ee4e0",
   "metadata": {},
   "source": [
    "### Visualization\n",
    "Let's add several charts and graphs so we could see the differences and get a better understanding of our data\n",
    "<br>*Some plots and their code were taken from my another EDA (Students Exam Perfomance)*"
   ]
  },
  {
   "cell_type": "markdown",
   "id": "7827d913-4324-48bf-8663-1166b634bb47",
   "metadata": {},
   "source": [
    "#### Basic information about the number of men and women and also the number of people with Heart Disease"
   ]
  },
  {
   "cell_type": "code",
   "execution_count": 28,
   "id": "d81ee3df-22b8-4940-9070-12dff8da83b5",
   "metadata": {},
   "outputs": [
    {
     "data": {
      "image/png": "[encoded data removed]",
      "text/plain": [
       "<Figure size 1000x1000 with 2 Axes>"
      ]
     },
     "metadata": {},
     "output_type": "display_data"
    }
   ],
   "source": [
    "fig, axes = plt.subplots(1, 2, figsize = (10, 10))\n",
    "\n",
    "\n",
    "\n",
    "axes[0].pie(df.Sex.value_counts(), \n",
    "        labels = ['Male', 'Female'], \n",
    "        explode= [0.05, 0.05], \n",
    "        startangle = 70, \n",
    "        colors = ['#7D7ADE', '#EB9AC5'], \n",
    "        autopct = '%.2f%%')\n",
    "\n",
    "legend = axes[0].legend(title = \"Sex:\",\n",
    "           loc = 'upper right',\n",
    "           fontsize=\"10\")\n",
    "legend.get_title().set_fontsize(11)\n",
    "axes[0].set_title('Sex Distribution', fontweight='bold')\n",
    "# leg = ax.legend()\n",
    "# leg.set_title('A great legend',prop={'size':14}) just another way of doing this\n",
    "\n",
    "\n",
    "axes[1].pie(df.HeartDisease.value_counts(), \n",
    "        labels = ['Yes HD', 'No HD'], \n",
    "        explode= [0.03, 0.03], \n",
    "        startangle = 90, \n",
    "        colors = ['#EB4863', '#BAC5FD'], \n",
    "        autopct = '%.2f%%')\n",
    "\n",
    "legend = axes[1].legend(title = \"HD:\",\n",
    "           loc = 'upper right',\n",
    "           fontsize=\"10\")\n",
    "legend.get_title().set_fontsize(11)\n",
    "axes[1].set_title('Heart Disease', fontweight='bold')\n",
    "\n",
    "\n",
    "\n",
    "\n",
    "plt.tight_layout()\n",
    "plt.show() # to remove unnecessary description at the top of the graph\n"
   ]
  },
  {
   "cell_type": "markdown",
   "id": "a191b854-365c-4a04-b5ae-7960a361ed6a",
   "metadata": {},
   "source": [
    "We can say that class \"HeartDisease\" is not highly imbalbanced (the difference is just 11%) unlike the class Sex"
   ]
  },
  {
   "cell_type": "markdown",
   "id": "da782edd-f03b-4a72-8f8f-cf34abfb0f87",
   "metadata": {},
   "source": [
    "We can add another chart to see the difference between these two classes (**Heart Disease vs Sex**)"
   ]
  },
  {
   "cell_type": "code",
   "execution_count": 102,
   "id": "71aece62-5623-4ab4-9b78-658299b0af92",
   "metadata": {},
   "outputs": [
    {
     "data": {
      "image/png": "[encoded data removed]",
      "text/plain": [
       "<Figure size 800x300 with 1 Axes>"
      ]
     },
     "metadata": {},
     "output_type": "display_data"
    }
   ],
   "source": [
    "plt.figure(figsize=(8, 3))\n",
    "\n",
    "chart = sns.countplot(y = \"HeartDisease\",\n",
    "                      hue = \"Sex\",\n",
    "                      data = df,palette= 'pastel') # y = ... changer graph to horizontal one\n",
    "chart.legend(loc='upper right',\n",
    "             frameon=True)\n",
    "\n",
    "plt.title('Sex vs Heart Disease',\n",
    "          fontsize = 13,\n",
    "          fontweight='bold')\n",
    "\n",
    "x_ticks = list(df.groupby([ 'HeartDisease', 'Sex']).HeartDisease.count().values)\n",
    "\n",
    "#for i in range(len(x_ticks)): # So we could see the lines\n",
    "#    plt.axvline(x_ticks[i],\n",
    "#            color='gray',\n",
    "#            linewidth=1,\n",
    "#            alpha = 0.5)\n",
    "\n",
    "for container in chart.containers:\n",
    "    chart.bar_label(container,\n",
    "                    color='black',\n",
    "                    size=9.5,\n",
    "                    fontweight='bold') # So we could see the numbers \n",
    "\n",
    "\n",
    "chart.set_xticks(sorted([100, 200, 300, 400] + x_ticks))\n",
    "chart.set_ylabel('Heart Disease',\n",
    "                 fontweight = 'bold')\n",
    "\n",
    "plt.show()"
   ]
  },
  {
   "cell_type": "markdown",
   "id": "5a9de88b-b616-4f80-ac57-71e67e7316ec",
   "metadata": {},
   "source": [
    "#### Let's look at the age distribution"
   ]
  },
  {
   "cell_type": "code",
   "execution_count": 62,
   "id": "e8f5b457-ce19-46cd-b5ad-a65f064d7c99",
   "metadata": {},
   "outputs": [
    {
     "data": {
      "image/png": "[encoded data removed]",
      "text/plain": [
       "<Figure size 1500x700 with 2 Axes>"
      ]
     },
     "metadata": {},
     "output_type": "display_data"
    }
   ],
   "source": [
    "fig, axes = plt.subplots(1, 2, figsize=(15, 7))\n",
    "\n",
    "sns.histplot(data = df,\n",
    "             x = 'Age',\n",
    "             bins = 25,\n",
    "             kde = True,\n",
    "             color = '#869ADB',\n",
    "             ax = axes[0])\n",
    "axes[0].set_title('Age Distribution',\n",
    "          fontweight=\"bold\",\n",
    "          size=13)\n",
    "\n",
    "axes[0].axvline(np.mean(df['Age']), color='red', linewidth=2, label=\"mean\")\n",
    "axes[0].legend()\n",
    "axes[0].set_xlabel('Age', size = 13)\n",
    "axes[0].set_xticks([30, 40, 50, np.round(np.mean(df['Age']),1), 60, 70])\n",
    "axes[0].set_xticklabels(axes[0].get_xticks(), rotation = 50)\n",
    "\n",
    "\n",
    "# \n",
    "no_hd = np.round(np.mean(df[df['HeartDisease'] == 0]['Age']),1)\n",
    "yes_hd = np.round(np.mean(df[df['HeartDisease'] == 1]['Age']),1)\n",
    "sns.histplot(data = df,\n",
    "             x = 'Age',\n",
    "             bins = 25,\n",
    "             kde = True,\n",
    "             palette = 'Pastel2',\n",
    "             ax = axes[1],\n",
    "             hue='HeartDisease',alpha = 0.4)\n",
    "\n",
    "axes[1].set_title('Age Distribution vs HD',\n",
    "          fontweight=\"bold\",\n",
    "          size=13)\n",
    "\n",
    "axes[1].axvline(no_hd,\n",
    "                color='green',\n",
    "                linewidth=2,\n",
    "                label=\"none course mean\")\n",
    "axes[1].axvline(yes_hd,\n",
    "                color='#FF8900',\n",
    "                linewidth=2,\n",
    "                label=\"course completed mean\")\n",
    "axes[1].set_xlabel('Age', size = 13)\n",
    "axes[1].set_xticks([30, 40, no_hd,yes_hd, 60, 70]) # we add means to the graph\n",
    "\n",
    "plt.show()"
   ]
  },
  {
   "cell_type": "markdown",
   "id": "66c73991-2ed0-4822-b014-b36631672ce6",
   "metadata": {},
   "source": [
    "* According to the graph, people with heart disease tend to be almost 6 years older\n",
    "* The distribution of people with heart disease resembles normal (but we'll check that later)"
   ]
  },
  {
   "cell_type": "code",
   "execution_count": 118,
   "id": "a04751ef-1eb9-4c64-b214-760d7b09dc37",
   "metadata": {},
   "outputs": [
    {
     "data": {
      "text/html": [
       "<div>\n",
       "<style scoped>\n",
       "    .dataframe tbody tr th:only-of-type {\n",
       "        vertical-align: middle;\n",
       "    }\n",
       "\n",
       "    .dataframe tbody tr th {\n",
       "        vertical-align: top;\n",
       "    }\n",
       "\n",
       "    .dataframe thead th {\n",
       "        text-align: right;\n",
       "    }\n",
       "</style>\n",
       "<table border=\"1\" class=\"dataframe\">\n",
       "  <thead>\n",
       "    <tr style=\"text-align: right;\">\n",
       "      <th></th>\n",
       "      <th>count</th>\n",
       "      <th>mean</th>\n",
       "      <th>median</th>\n",
       "      <th>std</th>\n",
       "      <th>max</th>\n",
       "      <th>min</th>\n",
       "    </tr>\n",
       "    <tr>\n",
       "      <th>HeartDisease</th>\n",
       "      <th></th>\n",
       "      <th></th>\n",
       "      <th></th>\n",
       "      <th></th>\n",
       "      <th></th>\n",
       "      <th></th>\n",
       "    </tr>\n",
       "  </thead>\n",
       "  <tbody>\n",
       "    <tr>\n",
       "      <th>0</th>\n",
       "      <td>410</td>\n",
       "      <td>50.551220</td>\n",
       "      <td>51.0</td>\n",
       "      <td>9.444915</td>\n",
       "      <td>76</td>\n",
       "      <td>28</td>\n",
       "    </tr>\n",
       "    <tr>\n",
       "      <th>1</th>\n",
       "      <td>508</td>\n",
       "      <td>55.899606</td>\n",
       "      <td>57.0</td>\n",
       "      <td>8.727056</td>\n",
       "      <td>77</td>\n",
       "      <td>31</td>\n",
       "    </tr>\n",
       "  </tbody>\n",
       "</table>\n",
       "</div>"
      ],
      "text/plain": [
       "              count       mean  median       std  max  min\n",
       "HeartDisease                                              \n",
       "0               410  50.551220    51.0  9.444915   76   28\n",
       "1               508  55.899606    57.0  8.727056   77   31"
      ]
     },
     "execution_count": 118,
     "metadata": {},
     "output_type": "execute_result"
    }
   ],
   "source": [
    "# More information about Age and HD\n",
    "df.groupby(['HeartDisease']).Age.agg(['count', 'mean', 'median', 'std', 'max', 'min'])"
   ]
  },
  {
   "cell_type": "markdown",
   "id": "0675e458-da1c-4ba3-8527-2c9779639486",
   "metadata": {},
   "source": [
    "It seems that not only means are different but also medians"
   ]
  },
  {
   "cell_type": "markdown",
   "id": "44334446-10a8-4609-aa90-183e2a737381",
   "metadata": {},
   "source": [
    "#### Chest Pain Type and Sex\n",
    "We want to see if men and women have diffrent types or they have primarily just one type of pain"
   ]
  },
  {
   "cell_type": "code",
   "execution_count": 104,
   "id": "5103f9a3-14c7-47cf-817b-69fb313c4400",
   "metadata": {},
   "outputs": [
    {
     "data": {
      "application/vnd.plotly.v1+json": {
       "config": {
        "plotlyServerURL": "https://plot.ly"
       },
       "data": [
        {
         "alignmentgroup": "True",
         "bingroup": "x",
         "hovertemplate": "Sex=M<br>ChestPainType=%{x}<br>count=%{y}<extra></extra>",
         "legendgroup": "M",
         "marker": {
          "color": "#71AEC2 ",
          "pattern": {
           "shape": ""
          }
         },
         "name": "M",
         "offsetgroup": "M",
         "orientation": "v",
         "showlegend": true,
         "type": "histogram",
         "x": [
          "ATA",
          "ATA",
          "NAP",
          "NAP",
          "ATA",
          "ASY",
          "ATA",
          "ATA",
          "ASY",
          "ASY",
          "ASY",
          "ATA",
          "ATA",
          "ATA",
          "NAP",
          "NAP",
          "ASY",
          "ATA",
          "ATA",
          "NAP",
          "NAP",
          "ASY",
          "ASY",
          "ATA",
          "ASY",
          "ATA",
          "NAP",
          "ASY",
          "NAP",
          "ASY",
          "ATA",
          "NAP",
          "ASY",
          "ASY",
          "ATA",
          "ASY",
          "NAP",
          "ASY",
          "ASY",
          "ATA",
          "ASY",
          "ASY",
          "ATA",
          "ASY",
          "ASY",
          "ATA",
          "ATA",
          "ASY",
          "ASY",
          "NAP",
          "ASY",
          "ATA",
          "ASY",
          "NAP",
          "ATA",
          "ASY",
          "ATA",
          "ASY",
          "ASY",
          "ASY",
          "TA",
          "ASY",
          "ASY",
          "ASY",
          "ASY",
          "ATA",
          "NAP",
          "ASY",
          "ATA",
          "ASY",
          "ASY",
          "ASY",
          "ASY",
          "ATA",
          "ATA",
          "ASY",
          "ATA",
          "ASY",
          "ASY",
          "ATA",
          "ASY",
          "TA",
          "ASY",
          "ATA",
          "ATA",
          "NAP",
          "NAP",
          "ASY",
          "ASY",
          "ASY",
          "NAP",
          "ATA",
          "ASY",
          "ASY",
          "ASY",
          "ASY",
          "ASY",
          "ASY",
          "ASY",
          "ATA",
          "ATA",
          "ASY",
          "ATA",
          "ATA",
          "ATA",
          "ASY",
          "ATA",
          "ASY",
          "ASY",
          "ASY",
          "ASY",
          "ATA",
          "ASY",
          "ASY",
          "ATA",
          "ATA",
          "TA",
          "ASY",
          "ATA",
          "ASY",
          "NAP",
          "ATA",
          "NAP",
          "ATA",
          "NAP",
          "ASY",
          "ASY",
          "ASY",
          "ATA",
          "NAP",
          "ASY",
          "ATA",
          "ASY",
          "ASY",
          "NAP",
          "ATA",
          "ASY",
          "ASY",
          "ASY",
          "ATA",
          "ATA",
          "NAP",
          "ASY",
          "ATA",
          "ASY",
          "TA",
          "NAP",
          "NAP",
          "ATA",
          "ASY",
          "ATA",
          "ATA",
          "ATA",
          "ASY",
          "ASY",
          "NAP",
          "ASY",
          "ASY",
          "NAP",
          "ATA",
          "ATA",
          "ASY",
          "NAP",
          "ATA",
          "ASY",
          "NAP",
          "ASY",
          "ATA",
          "ASY",
          "NAP",
          "ASY",
          "ATA",
          "ASY",
          "TA",
          "ASY",
          "ASY",
          "ATA",
          "ASY",
          "ATA",
          "ASY",
          "TA",
          "NAP",
          "ASY",
          "ASY",
          "ASY",
          "ASY",
          "ASY",
          "ASY",
          "ATA",
          "ASY",
          "NAP",
          "ATA",
          "ASY",
          "ASY",
          "NAP",
          "ATA",
          "ASY",
          "ATA",
          "ASY",
          "ASY",
          "ASY",
          "NAP",
          "NAP",
          "NAP",
          "ASY",
          "NAP",
          "ASY",
          "ASY",
          "ASY",
          "ATA",
          "ATA",
          "NAP",
          "ASY",
          "ASY",
          "TA",
          "ASY",
          "ASY",
          "ASY",
          "ASY",
          "ASY",
          "ASY",
          "ATA",
          "ASY",
          "ASY",
          "ASY",
          "ATA",
          "ASY",
          "ASY",
          "ASY",
          "ASY",
          "ASY",
          "ASY",
          "ASY",
          "ATA",
          "NAP",
          "ASY",
          "ASY",
          "ASY",
          "NAP",
          "ASY",
          "ASY",
          "ASY",
          "ASY",
          "NAP",
          "ASY",
          "ASY",
          "ASY",
          "NAP",
          "ASY",
          "NAP",
          "ASY",
          "ASY",
          "TA",
          "NAP",
          "ASY",
          "ASY",
          "ASY",
          "ASY",
          "ASY",
          "ASY",
          "ASY",
          "ASY",
          "ASY",
          "ASY",
          "ASY",
          "ASY",
          "ASY",
          "ASY",
          "ASY",
          "ASY",
          "ASY",
          "TA",
          "ASY",
          "ATA",
          "NAP",
          "NAP",
          "NAP",
          "ASY",
          "NAP",
          "ASY",
          "NAP",
          "ASY",
          "ASY",
          "ASY",
          "ASY",
          "ASY",
          "ASY",
          "ASY",
          "ASY",
          "ASY",
          "NAP",
          "ASY",
          "ASY",
          "ASY",
          "ASY",
          "ASY",
          "ASY",
          "ASY",
          "ASY",
          "ASY",
          "ASY",
          "ASY",
          "ASY",
          "ASY",
          "ASY",
          "ASY",
          "ASY",
          "ASY",
          "ASY",
          "ASY",
          "ASY",
          "NAP",
          "ASY",
          "ASY",
          "ASY",
          "NAP",
          "ASY",
          "ASY",
          "ASY",
          "ASY",
          "NAP",
          "ASY",
          "ASY",
          "ASY",
          "NAP",
          "ASY",
          "ASY",
          "ASY",
          "ASY",
          "ASY",
          "NAP",
          "NAP",
          "ASY",
          "NAP",
          "NAP",
          "ATA",
          "ATA",
          "ASY",
          "ASY",
          "NAP",
          "ASY",
          "ASY",
          "ASY",
          "ASY",
          "ASY",
          "ASY",
          "ASY",
          "ASY",
          "NAP",
          "NAP",
          "NAP",
          "ASY",
          "ASY",
          "ASY",
          "ASY",
          "NAP",
          "ASY",
          "ASY",
          "ASY",
          "NAP",
          "NAP",
          "ASY",
          "ASY",
          "ASY",
          "ASY",
          "ASY",
          "NAP",
          "ASY",
          "ASY",
          "ASY",
          "ASY",
          "ASY",
          "ASY",
          "ASY",
          "NAP",
          "NAP",
          "NAP",
          "ASY",
          "ATA",
          "ASY",
          "ASY",
          "ASY",
          "NAP",
          "ATA",
          "ASY",
          "ASY",
          "ASY",
          "ASY",
          "NAP",
          "ATA",
          "NAP",
          "TA",
          "ASY",
          "ASY",
          "ATA",
          "ATA",
          "ASY",
          "TA",
          "ASY",
          "NAP",
          "ASY",
          "TA",
          "NAP",
          "ASY",
          "ASY",
          "ASY",
          "ASY",
          "ASY",
          "ASY",
          "ASY",
          "ASY",
          "ASY",
          "ASY",
          "NAP",
          "ASY",
          "NAP",
          "ASY",
          "ASY",
          "ASY",
          "ASY",
          "NAP",
          "TA",
          "ASY",
          "NAP",
          "NAP",
          "ASY",
          "NAP",
          "ASY",
          "ASY",
          "ASY",
          "ASY",
          "ASY",
          "ASY",
          "NAP",
          "ASY",
          "ATA",
          "NAP",
          "ASY",
          "ASY",
          "ASY",
          "ASY",
          "ASY",
          "ASY",
          "ASY",
          "NAP",
          "ASY",
          "ASY",
          "ASY",
          "NAP",
          "NAP",
          "ASY",
          "ASY",
          "NAP",
          "TA",
          "ASY",
          "TA",
          "ASY",
          "NAP",
          "NAP",
          "TA",
          "NAP",
          "NAP",
          "ASY",
          "NAP",
          "NAP",
          "ASY",
          "NAP",
          "ATA",
          "ASY",
          "ASY",
          "ASY",
          "ASY",
          "ASY",
          "ASY",
          "ASY",
          "ASY",
          "ASY",
          "ASY",
          "ASY",
          "ASY",
          "ASY",
          "ASY",
          "ASY",
          "ASY",
          "ASY",
          "ASY",
          "ASY",
          "ASY",
          "ASY",
          "NAP",
          "ASY",
          "ATA",
          "ASY",
          "NAP",
          "ASY",
          "NAP",
          "ATA",
          "ASY",
          "ASY",
          "ASY",
          "ASY",
          "ASY",
          "ASY",
          "NAP",
          "ASY",
          "ASY",
          "ASY",
          "NAP",
          "NAP",
          "ASY",
          "NAP",
          "ASY",
          "ASY",
          "ASY",
          "ASY",
          "TA",
          "ASY",
          "ASY",
          "ATA",
          "ASY",
          "ATA",
          "ASY",
          "ASY",
          "NAP",
          "ASY",
          "ASY",
          "ASY",
          "ASY",
          "NAP",
          "TA",
          "ASY",
          "ASY",
          "TA",
          "TA",
          "ASY",
          "ATA",
          "ASY",
          "ASY",
          "NAP",
          "NAP",
          "ASY",
          "ASY",
          "ASY",
          "ASY",
          "ASY",
          "TA",
          "NAP",
          "ASY",
          "ASY",
          "NAP",
          "ATA",
          "NAP",
          "NAP",
          "NAP",
          "ASY",
          "ATA",
          "ASY",
          "ATA",
          "ASY",
          "ATA",
          "NAP",
          "NAP",
          "TA",
          "ASY",
          "ASY",
          "NAP",
          "ASY",
          "ATA",
          "ASY",
          "ASY",
          "ATA",
          "ASY",
          "ASY",
          "ASY",
          "NAP",
          "ASY",
          "TA",
          "ATA",
          "TA",
          "ASY",
          "ATA",
          "ASY",
          "ASY",
          "ASY",
          "ASY",
          "ASY",
          "ASY",
          "ASY",
          "ASY",
          "ASY",
          "ASY",
          "NAP",
          "ASY",
          "ATA",
          "ATA",
          "ASY",
          "ASY",
          "NAP",
          "ASY",
          "ASY",
          "NAP",
          "ASY",
          "ATA",
          "ASY",
          "ASY",
          "ASY",
          "ASY",
          "NAP",
          "ASY",
          "ASY",
          "ASY",
          "ASY",
          "NAP",
          "TA",
          "ATA",
          "ASY",
          "ASY",
          "ASY",
          "NAP",
          "NAP",
          "ASY",
          "ATA",
          "TA",
          "TA",
          "ATA",
          "ASY",
          "ASY",
          "NAP",
          "TA",
          "TA",
          "NAP",
          "ASY",
          "TA",
          "ASY",
          "NAP",
          "ASY",
          "NAP",
          "NAP",
          "ASY",
          "NAP",
          "NAP",
          "ASY",
          "ASY",
          "NAP",
          "ASY",
          "ASY",
          "ATA",
          "ASY",
          "NAP",
          "ASY",
          "NAP",
          "ASY",
          "ASY",
          "ASY",
          "ASY",
          "TA",
          "NAP",
          "NAP",
          "NAP",
          "TA",
          "NAP",
          "ASY",
          "ATA",
          "NAP",
          "NAP",
          "ATA",
          "ASY",
          "ASY",
          "NAP",
          "ASY",
          "ATA",
          "TA",
          "ASY",
          "ASY",
          "ASY",
          "NAP",
          "ASY",
          "NAP",
          "ATA",
          "NAP",
          "NAP",
          "ASY",
          "ASY",
          "NAP",
          "ASY",
          "ASY",
          "ATA",
          "ASY",
          "NAP",
          "NAP",
          "NAP",
          "ASY",
          "NAP",
          "ASY",
          "ASY",
          "ATA",
          "ATA",
          "ATA",
          "NAP",
          "ATA",
          "ASY",
          "ASY",
          "NAP",
          "ASY",
          "ASY",
          "TA",
          "TA",
          "ATA",
          "ASY",
          "NAP",
          "ATA",
          "ASY",
          "ASY",
          "ATA",
          "ATA",
          "ATA",
          "NAP",
          "ASY",
          "ASY",
          "ATA",
          "ASY",
          "TA",
          "ASY",
          "ASY",
          "NAP"
         ],
         "xaxis": "x",
         "yaxis": "y"
        },
        {
         "alignmentgroup": "True",
         "bingroup": "x",
         "hovertemplate": "Sex=F<br>ChestPainType=%{x}<br>count=%{y}<extra></extra>",
         "legendgroup": "F",
         "marker": {
          "color": "#D58989",
          "pattern": {
           "shape": ""
          }
         },
         "name": "F",
         "offsetgroup": "F",
         "orientation": "v",
         "showlegend": true,
         "type": "histogram",
         "x": [
          "NAP",
          "ASY",
          "ATA",
          "ATA",
          "NAP",
          "NAP",
          "ATA",
          "ATA",
          "TA",
          "ATA",
          "ATA",
          "ATA",
          "ATA",
          "ATA",
          "ASY",
          "ATA",
          "NAP",
          "ASY",
          "ATA",
          "ASY",
          "ATA",
          "NAP",
          "ATA",
          "ATA",
          "ASY",
          "ASY",
          "ASY",
          "ATA",
          "ATA",
          "ATA",
          "NAP",
          "ASY",
          "ASY",
          "ATA",
          "NAP",
          "ASY",
          "ASY",
          "TA",
          "NAP",
          "NAP",
          "ATA",
          "ATA",
          "ASY",
          "ATA",
          "ASY",
          "ATA",
          "ATA",
          "ATA",
          "ATA",
          "ASY",
          "ATA",
          "ASY",
          "ATA",
          "TA",
          "TA",
          "ATA",
          "NAP",
          "NAP",
          "TA",
          "ASY",
          "NAP",
          "ASY",
          "ATA",
          "ATA",
          "ATA",
          "NAP",
          "ATA",
          "NAP",
          "ATA",
          "ATA",
          "NAP",
          "ATA",
          "ATA",
          "ASY",
          "ATA",
          "NAP",
          "ATA",
          "NAP",
          "ATA",
          "ATA",
          "ASY",
          "ASY",
          "ASY",
          "ASY",
          "ASY",
          "NAP",
          "ASY",
          "TA",
          "ASY",
          "ASY",
          "ATA",
          "ASY",
          "ASY",
          "ATA",
          "ASY",
          "ASY",
          "NAP",
          "ATA",
          "ASY",
          "ASY",
          "ASY",
          "ATA",
          "NAP",
          "ASY",
          "NAP",
          "NAP",
          "NAP",
          "ASY",
          "ASY",
          "NAP",
          "ATA",
          "ATA",
          "ATA",
          "NAP",
          "ASY",
          "ASY",
          "TA",
          "ATA",
          "NAP",
          "ASY",
          "NAP",
          "ASY",
          "NAP",
          "NAP",
          "ATA",
          "ASY",
          "NAP",
          "ATA",
          "NAP",
          "ASY",
          "ASY",
          "ATA",
          "ASY",
          "ASY",
          "NAP",
          "ATA",
          "ASY",
          "TA",
          "NAP",
          "NAP",
          "NAP",
          "ASY",
          "NAP",
          "NAP",
          "ATA",
          "NAP",
          "NAP",
          "NAP",
          "ASY",
          "NAP",
          "ATA",
          "ASY",
          "ASY",
          "ASY",
          "ASY",
          "ASY",
          "NAP",
          "ASY",
          "ASY",
          "ASY",
          "ASY",
          "ATA",
          "ASY",
          "NAP",
          "TA",
          "NAP",
          "NAP",
          "ATA",
          "NAP",
          "ASY",
          "NAP",
          "ASY",
          "TA",
          "ASY",
          "ASY",
          "ASY",
          "ASY",
          "ASY",
          "NAP",
          "NAP",
          "ATA",
          "NAP",
          "ATA",
          "NAP",
          "NAP",
          "NAP",
          "ASY",
          "ASY",
          "ASY",
          "ATA",
          "ASY",
          "ASY",
          "ATA"
         ],
         "xaxis": "x",
         "yaxis": "y"
        }
       ],
       "layout": {
        "autosize": true,
        "barmode": "group",
        "legend": {
         "title": {
          "text": "Sex"
         },
         "tracegroupgap": 0
        },
        "template": {
         "data": {
          "bar": [
           {
            "error_x": {
             "color": "#f2f5fa"
            },
            "error_y": {
             "color": "#f2f5fa"
            },
            "marker": {
             "line": {
              "color": "rgb(17,17,17)",
              "width": 0.5
             },
             "pattern": {
              "fillmode": "overlay",
              "size": 10,
              "solidity": 0.2
             }
            },
            "type": "bar"
           }
          ],
          "barpolar": [
           {
            "marker": {
             "line": {
              "color": "rgb(17,17,17)",
              "width": 0.5
             },
             "pattern": {
              "fillmode": "overlay",
              "size": 10,
              "solidity": 0.2
             }
            },
            "type": "barpolar"
           }
          ],
          "carpet": [
           {
            "aaxis": {
             "endlinecolor": "#A2B1C6",
             "gridcolor": "#506784",
             "linecolor": "#506784",
             "minorgridcolor": "#506784",
             "startlinecolor": "#A2B1C6"
            },
            "baxis": {
             "endlinecolor": "#A2B1C6",
             "gridcolor": "#506784",
             "linecolor": "#506784",
             "minorgridcolor": "#506784",
             "startlinecolor": "#A2B1C6"
            },
            "type": "carpet"
           }
          ],
          "choropleth": [
           {
            "colorbar": {
             "outlinewidth": 0,
             "ticks": ""
            },
            "type": "choropleth"
           }
          ],
          "contour": [
           {
            "colorbar": {
             "outlinewidth": 0,
             "ticks": ""
            },
            "colorscale": [
             [
              0,
              "#0d0887"
             ],
             [
              0.1111111111111111,
              "#46039f"
             ],
             [
              0.2222222222222222,
              "#7201a8"
             ],
             [
              0.3333333333333333,
              "#9c179e"
             ],
             [
              0.4444444444444444,
              "#bd3786"
             ],
             [
              0.5555555555555556,
              "#d8576b"
             ],
             [
              0.6666666666666666,
              "#ed7953"
             ],
             [
              0.7777777777777778,
              "#fb9f3a"
             ],
             [
              0.8888888888888888,
              "#fdca26"
             ],
             [
              1,
              "#f0f921"
             ]
            ],
            "type": "contour"
           }
          ],
          "contourcarpet": [
           {
            "colorbar": {
             "outlinewidth": 0,
             "ticks": ""
            },
            "type": "contourcarpet"
           }
          ],
          "heatmap": [
           {
            "colorbar": {
             "outlinewidth": 0,
             "ticks": ""
            },
            "colorscale": [
             [
              0,
              "#0d0887"
             ],
             [
              0.1111111111111111,
              "#46039f"
             ],
             [
              0.2222222222222222,
              "#7201a8"
             ],
             [
              0.3333333333333333,
              "#9c179e"
             ],
             [
              0.4444444444444444,
              "#bd3786"
             ],
             [
              0.5555555555555556,
              "#d8576b"
             ],
             [
              0.6666666666666666,
              "#ed7953"
             ],
             [
              0.7777777777777778,
              "#fb9f3a"
             ],
             [
              0.8888888888888888,
              "#fdca26"
             ],
             [
              1,
              "#f0f921"
             ]
            ],
            "type": "heatmap"
           }
          ],
          "heatmapgl": [
           {
            "colorbar": {
             "outlinewidth": 0,
             "ticks": ""
            },
            "colorscale": [
             [
              0,
              "#0d0887"
             ],
             [
              0.1111111111111111,
              "#46039f"
             ],
             [
              0.2222222222222222,
              "#7201a8"
             ],
             [
              0.3333333333333333,
              "#9c179e"
             ],
             [
              0.4444444444444444,
              "#bd3786"
             ],
             [
              0.5555555555555556,
              "#d8576b"
             ],
             [
              0.6666666666666666,
              "#ed7953"
             ],
             [
              0.7777777777777778,
              "#fb9f3a"
             ],
             [
              0.8888888888888888,
              "#fdca26"
             ],
             [
              1,
              "#f0f921"
             ]
            ],
            "type": "heatmapgl"
           }
          ],
          "histogram": [
           {
            "marker": {
             "pattern": {
              "fillmode": "overlay",
              "size": 10,
              "solidity": 0.2
             }
            },
            "type": "histogram"
           }
          ],
          "histogram2d": [
           {
            "colorbar": {
             "outlinewidth": 0,
             "ticks": ""
            },
            "colorscale": [
             [
              0,
              "#0d0887"
             ],
             [
              0.1111111111111111,
              "#46039f"
             ],
             [
              0.2222222222222222,
              "#7201a8"
             ],
             [
              0.3333333333333333,
              "#9c179e"
             ],
             [
              0.4444444444444444,
              "#bd3786"
             ],
             [
              0.5555555555555556,
              "#d8576b"
             ],
             [
              0.6666666666666666,
              "#ed7953"
             ],
             [
              0.7777777777777778,
              "#fb9f3a"
             ],
             [
              0.8888888888888888,
              "#fdca26"
             ],
             [
              1,
              "#f0f921"
             ]
            ],
            "type": "histogram2d"
           }
          ],
          "histogram2dcontour": [
           {
            "colorbar": {
             "outlinewidth": 0,
             "ticks": ""
            },
            "colorscale": [
             [
              0,
              "#0d0887"
             ],
             [
              0.1111111111111111,
              "#46039f"
             ],
             [
              0.2222222222222222,
              "#7201a8"
             ],
             [
              0.3333333333333333,
              "#9c179e"
             ],
             [
              0.4444444444444444,
              "#bd3786"
             ],
             [
              0.5555555555555556,
              "#d8576b"
             ],
             [
              0.6666666666666666,
              "#ed7953"
             ],
             [
              0.7777777777777778,
              "#fb9f3a"
             ],
             [
              0.8888888888888888,
              "#fdca26"
             ],
             [
              1,
              "#f0f921"
             ]
            ],
            "type": "histogram2dcontour"
           }
          ],
          "mesh3d": [
           {
            "colorbar": {
             "outlinewidth": 0,
             "ticks": ""
            },
            "type": "mesh3d"
           }
          ],
          "parcoords": [
           {
            "line": {
             "colorbar": {
              "outlinewidth": 0,
              "ticks": ""
             }
            },
            "type": "parcoords"
           }
          ],
          "pie": [
           {
            "automargin": true,
            "type": "pie"
           }
          ],
          "scatter": [
           {
            "marker": {
             "line": {
              "color": "#283442"
             }
            },
            "type": "scatter"
           }
          ],
          "scatter3d": [
           {
            "line": {
             "colorbar": {
              "outlinewidth": 0,
              "ticks": ""
             }
            },
            "marker": {
             "colorbar": {
              "outlinewidth": 0,
              "ticks": ""
             }
            },
            "type": "scatter3d"
           }
          ],
          "scattercarpet": [
           {
            "marker": {
             "colorbar": {
              "outlinewidth": 0,
              "ticks": ""
             }
            },
            "type": "scattercarpet"
           }
          ],
          "scattergeo": [
           {
            "marker": {
             "colorbar": {
              "outlinewidth": 0,
              "ticks": ""
             }
            },
            "type": "scattergeo"
           }
          ],
          "scattergl": [
           {
            "marker": {
             "line": {
              "color": "#283442"
             }
            },
            "type": "scattergl"
           }
          ],
          "scattermapbox": [
           {
            "marker": {
             "colorbar": {
              "outlinewidth": 0,
              "ticks": ""
             }
            },
            "type": "scattermapbox"
           }
          ],
          "scatterpolar": [
           {
            "marker": {
             "colorbar": {
              "outlinewidth": 0,
              "ticks": ""
             }
            },
            "type": "scatterpolar"
           }
          ],
          "scatterpolargl": [
           {
            "marker": {
             "colorbar": {
              "outlinewidth": 0,
              "ticks": ""
             }
            },
            "type": "scatterpolargl"
           }
          ],
          "scatterternary": [
           {
            "marker": {
             "colorbar": {
              "outlinewidth": 0,
              "ticks": ""
             }
            },
            "type": "scatterternary"
           }
          ],
          "surface": [
           {
            "colorbar": {
             "outlinewidth": 0,
             "ticks": ""
            },
            "colorscale": [
             [
              0,
              "#0d0887"
             ],
             [
              0.1111111111111111,
              "#46039f"
             ],
             [
              0.2222222222222222,
              "#7201a8"
             ],
             [
              0.3333333333333333,
              "#9c179e"
             ],
             [
              0.4444444444444444,
              "#bd3786"
             ],
             [
              0.5555555555555556,
              "#d8576b"
             ],
             [
              0.6666666666666666,
              "#ed7953"
             ],
             [
              0.7777777777777778,
              "#fb9f3a"
             ],
             [
              0.8888888888888888,
              "#fdca26"
             ],
             [
              1,
              "#f0f921"
             ]
            ],
            "type": "surface"
           }
          ],
          "table": [
           {
            "cells": {
             "fill": {
              "color": "#506784"
             },
             "line": {
              "color": "rgb(17,17,17)"
             }
            },
            "header": {
             "fill": {
              "color": "#2a3f5f"
             },
             "line": {
              "color": "rgb(17,17,17)"
             }
            },
            "type": "table"
           }
          ]
         },
         "layout": {
          "annotationdefaults": {
           "arrowcolor": "#f2f5fa",
           "arrowhead": 0,
           "arrowwidth": 1
          },
          "autotypenumbers": "strict",
          "coloraxis": {
           "colorbar": {
            "outlinewidth": 0,
            "ticks": ""
           }
          },
          "colorscale": {
           "diverging": [
            [
             0,
             "#8e0152"
            ],
            [
             0.1,
             "#c51b7d"
            ],
            [
             0.2,
             "#de77ae"
            ],
            [
             0.3,
             "#f1b6da"
            ],
            [
             0.4,
             "#fde0ef"
            ],
            [
             0.5,
             "#f7f7f7"
            ],
            [
             0.6,
             "#e6f5d0"
            ],
            [
             0.7,
             "#b8e186"
            ],
            [
             0.8,
             "#7fbc41"
            ],
            [
             0.9,
             "#4d9221"
            ],
            [
             1,
             "#276419"
            ]
           ],
           "sequential": [
            [
             0,
             "#0d0887"
            ],
            [
             0.1111111111111111,
             "#46039f"
            ],
            [
             0.2222222222222222,
             "#7201a8"
            ],
            [
             0.3333333333333333,
             "#9c179e"
            ],
            [
             0.4444444444444444,
             "#bd3786"
            ],
            [
             0.5555555555555556,
             "#d8576b"
            ],
            [
             0.6666666666666666,
             "#ed7953"
            ],
            [
             0.7777777777777778,
             "#fb9f3a"
            ],
            [
             0.8888888888888888,
             "#fdca26"
            ],
            [
             1,
             "#f0f921"
            ]
           ],
           "sequentialminus": [
            [
             0,
             "#0d0887"
            ],
            [
             0.1111111111111111,
             "#46039f"
            ],
            [
             0.2222222222222222,
             "#7201a8"
            ],
            [
             0.3333333333333333,
             "#9c179e"
            ],
            [
             0.4444444444444444,
             "#bd3786"
            ],
            [
             0.5555555555555556,
             "#d8576b"
            ],
            [
             0.6666666666666666,
             "#ed7953"
            ],
            [
             0.7777777777777778,
             "#fb9f3a"
            ],
            [
             0.8888888888888888,
             "#fdca26"
            ],
            [
             1,
             "#f0f921"
            ]
           ]
          },
          "colorway": [
           "#636efa",
           "#EF553B",
           "#00cc96",
           "#ab63fa",
           "#FFA15A",
           "#19d3f3",
           "#FF6692",
           "#B6E880",
           "#FF97FF",
           "#FECB52"
          ],
          "font": {
           "color": "#f2f5fa"
          },
          "geo": {
           "bgcolor": "rgb(17,17,17)",
           "lakecolor": "rgb(17,17,17)",
           "landcolor": "rgb(17,17,17)",
           "showlakes": true,
           "showland": true,
           "subunitcolor": "#506784"
          },
          "hoverlabel": {
           "align": "left"
          },
          "hovermode": "closest",
          "mapbox": {
           "style": "dark"
          },
          "paper_bgcolor": "rgb(17,17,17)",
          "plot_bgcolor": "rgb(17,17,17)",
          "polar": {
           "angularaxis": {
            "gridcolor": "#506784",
            "linecolor": "#506784",
            "ticks": ""
           },
           "bgcolor": "rgb(17,17,17)",
           "radialaxis": {
            "gridcolor": "#506784",
            "linecolor": "#506784",
            "ticks": ""
           }
          },
          "scene": {
           "xaxis": {
            "backgroundcolor": "rgb(17,17,17)",
            "gridcolor": "#506784",
            "gridwidth": 2,
            "linecolor": "#506784",
            "showbackground": true,
            "ticks": "",
            "zerolinecolor": "#C8D4E3"
           },
           "yaxis": {
            "backgroundcolor": "rgb(17,17,17)",
            "gridcolor": "#506784",
            "gridwidth": 2,
            "linecolor": "#506784",
            "showbackground": true,
            "ticks": "",
            "zerolinecolor": "#C8D4E3"
           },
           "zaxis": {
            "backgroundcolor": "rgb(17,17,17)",
            "gridcolor": "#506784",
            "gridwidth": 2,
            "linecolor": "#506784",
            "showbackground": true,
            "ticks": "",
            "zerolinecolor": "#C8D4E3"
           }
          },
          "shapedefaults": {
           "line": {
            "color": "#f2f5fa"
           }
          },
          "sliderdefaults": {
           "bgcolor": "#C8D4E3",
           "bordercolor": "rgb(17,17,17)",
           "borderwidth": 1,
           "tickwidth": 0
          },
          "ternary": {
           "aaxis": {
            "gridcolor": "#506784",
            "linecolor": "#506784",
            "ticks": ""
           },
           "baxis": {
            "gridcolor": "#506784",
            "linecolor": "#506784",
            "ticks": ""
           },
           "bgcolor": "rgb(17,17,17)",
           "caxis": {
            "gridcolor": "#506784",
            "linecolor": "#506784",
            "ticks": ""
           }
          },
          "title": {
           "x": 0.05
          },
          "updatemenudefaults": {
           "bgcolor": "#506784",
           "borderwidth": 0
          },
          "xaxis": {
           "automargin": true,
           "gridcolor": "#283442",
           "linecolor": "#506784",
           "ticks": "",
           "title": {
            "standoff": 15
           },
           "zerolinecolor": "#283442",
           "zerolinewidth": 2
          },
          "yaxis": {
           "automargin": true,
           "gridcolor": "#283442",
           "linecolor": "#506784",
           "ticks": "",
           "title": {
            "standoff": 15
           },
           "zerolinecolor": "#283442",
           "zerolinewidth": 2
          }
         }
        },
        "title": {
         "text": "Chest Pain Types vs Sex"
        },
        "xaxis": {
         "anchor": "y",
         "autorange": true,
         "domain": [
          0,
          1
         ],
         "range": [
          -0.5,
          3.5
         ],
         "title": {
          "text": "ChestPainType"
         },
         "type": "category"
        },
        "yaxis": {
         "anchor": "x",
         "autorange": true,
         "domain": [
          0,
          1
         ],
         "range": [
          0,
          448.42105263157896
         ],
         "title": {
          "text": "count"
         }
        }
       }
      },
      "image/png": "[encoded data removed]",
      "text/html": [
       "<div>                            <div id=\"58b5e5eb-66f4-49a2-893e-df85ecd392a8\" class=\"plotly-graph-div\" style=\"height:525px; width:100%;\"></div>            <script type=\"text/javascript\">                require([\"plotly\"], function(Plotly) {                    window.PLOTLYENV=window.PLOTLYENV || {};                                    if (document.getElementById(\"58b5e5eb-66f4-49a2-893e-df85ecd392a8\")) {                    Plotly.newPlot(                        \"58b5e5eb-66f4-49a2-893e-df85ecd392a8\",                        [{\"alignmentgroup\":\"True\",\"bingroup\":\"x\",\"hovertemplate\":\"Sex=M<br>ChestPainType=%{x}<br>count=%{y}<extra></extra>\",\"legendgroup\":\"M\",\"marker\":{\"color\":\"#71AEC2 \",\"pattern\":{\"shape\":\"\"}},\"name\":\"M\",\"offsetgroup\":\"M\",\"orientation\":\"v\",\"showlegend\":true,\"x\":[\"ATA\",\"ATA\",\"NAP\",\"NAP\",\"ATA\",\"ASY\",\"ATA\",\"ATA\",\"ASY\",\"ASY\",\"ASY\",\"ATA\",\"ATA\",\"ATA\",\"NAP\",\"NAP\",\"ASY\",\"ATA\",\"ATA\",\"NAP\",\"NAP\",\"ASY\",\"ASY\",\"ATA\",\"ASY\",\"ATA\",\"NAP\",\"ASY\",\"NAP\",\"ASY\",\"ATA\",\"NAP\",\"ASY\",\"ASY\",\"ATA\",\"ASY\",\"NAP\",\"ASY\",\"ASY\",\"ATA\",\"ASY\",\"ASY\",\"ATA\",\"ASY\",\"ASY\",\"ATA\",\"ATA\",\"ASY\",\"ASY\",\"NAP\",\"ASY\",\"ATA\",\"ASY\",\"NAP\",\"ATA\",\"ASY\",\"ATA\",\"ASY\",\"ASY\",\"ASY\",\"TA\",\"ASY\",\"ASY\",\"ASY\",\"ASY\",\"ATA\",\"NAP\",\"ASY\",\"ATA\",\"ASY\",\"ASY\",\"ASY\",\"ASY\",\"ATA\",\"ATA\",\"ASY\",\"ATA\",\"ASY\",\"ASY\",\"ATA\",\"ASY\",\"TA\",\"ASY\",\"ATA\",\"ATA\",\"NAP\",\"NAP\",\"ASY\",\"ASY\",\"ASY\",\"NAP\",\"ATA\",\"ASY\",\"ASY\",\"ASY\",\"ASY\",\"ASY\",\"ASY\",\"ASY\",\"ATA\",\"ATA\",\"ASY\",\"ATA\",\"ATA\",\"ATA\",\"ASY\",\"ATA\",\"ASY\",\"ASY\",\"ASY\",\"ASY\",\"ATA\",\"ASY\",\"ASY\",\"ATA\",\"ATA\",\"TA\",\"ASY\",\"ATA\",\"ASY\",\"NAP\",\"ATA\",\"NAP\",\"ATA\",\"NAP\",\"ASY\",\"ASY\",\"ASY\",\"ATA\",\"NAP\",\"ASY\",\"ATA\",\"ASY\",\"ASY\",\"NAP\",\"ATA\",\"ASY\",\"ASY\",\"ASY\",\"ATA\",\"ATA\",\"NAP\",\"ASY\",\"ATA\",\"ASY\",\"TA\",\"NAP\",\"NAP\",\"ATA\",\"ASY\",\"ATA\",\"ATA\",\"ATA\",\"ASY\",\"ASY\",\"NAP\",\"ASY\",\"ASY\",\"NAP\",\"ATA\",\"ATA\",\"ASY\",\"NAP\",\"ATA\",\"ASY\",\"NAP\",\"ASY\",\"ATA\",\"ASY\",\"NAP\",\"ASY\",\"ATA\",\"ASY\",\"TA\",\"ASY\",\"ASY\",\"ATA\",\"ASY\",\"ATA\",\"ASY\",\"TA\",\"NAP\",\"ASY\",\"ASY\",\"ASY\",\"ASY\",\"ASY\",\"ASY\",\"ATA\",\"ASY\",\"NAP\",\"ATA\",\"ASY\",\"ASY\",\"NAP\",\"ATA\",\"ASY\",\"ATA\",\"ASY\",\"ASY\",\"ASY\",\"NAP\",\"NAP\",\"NAP\",\"ASY\",\"NAP\",\"ASY\",\"ASY\",\"ASY\",\"ATA\",\"ATA\",\"NAP\",\"ASY\",\"ASY\",\"TA\",\"ASY\",\"ASY\",\"ASY\",\"ASY\",\"ASY\",\"ASY\",\"ATA\",\"ASY\",\"ASY\",\"ASY\",\"ATA\",\"ASY\",\"ASY\",\"ASY\",\"ASY\",\"ASY\",\"ASY\",\"ASY\",\"ATA\",\"NAP\",\"ASY\",\"ASY\",\"ASY\",\"NAP\",\"ASY\",\"ASY\",\"ASY\",\"ASY\",\"NAP\",\"ASY\",\"ASY\",\"ASY\",\"NAP\",\"ASY\",\"NAP\",\"ASY\",\"ASY\",\"TA\",\"NAP\",\"ASY\",\"ASY\",\"ASY\",\"ASY\",\"ASY\",\"ASY\",\"ASY\",\"ASY\",\"ASY\",\"ASY\",\"ASY\",\"ASY\",\"ASY\",\"ASY\",\"ASY\",\"ASY\",\"ASY\",\"TA\",\"ASY\",\"ATA\",\"NAP\",\"NAP\",\"NAP\",\"ASY\",\"NAP\",\"ASY\",\"NAP\",\"ASY\",\"ASY\",\"ASY\",\"ASY\",\"ASY\",\"ASY\",\"ASY\",\"ASY\",\"ASY\",\"NAP\",\"ASY\",\"ASY\",\"ASY\",\"ASY\",\"ASY\",\"ASY\",\"ASY\",\"ASY\",\"ASY\",\"ASY\",\"ASY\",\"ASY\",\"ASY\",\"ASY\",\"ASY\",\"ASY\",\"ASY\",\"ASY\",\"ASY\",\"ASY\",\"NAP\",\"ASY\",\"ASY\",\"ASY\",\"NAP\",\"ASY\",\"ASY\",\"ASY\",\"ASY\",\"NAP\",\"ASY\",\"ASY\",\"ASY\",\"NAP\",\"ASY\",\"ASY\",\"ASY\",\"ASY\",\"ASY\",\"NAP\",\"NAP\",\"ASY\",\"NAP\",\"NAP\",\"ATA\",\"ATA\",\"ASY\",\"ASY\",\"NAP\",\"ASY\",\"ASY\",\"ASY\",\"ASY\",\"ASY\",\"ASY\",\"ASY\",\"ASY\",\"NAP\",\"NAP\",\"NAP\",\"ASY\",\"ASY\",\"ASY\",\"ASY\",\"NAP\",\"ASY\",\"ASY\",\"ASY\",\"NAP\",\"NAP\",\"ASY\",\"ASY\",\"ASY\",\"ASY\",\"ASY\",\"NAP\",\"ASY\",\"ASY\",\"ASY\",\"ASY\",\"ASY\",\"ASY\",\"ASY\",\"NAP\",\"NAP\",\"NAP\",\"ASY\",\"ATA\",\"ASY\",\"ASY\",\"ASY\",\"NAP\",\"ATA\",\"ASY\",\"ASY\",\"ASY\",\"ASY\",\"NAP\",\"ATA\",\"NAP\",\"TA\",\"ASY\",\"ASY\",\"ATA\",\"ATA\",\"ASY\",\"TA\",\"ASY\",\"NAP\",\"ASY\",\"TA\",\"NAP\",\"ASY\",\"ASY\",\"ASY\",\"ASY\",\"ASY\",\"ASY\",\"ASY\",\"ASY\",\"ASY\",\"ASY\",\"NAP\",\"ASY\",\"NAP\",\"ASY\",\"ASY\",\"ASY\",\"ASY\",\"NAP\",\"TA\",\"ASY\",\"NAP\",\"NAP\",\"ASY\",\"NAP\",\"ASY\",\"ASY\",\"ASY\",\"ASY\",\"ASY\",\"ASY\",\"NAP\",\"ASY\",\"ATA\",\"NAP\",\"ASY\",\"ASY\",\"ASY\",\"ASY\",\"ASY\",\"ASY\",\"ASY\",\"NAP\",\"ASY\",\"ASY\",\"ASY\",\"NAP\",\"NAP\",\"ASY\",\"ASY\",\"NAP\",\"TA\",\"ASY\",\"TA\",\"ASY\",\"NAP\",\"NAP\",\"TA\",\"NAP\",\"NAP\",\"ASY\",\"NAP\",\"NAP\",\"ASY\",\"NAP\",\"ATA\",\"ASY\",\"ASY\",\"ASY\",\"ASY\",\"ASY\",\"ASY\",\"ASY\",\"ASY\",\"ASY\",\"ASY\",\"ASY\",\"ASY\",\"ASY\",\"ASY\",\"ASY\",\"ASY\",\"ASY\",\"ASY\",\"ASY\",\"ASY\",\"ASY\",\"NAP\",\"ASY\",\"ATA\",\"ASY\",\"NAP\",\"ASY\",\"NAP\",\"ATA\",\"ASY\",\"ASY\",\"ASY\",\"ASY\",\"ASY\",\"ASY\",\"NAP\",\"ASY\",\"ASY\",\"ASY\",\"NAP\",\"NAP\",\"ASY\",\"NAP\",\"ASY\",\"ASY\",\"ASY\",\"ASY\",\"TA\",\"ASY\",\"ASY\",\"ATA\",\"ASY\",\"ATA\",\"ASY\",\"ASY\",\"NAP\",\"ASY\",\"ASY\",\"ASY\",\"ASY\",\"NAP\",\"TA\",\"ASY\",\"ASY\",\"TA\",\"TA\",\"ASY\",\"ATA\",\"ASY\",\"ASY\",\"NAP\",\"NAP\",\"ASY\",\"ASY\",\"ASY\",\"ASY\",\"ASY\",\"TA\",\"NAP\",\"ASY\",\"ASY\",\"NAP\",\"ATA\",\"NAP\",\"NAP\",\"NAP\",\"ASY\",\"ATA\",\"ASY\",\"ATA\",\"ASY\",\"ATA\",\"NAP\",\"NAP\",\"TA\",\"ASY\",\"ASY\",\"NAP\",\"ASY\",\"ATA\",\"ASY\",\"ASY\",\"ATA\",\"ASY\",\"ASY\",\"ASY\",\"NAP\",\"ASY\",\"TA\",\"ATA\",\"TA\",\"ASY\",\"ATA\",\"ASY\",\"ASY\",\"ASY\",\"ASY\",\"ASY\",\"ASY\",\"ASY\",\"ASY\",\"ASY\",\"ASY\",\"NAP\",\"ASY\",\"ATA\",\"ATA\",\"ASY\",\"ASY\",\"NAP\",\"ASY\",\"ASY\",\"NAP\",\"ASY\",\"ATA\",\"ASY\",\"ASY\",\"ASY\",\"ASY\",\"NAP\",\"ASY\",\"ASY\",\"ASY\",\"ASY\",\"NAP\",\"TA\",\"ATA\",\"ASY\",\"ASY\",\"ASY\",\"NAP\",\"NAP\",\"ASY\",\"ATA\",\"TA\",\"TA\",\"ATA\",\"ASY\",\"ASY\",\"NAP\",\"TA\",\"TA\",\"NAP\",\"ASY\",\"TA\",\"ASY\",\"NAP\",\"ASY\",\"NAP\",\"NAP\",\"ASY\",\"NAP\",\"NAP\",\"ASY\",\"ASY\",\"NAP\",\"ASY\",\"ASY\",\"ATA\",\"ASY\",\"NAP\",\"ASY\",\"NAP\",\"ASY\",\"ASY\",\"ASY\",\"ASY\",\"TA\",\"NAP\",\"NAP\",\"NAP\",\"TA\",\"NAP\",\"ASY\",\"ATA\",\"NAP\",\"NAP\",\"ATA\",\"ASY\",\"ASY\",\"NAP\",\"ASY\",\"ATA\",\"TA\",\"ASY\",\"ASY\",\"ASY\",\"NAP\",\"ASY\",\"NAP\",\"ATA\",\"NAP\",\"NAP\",\"ASY\",\"ASY\",\"NAP\",\"ASY\",\"ASY\",\"ATA\",\"ASY\",\"NAP\",\"NAP\",\"NAP\",\"ASY\",\"NAP\",\"ASY\",\"ASY\",\"ATA\",\"ATA\",\"ATA\",\"NAP\",\"ATA\",\"ASY\",\"ASY\",\"NAP\",\"ASY\",\"ASY\",\"TA\",\"TA\",\"ATA\",\"ASY\",\"NAP\",\"ATA\",\"ASY\",\"ASY\",\"ATA\",\"ATA\",\"ATA\",\"NAP\",\"ASY\",\"ASY\",\"ATA\",\"ASY\",\"TA\",\"ASY\",\"ASY\",\"NAP\"],\"xaxis\":\"x\",\"yaxis\":\"y\",\"type\":\"histogram\"},{\"alignmentgroup\":\"True\",\"bingroup\":\"x\",\"hovertemplate\":\"Sex=F<br>ChestPainType=%{x}<br>count=%{y}<extra></extra>\",\"legendgroup\":\"F\",\"marker\":{\"color\":\"#D58989\",\"pattern\":{\"shape\":\"\"}},\"name\":\"F\",\"offsetgroup\":\"F\",\"orientation\":\"v\",\"showlegend\":true,\"x\":[\"NAP\",\"ASY\",\"ATA\",\"ATA\",\"NAP\",\"NAP\",\"ATA\",\"ATA\",\"TA\",\"ATA\",\"ATA\",\"ATA\",\"ATA\",\"ATA\",\"ASY\",\"ATA\",\"NAP\",\"ASY\",\"ATA\",\"ASY\",\"ATA\",\"NAP\",\"ATA\",\"ATA\",\"ASY\",\"ASY\",\"ASY\",\"ATA\",\"ATA\",\"ATA\",\"NAP\",\"ASY\",\"ASY\",\"ATA\",\"NAP\",\"ASY\",\"ASY\",\"TA\",\"NAP\",\"NAP\",\"ATA\",\"ATA\",\"ASY\",\"ATA\",\"ASY\",\"ATA\",\"ATA\",\"ATA\",\"ATA\",\"ASY\",\"ATA\",\"ASY\",\"ATA\",\"TA\",\"TA\",\"ATA\",\"NAP\",\"NAP\",\"TA\",\"ASY\",\"NAP\",\"ASY\",\"ATA\",\"ATA\",\"ATA\",\"NAP\",\"ATA\",\"NAP\",\"ATA\",\"ATA\",\"NAP\",\"ATA\",\"ATA\",\"ASY\",\"ATA\",\"NAP\",\"ATA\",\"NAP\",\"ATA\",\"ATA\",\"ASY\",\"ASY\",\"ASY\",\"ASY\",\"ASY\",\"NAP\",\"ASY\",\"TA\",\"ASY\",\"ASY\",\"ATA\",\"ASY\",\"ASY\",\"ATA\",\"ASY\",\"ASY\",\"NAP\",\"ATA\",\"ASY\",\"ASY\",\"ASY\",\"ATA\",\"NAP\",\"ASY\",\"NAP\",\"NAP\",\"NAP\",\"ASY\",\"ASY\",\"NAP\",\"ATA\",\"ATA\",\"ATA\",\"NAP\",\"ASY\",\"ASY\",\"TA\",\"ATA\",\"NAP\",\"ASY\",\"NAP\",\"ASY\",\"NAP\",\"NAP\",\"ATA\",\"ASY\",\"NAP\",\"ATA\",\"NAP\",\"ASY\",\"ASY\",\"ATA\",\"ASY\",\"ASY\",\"NAP\",\"ATA\",\"ASY\",\"TA\",\"NAP\",\"NAP\",\"NAP\",\"ASY\",\"NAP\",\"NAP\",\"ATA\",\"NAP\",\"NAP\",\"NAP\",\"ASY\",\"NAP\",\"ATA\",\"ASY\",\"ASY\",\"ASY\",\"ASY\",\"ASY\",\"NAP\",\"ASY\",\"ASY\",\"ASY\",\"ASY\",\"ATA\",\"ASY\",\"NAP\",\"TA\",\"NAP\",\"NAP\",\"ATA\",\"NAP\",\"ASY\",\"NAP\",\"ASY\",\"TA\",\"ASY\",\"ASY\",\"ASY\",\"ASY\",\"ASY\",\"NAP\",\"NAP\",\"ATA\",\"NAP\",\"ATA\",\"NAP\",\"NAP\",\"NAP\",\"ASY\",\"ASY\",\"ASY\",\"ATA\",\"ASY\",\"ASY\",\"ATA\"],\"xaxis\":\"x\",\"yaxis\":\"y\",\"type\":\"histogram\"}],                        {\"template\":{\"data\":{\"barpolar\":[{\"marker\":{\"line\":{\"color\":\"rgb(17,17,17)\",\"width\":0.5},\"pattern\":{\"fillmode\":\"overlay\",\"size\":10,\"solidity\":0.2}},\"type\":\"barpolar\"}],\"bar\":[{\"error_x\":{\"color\":\"#f2f5fa\"},\"error_y\":{\"color\":\"#f2f5fa\"},\"marker\":{\"line\":{\"color\":\"rgb(17,17,17)\",\"width\":0.5},\"pattern\":{\"fillmode\":\"overlay\",\"size\":10,\"solidity\":0.2}},\"type\":\"bar\"}],\"carpet\":[{\"aaxis\":{\"endlinecolor\":\"#A2B1C6\",\"gridcolor\":\"#506784\",\"linecolor\":\"#506784\",\"minorgridcolor\":\"#506784\",\"startlinecolor\":\"#A2B1C6\"},\"baxis\":{\"endlinecolor\":\"#A2B1C6\",\"gridcolor\":\"#506784\",\"linecolor\":\"#506784\",\"minorgridcolor\":\"#506784\",\"startlinecolor\":\"#A2B1C6\"},\"type\":\"carpet\"}],\"choropleth\":[{\"colorbar\":{\"outlinewidth\":0,\"ticks\":\"\"},\"type\":\"choropleth\"}],\"contourcarpet\":[{\"colorbar\":{\"outlinewidth\":0,\"ticks\":\"\"},\"type\":\"contourcarpet\"}],\"contour\":[{\"colorbar\":{\"outlinewidth\":0,\"ticks\":\"\"},\"colorscale\":[[0.0,\"#0d0887\"],[0.1111111111111111,\"#46039f\"],[0.2222222222222222,\"#7201a8\"],[0.3333333333333333,\"#9c179e\"],[0.4444444444444444,\"#bd3786\"],[0.5555555555555556,\"#d8576b\"],[0.6666666666666666,\"#ed7953\"],[0.7777777777777778,\"#fb9f3a\"],[0.8888888888888888,\"#fdca26\"],[1.0,\"#f0f921\"]],\"type\":\"contour\"}],\"heatmapgl\":[{\"colorbar\":{\"outlinewidth\":0,\"ticks\":\"\"},\"colorscale\":[[0.0,\"#0d0887\"],[0.1111111111111111,\"#46039f\"],[0.2222222222222222,\"#7201a8\"],[0.3333333333333333,\"#9c179e\"],[0.4444444444444444,\"#bd3786\"],[0.5555555555555556,\"#d8576b\"],[0.6666666666666666,\"#ed7953\"],[0.7777777777777778,\"#fb9f3a\"],[0.8888888888888888,\"#fdca26\"],[1.0,\"#f0f921\"]],\"type\":\"heatmapgl\"}],\"heatmap\":[{\"colorbar\":{\"outlinewidth\":0,\"ticks\":\"\"},\"colorscale\":[[0.0,\"#0d0887\"],[0.1111111111111111,\"#46039f\"],[0.2222222222222222,\"#7201a8\"],[0.3333333333333333,\"#9c179e\"],[0.4444444444444444,\"#bd3786\"],[0.5555555555555556,\"#d8576b\"],[0.6666666666666666,\"#ed7953\"],[0.7777777777777778,\"#fb9f3a\"],[0.8888888888888888,\"#fdca26\"],[1.0,\"#f0f921\"]],\"type\":\"heatmap\"}],\"histogram2dcontour\":[{\"colorbar\":{\"outlinewidth\":0,\"ticks\":\"\"},\"colorscale\":[[0.0,\"#0d0887\"],[0.1111111111111111,\"#46039f\"],[0.2222222222222222,\"#7201a8\"],[0.3333333333333333,\"#9c179e\"],[0.4444444444444444,\"#bd3786\"],[0.5555555555555556,\"#d8576b\"],[0.6666666666666666,\"#ed7953\"],[0.7777777777777778,\"#fb9f3a\"],[0.8888888888888888,\"#fdca26\"],[1.0,\"#f0f921\"]],\"type\":\"histogram2dcontour\"}],\"histogram2d\":[{\"colorbar\":{\"outlinewidth\":0,\"ticks\":\"\"},\"colorscale\":[[0.0,\"#0d0887\"],[0.1111111111111111,\"#46039f\"],[0.2222222222222222,\"#7201a8\"],[0.3333333333333333,\"#9c179e\"],[0.4444444444444444,\"#bd3786\"],[0.5555555555555556,\"#d8576b\"],[0.6666666666666666,\"#ed7953\"],[0.7777777777777778,\"#fb9f3a\"],[0.8888888888888888,\"#fdca26\"],[1.0,\"#f0f921\"]],\"type\":\"histogram2d\"}],\"histogram\":[{\"marker\":{\"pattern\":{\"fillmode\":\"overlay\",\"size\":10,\"solidity\":0.2}},\"type\":\"histogram\"}],\"mesh3d\":[{\"colorbar\":{\"outlinewidth\":0,\"ticks\":\"\"},\"type\":\"mesh3d\"}],\"parcoords\":[{\"line\":{\"colorbar\":{\"outlinewidth\":0,\"ticks\":\"\"}},\"type\":\"parcoords\"}],\"pie\":[{\"automargin\":true,\"type\":\"pie\"}],\"scatter3d\":[{\"line\":{\"colorbar\":{\"outlinewidth\":0,\"ticks\":\"\"}},\"marker\":{\"colorbar\":{\"outlinewidth\":0,\"ticks\":\"\"}},\"type\":\"scatter3d\"}],\"scattercarpet\":[{\"marker\":{\"colorbar\":{\"outlinewidth\":0,\"ticks\":\"\"}},\"type\":\"scattercarpet\"}],\"scattergeo\":[{\"marker\":{\"colorbar\":{\"outlinewidth\":0,\"ticks\":\"\"}},\"type\":\"scattergeo\"}],\"scattergl\":[{\"marker\":{\"line\":{\"color\":\"#283442\"}},\"type\":\"scattergl\"}],\"scattermapbox\":[{\"marker\":{\"colorbar\":{\"outlinewidth\":0,\"ticks\":\"\"}},\"type\":\"scattermapbox\"}],\"scatterpolargl\":[{\"marker\":{\"colorbar\":{\"outlinewidth\":0,\"ticks\":\"\"}},\"type\":\"scatterpolargl\"}],\"scatterpolar\":[{\"marker\":{\"colorbar\":{\"outlinewidth\":0,\"ticks\":\"\"}},\"type\":\"scatterpolar\"}],\"scatter\":[{\"marker\":{\"line\":{\"color\":\"#283442\"}},\"type\":\"scatter\"}],\"scatterternary\":[{\"marker\":{\"colorbar\":{\"outlinewidth\":0,\"ticks\":\"\"}},\"type\":\"scatterternary\"}],\"surface\":[{\"colorbar\":{\"outlinewidth\":0,\"ticks\":\"\"},\"colorscale\":[[0.0,\"#0d0887\"],[0.1111111111111111,\"#46039f\"],[0.2222222222222222,\"#7201a8\"],[0.3333333333333333,\"#9c179e\"],[0.4444444444444444,\"#bd3786\"],[0.5555555555555556,\"#d8576b\"],[0.6666666666666666,\"#ed7953\"],[0.7777777777777778,\"#fb9f3a\"],[0.8888888888888888,\"#fdca26\"],[1.0,\"#f0f921\"]],\"type\":\"surface\"}],\"table\":[{\"cells\":{\"fill\":{\"color\":\"#506784\"},\"line\":{\"color\":\"rgb(17,17,17)\"}},\"header\":{\"fill\":{\"color\":\"#2a3f5f\"},\"line\":{\"color\":\"rgb(17,17,17)\"}},\"type\":\"table\"}]},\"layout\":{\"annotationdefaults\":{\"arrowcolor\":\"#f2f5fa\",\"arrowhead\":0,\"arrowwidth\":1},\"autotypenumbers\":\"strict\",\"coloraxis\":{\"colorbar\":{\"outlinewidth\":0,\"ticks\":\"\"}},\"colorscale\":{\"diverging\":[[0,\"#8e0152\"],[0.1,\"#c51b7d\"],[0.2,\"#de77ae\"],[0.3,\"#f1b6da\"],[0.4,\"#fde0ef\"],[0.5,\"#f7f7f7\"],[0.6,\"#e6f5d0\"],[0.7,\"#b8e186\"],[0.8,\"#7fbc41\"],[0.9,\"#4d9221\"],[1,\"#276419\"]],\"sequential\":[[0.0,\"#0d0887\"],[0.1111111111111111,\"#46039f\"],[0.2222222222222222,\"#7201a8\"],[0.3333333333333333,\"#9c179e\"],[0.4444444444444444,\"#bd3786\"],[0.5555555555555556,\"#d8576b\"],[0.6666666666666666,\"#ed7953\"],[0.7777777777777778,\"#fb9f3a\"],[0.8888888888888888,\"#fdca26\"],[1.0,\"#f0f921\"]],\"sequentialminus\":[[0.0,\"#0d0887\"],[0.1111111111111111,\"#46039f\"],[0.2222222222222222,\"#7201a8\"],[0.3333333333333333,\"#9c179e\"],[0.4444444444444444,\"#bd3786\"],[0.5555555555555556,\"#d8576b\"],[0.6666666666666666,\"#ed7953\"],[0.7777777777777778,\"#fb9f3a\"],[0.8888888888888888,\"#fdca26\"],[1.0,\"#f0f921\"]]},\"colorway\":[\"#636efa\",\"#EF553B\",\"#00cc96\",\"#ab63fa\",\"#FFA15A\",\"#19d3f3\",\"#FF6692\",\"#B6E880\",\"#FF97FF\",\"#FECB52\"],\"font\":{\"color\":\"#f2f5fa\"},\"geo\":{\"bgcolor\":\"rgb(17,17,17)\",\"lakecolor\":\"rgb(17,17,17)\",\"landcolor\":\"rgb(17,17,17)\",\"showlakes\":true,\"showland\":true,\"subunitcolor\":\"#506784\"},\"hoverlabel\":{\"align\":\"left\"},\"hovermode\":\"closest\",\"mapbox\":{\"style\":\"dark\"},\"paper_bgcolor\":\"rgb(17,17,17)\",\"plot_bgcolor\":\"rgb(17,17,17)\",\"polar\":{\"angularaxis\":{\"gridcolor\":\"#506784\",\"linecolor\":\"#506784\",\"ticks\":\"\"},\"bgcolor\":\"rgb(17,17,17)\",\"radialaxis\":{\"gridcolor\":\"#506784\",\"linecolor\":\"#506784\",\"ticks\":\"\"}},\"scene\":{\"xaxis\":{\"backgroundcolor\":\"rgb(17,17,17)\",\"gridcolor\":\"#506784\",\"gridwidth\":2,\"linecolor\":\"#506784\",\"showbackground\":true,\"ticks\":\"\",\"zerolinecolor\":\"#C8D4E3\"},\"yaxis\":{\"backgroundcolor\":\"rgb(17,17,17)\",\"gridcolor\":\"#506784\",\"gridwidth\":2,\"linecolor\":\"#506784\",\"showbackground\":true,\"ticks\":\"\",\"zerolinecolor\":\"#C8D4E3\"},\"zaxis\":{\"backgroundcolor\":\"rgb(17,17,17)\",\"gridcolor\":\"#506784\",\"gridwidth\":2,\"linecolor\":\"#506784\",\"showbackground\":true,\"ticks\":\"\",\"zerolinecolor\":\"#C8D4E3\"}},\"shapedefaults\":{\"line\":{\"color\":\"#f2f5fa\"}},\"sliderdefaults\":{\"bgcolor\":\"#C8D4E3\",\"bordercolor\":\"rgb(17,17,17)\",\"borderwidth\":1,\"tickwidth\":0},\"ternary\":{\"aaxis\":{\"gridcolor\":\"#506784\",\"linecolor\":\"#506784\",\"ticks\":\"\"},\"baxis\":{\"gridcolor\":\"#506784\",\"linecolor\":\"#506784\",\"ticks\":\"\"},\"bgcolor\":\"rgb(17,17,17)\",\"caxis\":{\"gridcolor\":\"#506784\",\"linecolor\":\"#506784\",\"ticks\":\"\"}},\"title\":{\"x\":0.05},\"updatemenudefaults\":{\"bgcolor\":\"#506784\",\"borderwidth\":0},\"xaxis\":{\"automargin\":true,\"gridcolor\":\"#283442\",\"linecolor\":\"#506784\",\"ticks\":\"\",\"title\":{\"standoff\":15},\"zerolinecolor\":\"#283442\",\"zerolinewidth\":2},\"yaxis\":{\"automargin\":true,\"gridcolor\":\"#283442\",\"linecolor\":\"#506784\",\"ticks\":\"\",\"title\":{\"standoff\":15},\"zerolinecolor\":\"#283442\",\"zerolinewidth\":2}}},\"xaxis\":{\"anchor\":\"y\",\"domain\":[0.0,1.0],\"title\":{\"text\":\"ChestPainType\"}},\"yaxis\":{\"anchor\":\"x\",\"domain\":[0.0,1.0],\"title\":{\"text\":\"count\"}},\"legend\":{\"title\":{\"text\":\"Sex\"},\"tracegroupgap\":0},\"title\":{\"text\":\"Chest Pain Types vs Sex\"},\"barmode\":\"group\"},                        {\"responsive\": true}                    ).then(function(){\n",
       "                            \n",
       "var gd = document.getElementById('58b5e5eb-66f4-49a2-893e-df85ecd392a8');\n",
       "var x = new MutationObserver(function (mutations, observer) {{\n",
       "        var display = window.getComputedStyle(gd).display;\n",
       "        if (!display || display === 'none') {{\n",
       "            console.log([gd, 'removed!']);\n",
       "            Plotly.purge(gd);\n",
       "            observer.disconnect();\n",
       "        }}\n",
       "}});\n",
       "\n",
       "// Listen for the removal of the full notebook cells\n",
       "var notebookContainer = gd.closest('#notebook-container');\n",
       "if (notebookContainer) {{\n",
       "    x.observe(notebookContainer, {childList: true});\n",
       "}}\n",
       "\n",
       "// Listen for the clearing of the current output cell\n",
       "var outputEl = gd.closest('.output');\n",
       "if (outputEl) {{\n",
       "    x.observe(outputEl, {childList: true});\n",
       "}}\n",
       "\n",
       "                        })                };                });            </script>        </div>"
      ]
     },
     "metadata": {},
     "output_type": "display_data"
    }
   ],
   "source": [
    "# we're using px as it is provides us with additional details \n",
    "fig = px.histogram(df, \n",
    "                   x=\"ChestPainType\",\n",
    "                   color=\"Sex\",\n",
    "                   hover_data=df.columns,\n",
    "                   title=\"Chest Pain Types vs Sex\",\n",
    "                   barmode=\"group\",\n",
    "                   template='plotly_dark',\n",
    "                   color_discrete_sequence=['#71AEC2 ','#D58989'])\n",
    "fig.show()"
   ]
  },
  {
   "cell_type": "markdown",
   "id": "de7fe7bb-287c-4300-9099-195e7d32b595",
   "metadata": {},
   "source": [
    "* As we see most men have Asymptomatic type\n",
    "* Typical Angina (TA) is the rarest type of all\n",
    "* Women don't have any specific type of chest pain"
   ]
  },
  {
   "cell_type": "markdown",
   "id": "9e6ff45f-d359-4939-bed3-28bc2015571c",
   "metadata": {},
   "source": [
    "#### But how is chest pain related to presence of Heart Disease?"
   ]
  },
  {
   "cell_type": "markdown",
   "id": "d51e8f90-44a0-41f8-8192-a0492361ed7d",
   "metadata": {},
   "source": [
    "Maybe some types of pain cause heart problems or heart problems cause any specific type of pain (*Hypotheses testing could come in handy*)"
   ]
  },
  {
   "cell_type": "code",
   "execution_count": 119,
   "id": "2a3eed01-c3d0-443a-84a4-b98704b17913",
   "metadata": {},
   "outputs": [
    {
     "data": {
      "image/png": "[encoded data removed]",
      "text/plain": [
       "<Figure size 900x400 with 1 Axes>"
      ]
     },
     "metadata": {},
     "output_type": "display_data"
    }
   ],
   "source": [
    "plt.figure(figsize = (9, 4))\n",
    "\n",
    "ax = sns.countplot(data = df, \n",
    "              x = 'ChestPainType',\n",
    "              color='#5F9AB7',\n",
    "             hue = 'HeartDisease')\n",
    "\n",
    "plt.title('Chest Pain vs Heart Disease')\n",
    "plt.xlabel('Chest Pain Type',\n",
    "           fontsize = 10,\n",
    "           fontweight = 'bold')\n",
    "\n",
    "for container in ax.containers:\n",
    "    ax.bar_label(container,\n",
    "                    color='black',\n",
    "                    size=9.5)\n",
    "\n",
    "\n",
    "plt.show()"
   ]
  },
  {
   "cell_type": "markdown",
   "id": "9a4dca3d-d204-4c95-8c28-7bc3e73a8a88",
   "metadata": {},
   "source": [
    "**Conclusion**:\n",
    "<br>According to the chart, the most imbalanced types are ASY and ATA (we might check some hypotheses later) whereas TA is not accossiated with Heart Diseases"
   ]
  },
  {
   "cell_type": "markdown",
   "id": "ceacaa04-f502-46cc-83dd-5e118a7fa2c0",
   "metadata": {},
   "source": [
    "#### Quantative variables\n",
    "It's time to analyse our quantative variables and their influence on target variable\n",
    "<br>We're especially interested in RestingBP and Cholesterol (maybe MaxHR but we'll see if we have time) and correlation between each other"
   ]
  },
  {
   "cell_type": "markdown",
   "id": "ff4d2bbc-ed12-43b2-9500-83d091063808",
   "metadata": {},
   "source": [
    "At first let's see how *RestingBP is related to Heart Disease and Fasting blood sugar*"
   ]
  },
  {
   "cell_type": "code",
   "execution_count": 11,
   "id": "135cfca3-1a58-44e0-945f-aa8b684f6959",
   "metadata": {},
   "outputs": [
    {
     "data": {
      "image/png": "[encoded data removed]",
      "text/plain": [
       "<Figure size 1500x700 with 2 Axes>"
      ]
     },
     "metadata": {},
     "output_type": "display_data"
    }
   ],
   "source": [
    "fig, axes = plt.subplots(1, 2, figsize=(15, 7))\n",
    "\n",
    "# Create first graph\n",
    "sns.kdeplot(data = df,\n",
    "            x = 'RestingBP',\n",
    "            hue =\"HeartDisease\",\n",
    "            fill = True,\n",
    "            ax = axes[0],\n",
    "            palette = 'Pastel2')\n",
    "axes[0].set_title('RestingBP vs Heart Disease',\n",
    "          fontweight=\"bold\",\n",
    "          size=13)\n",
    "# Setting means\n",
    "yes_hd = np.round(np.mean(df[df['HeartDisease'] == 1]['RestingBP']),1) \n",
    "no_hd = np.round(np.mean(df[df['HeartDisease'] == 0]['RestingBP']), 1)\n",
    "# Drawing lines (means)\n",
    "axes[0].axvline(yes_hd,\n",
    "                color='#ECD26C',\n",
    "                linewidth=2)\n",
    "axes[0].axvline(no_hd,\n",
    "                color='green',\n",
    "                linewidth=2,)\n",
    "axes[0].set_xlabel('RestingBP', size = 12)\n",
    "\n",
    "\n",
    "# the second plot\n",
    "sns.kdeplot(data = df,\n",
    "            x = 'RestingBP',\n",
    "            hue =\"FastingBS\",\n",
    "            fill = True,\n",
    "            ax = axes[1],\n",
    "            palette = 'deep')\n",
    "axes[1].set_title('RestingBP vs Fasting blood sugar',\n",
    "          fontweight=\"bold\",\n",
    "          size=13)\n",
    "# Setting means\n",
    "yes_bs = np.round(np.mean(df[df['FastingBS'] == 1]['RestingBP']),1) \n",
    "no_bs = np.round(np.mean(df[df['FastingBS'] == 0]['RestingBP']), 1)\n",
    "# Drawing lines (means)\n",
    "axes[1].axvline(yes_hd,\n",
    "                color='#ECD26C',\n",
    "                linewidth=2)\n",
    "axes[1].axvline(no_hd,\n",
    "                color='green',\n",
    "                linewidth=2,)\n",
    "\n",
    "\n",
    "\n",
    "plt.show()"
   ]
  },
  {
   "cell_type": "markdown",
   "id": "2b5f683c-5573-426f-9554-bddfbc0c63af",
   "metadata": {},
   "source": [
    "The graphs show that RestingBP is not associated with Heart Problems or Fasting Blood Sugar (we'll use hypothesis testing later to prove our point), because of the shape and mean diffrence\n",
    "<br>**Need testing!**"
   ]
  },
  {
   "cell_type": "code",
   "execution_count": 12,
   "id": "a863f2cb-dce8-434a-9fb6-28f39fdbecd4",
   "metadata": {},
   "outputs": [
    {
     "data": {
      "text/html": [
       "<div>\n",
       "<style scoped>\n",
       "    .dataframe tbody tr th:only-of-type {\n",
       "        vertical-align: middle;\n",
       "    }\n",
       "\n",
       "    .dataframe tbody tr th {\n",
       "        vertical-align: top;\n",
       "    }\n",
       "\n",
       "    .dataframe thead th {\n",
       "        text-align: right;\n",
       "    }\n",
       "</style>\n",
       "<table border=\"1\" class=\"dataframe\">\n",
       "  <thead>\n",
       "    <tr style=\"text-align: right;\">\n",
       "      <th></th>\n",
       "      <th>mean</th>\n",
       "      <th>median</th>\n",
       "      <th>std</th>\n",
       "      <th>max</th>\n",
       "    </tr>\n",
       "    <tr>\n",
       "      <th>HeartDisease</th>\n",
       "      <th></th>\n",
       "      <th></th>\n",
       "      <th></th>\n",
       "      <th></th>\n",
       "    </tr>\n",
       "  </thead>\n",
       "  <tbody>\n",
       "    <tr>\n",
       "      <th>0</th>\n",
       "      <td>130.180488</td>\n",
       "      <td>130.0</td>\n",
       "      <td>16.499585</td>\n",
       "      <td>190</td>\n",
       "    </tr>\n",
       "    <tr>\n",
       "      <th>1</th>\n",
       "      <td>134.185039</td>\n",
       "      <td>132.0</td>\n",
       "      <td>19.828685</td>\n",
       "      <td>200</td>\n",
       "    </tr>\n",
       "  </tbody>\n",
       "</table>\n",
       "</div>"
      ],
      "text/plain": [
       "                    mean  median        std  max\n",
       "HeartDisease                                    \n",
       "0             130.180488   130.0  16.499585  190\n",
       "1             134.185039   132.0  19.828685  200"
      ]
     },
     "execution_count": 12,
     "metadata": {},
     "output_type": "execute_result"
    }
   ],
   "source": [
    "df.groupby('HeartDisease').RestingBP.agg(['mean', 'median', 'std', 'max'])"
   ]
  },
  {
   "cell_type": "markdown",
   "id": "40b7a02f-bab7-4591-874d-43c340c746df",
   "metadata": {},
   "source": [
    "Of course we saw that people with Heart Problems tend to have greater RestingBP (but is the difference big enogh to say that there these variables are related)"
   ]
  },
  {
   "cell_type": "markdown",
   "id": "5a6638d0-b2d2-448a-bc36-2b1e4ab60f55",
   "metadata": {},
   "source": [
    "##### Cholesterol and Heart Problems"
   ]
  },
  {
   "cell_type": "code",
   "execution_count": 31,
   "id": "011d2364-5c7d-4426-a82f-12da7385f0f4",
   "metadata": {},
   "outputs": [
    {
     "data": {
      "image/png": "[encoded data removed]",
      "text/plain": [
       "<Figure size 1500x700 with 2 Axes>"
      ]
     },
     "metadata": {},
     "output_type": "display_data"
    }
   ],
   "source": [
    "fig, axes = plt.subplots(1, 2, figsize=(15, 7))\n",
    "\n",
    "# The first plot\n",
    "sns.kdeplot(data = df,\n",
    "            x = 'Cholesterol',\n",
    "            hue =\"HeartDisease\",\n",
    "            fill = True,\n",
    "            ax = axes[0],\n",
    "            palette = 'Pastel2')\n",
    "axes[0].set_title('Cholesterol vs Heart Disease',\n",
    "          fontweight=\"bold\",\n",
    "          size=13)\n",
    "# Setting means\n",
    "yes_hd = np.round(np.mean(df[df['HeartDisease'] == 1]['Cholesterol']),1) \n",
    "no_hd = np.round(np.mean(df[df['HeartDisease'] == 0]['Cholesterol']), 1)\n",
    "# Drawing lines (means)\n",
    "axes[0].axvline(yes_hd,\n",
    "                color='#ECD26C',\n",
    "                linewidth=2)\n",
    "axes[0].axvline(no_hd,\n",
    "                color='green',\n",
    "                linewidth=2,)\n",
    "axes[0].set_xlabel('Cholesterol', size = 12)\n",
    "\n",
    "\n",
    "# the second plot\n",
    "sns.histplot(data = df,\n",
    "             x = 'Cholesterol',\n",
    "             bins = 40, kde = True,\n",
    "             ax = axes[1],\n",
    "             color = '#F6909A')\n",
    "axes[1].set_title('Cholesterol level',\n",
    "                  fontweight=\"bold\",\n",
    "                  size = 13)\n",
    "axes[1].axvline(np.mean(df['Cholesterol']), color='red', linewidth=2, label=\"mean\")\n",
    "axes[1].axvline(np.median(df['Cholesterol']), color='green', linewidth=2, label=\"median\")\n",
    "axes[1].legend()\n",
    "\n",
    "\n",
    "plt.tight_layout()\n",
    "plt.show()"
   ]
  },
  {
   "cell_type": "markdown",
   "id": "bb22e3a3-0059-4221-b991-71b1f03146fc",
   "metadata": {},
   "source": [
    "**Conclusion**:\n",
    "<br>It's hard to say something since cholesterol has bimodal distribution and most people have cholesterol level = 0\n",
    "<br>Actually, it's a strange tendency and I'm begginig to question our Data...\n",
    "<br>In the real situation we would ask an expret"
   ]
  },
  {
   "cell_type": "markdown",
   "id": "52f02d7c-64bb-4027-9186-cb59ee156633",
   "metadata": {},
   "source": [
    "##### Now we're going to see how MaxHR is related to Heart Problems and ST_Slope at the same time"
   ]
  },
  {
   "cell_type": "code",
   "execution_count": 23,
   "id": "39186ac8-26ad-41d9-b447-306b59418b21",
   "metadata": {},
   "outputs": [
    {
     "data": {
      "text/plain": [
       "<Figure size 800x300 with 0 Axes>"
      ]
     },
     "metadata": {},
     "output_type": "display_data"
    },
    {
     "data": {
      "image/png": "[encoded data removed]",
      "text/plain": [
       "<Figure size 604.361x500 with 1 Axes>"
      ]
     },
     "metadata": {},
     "output_type": "display_data"
    }
   ],
   "source": [
    "plt.figure(figsize=(8,3))\n",
    "\n",
    "sns.catplot(data = df,\n",
    "            x = \"ST_Slope\",\n",
    "            y = \"MaxHR\",\n",
    "            hue = \"HeartDisease\",\n",
    "            kind = \"violin\",\n",
    "            inner = \"stick\", # inner is an argument of a violin plot (representation of the data in the violin interior)\n",
    "            split = True,\n",
    "            palette = \"deep\")\n",
    "\n",
    "plt.title('MaxHR vs ST_Slope',\n",
    "          fontsize=13,\n",
    "          fontweight='bold')\n",
    "\n",
    "plt.xlabel('ST Slope', size = 11, fontweight = 'bold')\n",
    "plt.xticks( size = 11)\n",
    "\n",
    "plt.show()"
   ]
  },
  {
   "cell_type": "markdown",
   "id": "7018549c-dfe5-4421-9e30-79f5a95b1363",
   "metadata": {},
   "source": [
    "**Conclusion**:\n",
    "<br>According to the chart, people with Heart Disease tend to have lower Heart Rate than people without Heart Disease\n",
    "<br>The difference is especially noticable with ST Slope being flat or down"
   ]
  },
  {
   "cell_type": "markdown",
   "id": "f9263e47-8858-4b50-ae45-d76f225d2e71",
   "metadata": {},
   "source": [
    "##### Overall information about the means:"
   ]
  },
  {
   "cell_type": "code",
   "execution_count": 36,
   "id": "db5ba1c2-54d0-474b-990b-b975f91ee718",
   "metadata": {},
   "outputs": [
    {
     "data": {
      "image/png": "[encoded data removed]",
      "text/plain": [
       "<Figure size 600x600 with 2 Axes>"
      ]
     },
     "metadata": {},
     "output_type": "display_data"
    }
   ],
   "source": [
    "yes = df[df['HeartDisease'] == 1].describe().T.drop(['HeartDisease','FastingBS'], axis =0)\n",
    "no = df[df['HeartDisease'] == 0].describe().T.drop(['HeartDisease','FastingBS'], axis =0)\n",
    "colors = ['#95E89B','#B7EBF0']\n",
    "\n",
    "fig, axes = plt.subplots(1, 2, figsize = (6, 6))\n",
    "sns.heatmap(yes[['mean']],\n",
    "            annot = True,\n",
    "            cmap = colors,\n",
    "            linewidths = 0.4,\n",
    "            linecolor = 'black',\n",
    "            cbar = False,\n",
    "            fmt = '.2f',\n",
    "            ax=axes[0])\n",
    "axes[0].set_title('Heart Disease');\n",
    "\n",
    "plt.subplot(1,2,2)\n",
    "sns.heatmap(no[['mean']],\n",
    "            annot = True,\n",
    "            cmap = colors,\n",
    "            linewidths = 0.4,\n",
    "            linecolor = 'black',\n",
    "            cbar = False,\n",
    "            fmt = '.2f',\n",
    "            ax = axes[1])\n",
    "axes[1].set_title('No Heart Disease');\n",
    "\n",
    "plt.tight_layout()\n",
    "plt.show()"
   ]
  },
  {
   "cell_type": "markdown",
   "id": "25b1d78d-9aad-4756-9aa9-b8e15de3105c",
   "metadata": {},
   "source": [
    "**Conclusion**:\n",
    "<br>Actually, this is not neccessary but it might come in handy and it's also a nice visualization trick"
   ]
  },
  {
   "cell_type": "code",
   "execution_count": null,
   "id": "1176c8c0-2695-4b39-934f-ca9d725ecef7",
   "metadata": {},
   "outputs": [],
   "source": []
  },
  {
   "cell_type": "markdown",
   "id": "e5a86ced-3ed5-4923-adc9-74d12ee338c8",
   "metadata": {},
   "source": [
    "##### The last thing to check is correlation (For example, between RestingBP and MaxHR)"
   ]
  },
  {
   "cell_type": "code",
   "execution_count": 34,
   "id": "3dd2c92a-83da-466c-b290-717aa1707cbe",
   "metadata": {},
   "outputs": [
    {
     "data": {
      "text/plain": [
       "<Figure size 800x300 with 0 Axes>"
      ]
     },
     "metadata": {},
     "output_type": "display_data"
    },
    {
     "data": {
      "image/png": "[encoded data removed]",
      "text/plain": [
       "<Figure size 600x600 with 3 Axes>"
      ]
     },
     "metadata": {},
     "output_type": "display_data"
    }
   ],
   "source": [
    "plt.figure(figsize=(8,3))\n",
    "\n",
    "graph = sns.JointGrid(data = df, # sns.jointplot()\n",
    "                      x = 'RestingBP',\n",
    "                      y = 'MaxHR',\n",
    "                      hue = \"HeartDisease\",\n",
    "                      space = 0)\n",
    "graph.plot(sns.scatterplot, sns.histplot, alpha=.5, edgecolor=\".4\")\n",
    "\n",
    "\n",
    "plt.title('Blood Pressure vs Heart Rate',\n",
    "          fontsize = 15,\n",
    "          fontweight = 'bold',\n",
    "          y = 1.3,\n",
    "          loc = \"right\")\n",
    "\n",
    "plt.show()"
   ]
  },
  {
   "cell_type": "markdown",
   "id": "27efa7a6-dab9-4eae-a3e0-53909010f58d",
   "metadata": {},
   "source": [
    "**Conclusion**:\n",
    "<br>We can make an assumption that if correlation exists it is very small but it helped us to detect outliers"
   ]
  },
  {
   "cell_type": "code",
   "execution_count": null,
   "id": "692e4521-edd1-4da5-add3-23ad2312116a",
   "metadata": {},
   "outputs": [],
   "source": []
  },
  {
   "cell_type": "markdown",
   "id": "d87deb2f-82c4-49dd-a771-5fbf81f1ccdc",
   "metadata": {},
   "source": [
    "## Outliers\n",
    "Finding and dealing with them"
   ]
  },
  {
   "cell_type": "markdown",
   "id": "f72c4414-58da-42a6-8d8b-75891bf524c1",
   "metadata": {},
   "source": [
    "At first we're going to use box-plot to undentify them"
   ]
  },
  {
   "cell_type": "code",
   "execution_count": 38,
   "id": "1fa71eb0-c57e-4205-b57c-674e93accc3a",
   "metadata": {},
   "outputs": [
    {
     "data": {
      "image/png": "[encoded data removed]",
      "text/plain": [
       "<Figure size 1600x500 with 4 Axes>"
      ]
     },
     "metadata": {},
     "output_type": "display_data"
    }
   ],
   "source": [
    "fig, axes = plt.subplots(1,4, figsize=(16,5))\n",
    "\n",
    "fig.suptitle('Box Plots', size = 20)\n",
    "\n",
    "sns.boxplot(df['Age'],\n",
    "            color='skyblue',\n",
    "            ax = axes[0])\n",
    "axes[0].set_title('Age',\n",
    "                  fontweight=\"bold\",\n",
    "                  size = 15)\n",
    "\n",
    "sns.boxplot(df['RestingBP'],\n",
    "            color='hotpink',\n",
    "            ax = axes[1])\n",
    "axes[1].set_title('Resting Blood Pressure',\n",
    "                  fontweight=\"bold\",\n",
    "                  size = 15)\n",
    "\n",
    "sns.boxplot(df['Cholesterol'],\n",
    "            color='yellow',\n",
    "            ax = axes[2])\n",
    "axes[2].set_title('Cholesterol level',\n",
    "                  fontweight=\"bold\",\n",
    "                  size = 15)\n",
    "\n",
    "sns.boxplot(df['MaxHR'],\n",
    "            color='lightgreen',\n",
    "            ax = axes[3])\n",
    "axes[3].set_title('Max Heart Rate',\n",
    "                  fontweight=\"bold\",\n",
    "                  size = 15)\n",
    "\n",
    "\n",
    "plt.tight_layout() # automatically adjusts subplot params so that the subplot(s) fits in to the figure area\n",
    "plt.show()"
   ]
  },
  {
   "cell_type": "markdown",
   "id": "706dff66-39c6-45f4-a763-399ee64d4aa5",
   "metadata": {},
   "source": [
    "##### Conclusion:\n",
    "* Although Cholesterol level can be low it can't be 0\n",
    "* RestingBP also can't be 0 (it would mean that the patient is dead)\n",
    "* MaxHR and Age look fine (just regular box plots)"
   ]
  },
  {
   "cell_type": "code",
   "execution_count": 40,
   "id": "4e369dab-e20e-4afa-82f2-3812cd04215d",
   "metadata": {},
   "outputs": [
    {
     "name": "stdout",
     "output_type": "stream",
     "text": [
      "RestingBP\n",
      "Anything outside this range is an outlier: (90.0, 170.0)\n",
      "Outliers:  [190 180 180 180 200 180 180 180  80 200 185 200 180 180   0 178 172 180\n",
      " 190 174 178 180 200 192 178 180 180 172]\n",
      "Number of outliers: 2\n",
      "\n",
      "Cholesterol\n",
      "Anything outside this range is an outlier: (32.625, 407.625)\n",
      "Outliers:  [468 518 412 529 466 603 491   0   0   0   0   0   0   0   0   0   0   0\n",
      "   0   0   0   0   0   0   0   0   0   0   0   0   0   0   0   0   0   0\n",
      "   0   0   0   0   0   0   0   0   0   0   0   0   0   0   0   0   0   0\n",
      "   0   0   0   0   0   0   0   0   0   0   0   0   0   0   0   0   0   0\n",
      "   0   0   0   0   0   0   0   0   0   0   0   0   0   0   0   0   0   0\n",
      "   0   0   0   0   0   0   0   0   0   0   0   0   0   0   0   0   0   0\n",
      "   0   0   0   0   0   0   0   0   0   0   0   0   0   0   0   0   0   0\n",
      "   0   0   0   0   0   0   0   0   0   0   0   0   0   0   0   0   0   0\n",
      "   0   0   0   0   0   0   0   0   0   0   0   0   0   0   0   0   0   0\n",
      "   0   0   0   0   0   0   0   0   0   0   0 458   0   0   0   0   0   0\n",
      " 564 417 409]\n",
      "Number of outliers: 172\n",
      "\n"
     ]
    }
   ],
   "source": [
    "lst = ['RestingBP', 'Cholesterol']\n",
    "\n",
    "for i in lst:\n",
    "    q1, q2, q3 = np.quantile(df[i], [0.25, 0.5, 0.75])\n",
    "    iqr = stats.iqr(df[i])\n",
    "    lower_bound = q1 - 1.5 * iqr\n",
    "    upper_bound = q3 + 1.5 * iqr\n",
    "    n_outliers = df[df[i] < q1 - 1.5 * iqr].shape[0] # just another way of doing it\n",
    "    print(i)\n",
    "    print(f'Anything outside this range is an outlier: ({lower_bound}, {upper_bound})')\n",
    "    print(\"Outliers: \",df[(df[i] < lower_bound) | (df[i] > upper_bound)][i].values)\n",
    "    print('Number of outliers:', n_outliers)\n",
    "    print()"
   ]
  },
  {
   "cell_type": "markdown",
   "id": "c5838c44-7273-4fef-b7fd-692faa2f3f21",
   "metadata": {},
   "source": [
    "#### Dealing with Outliers"
   ]
  },
  {
   "cell_type": "markdown",
   "id": "716ba7cc-555d-4df3-a664-7243e9482635",
   "metadata": {},
   "source": [
    "I think we all agree that BP can't be 0"
   ]
  },
  {
   "cell_type": "code",
   "execution_count": 4,
   "id": "2a746b5f-503b-49d7-97d0-e351f89c8d26",
   "metadata": {},
   "outputs": [
    {
     "data": {
      "text/html": [
       "<div>\n",
       "<style scoped>\n",
       "    .dataframe tbody tr th:only-of-type {\n",
       "        vertical-align: middle;\n",
       "    }\n",
       "\n",
       "    .dataframe tbody tr th {\n",
       "        vertical-align: top;\n",
       "    }\n",
       "\n",
       "    .dataframe thead th {\n",
       "        text-align: right;\n",
       "    }\n",
       "</style>\n",
       "<table border=\"1\" class=\"dataframe\">\n",
       "  <thead>\n",
       "    <tr style=\"text-align: right;\">\n",
       "      <th></th>\n",
       "      <th>Age</th>\n",
       "      <th>Sex</th>\n",
       "      <th>ChestPainType</th>\n",
       "      <th>RestingBP</th>\n",
       "      <th>Cholesterol</th>\n",
       "      <th>FastingBS</th>\n",
       "      <th>RestingECG</th>\n",
       "      <th>MaxHR</th>\n",
       "      <th>ExerciseAngina</th>\n",
       "      <th>Oldpeak</th>\n",
       "      <th>ST_Slope</th>\n",
       "      <th>HeartDisease</th>\n",
       "    </tr>\n",
       "  </thead>\n",
       "  <tbody>\n",
       "    <tr>\n",
       "      <th>449</th>\n",
       "      <td>55</td>\n",
       "      <td>M</td>\n",
       "      <td>NAP</td>\n",
       "      <td>0</td>\n",
       "      <td>0</td>\n",
       "      <td>0</td>\n",
       "      <td>Normal</td>\n",
       "      <td>155</td>\n",
       "      <td>N</td>\n",
       "      <td>1.5</td>\n",
       "      <td>Flat</td>\n",
       "      <td>1</td>\n",
       "    </tr>\n",
       "  </tbody>\n",
       "</table>\n",
       "</div>"
      ],
      "text/plain": [
       "     Age Sex ChestPainType  RestingBP  Cholesterol  FastingBS RestingECG  \\\n",
       "449   55   M           NAP          0            0          0     Normal   \n",
       "\n",
       "     MaxHR ExerciseAngina  Oldpeak ST_Slope  HeartDisease  \n",
       "449    155              N      1.5     Flat             1  "
      ]
     },
     "execution_count": 4,
     "metadata": {},
     "output_type": "execute_result"
    }
   ],
   "source": [
    "df[df['RestingBP'] == 0]"
   ]
  },
  {
   "cell_type": "markdown",
   "id": "36e31742-4c8f-4714-acd5-36277c0b79e5",
   "metadata": {},
   "source": [
    "Ok, this patient has MaxHR but their Cholesterol and Resting BP is 0 (Something is wrong)\n",
    "<br>There are many ways to delete this row"
   ]
  },
  {
   "cell_type": "code",
   "execution_count": 5,
   "id": "82c3918f-bd23-46a7-936e-370b954c3f1f",
   "metadata": {},
   "outputs": [],
   "source": [
    "# df = df[df['RestingBP'] != 0]\n",
    "# df = df.query('RestingBP != 0')\n",
    "\n",
    "df = df.drop(df[df['RestingBP'] == 0].index)"
   ]
  },
  {
   "cell_type": "markdown",
   "id": "c36e6d8c-a79b-4147-8ce1-2151d195ebe4",
   "metadata": {},
   "source": [
    "The disease, known as familial **hypercholesterolemia**, affects about 1 in 500 people and can cause **total cholesterol levels from 300 mg/dL to 600 mg/dL**, as well as heart attacks early in life.\n",
    "<br>So it's ok when we see these numbers but Cholesterol can't be 0 so it must be replaced"
   ]
  },
  {
   "cell_type": "markdown",
   "id": "22ae5a7b-5d74-4183-bf51-5a14e29f3f24",
   "metadata": {},
   "source": [
    "##### Mean or median imputation\n",
    "Which one should we use?\n",
    "<br>If the data follows a normal distribution, filling missing values with the mean is a reasonable choice."
   ]
  },
  {
   "cell_type": "markdown",
   "id": "ac588527-27e2-4904-9608-6fd09615d4f7",
   "metadata": {},
   "source": [
    "Let's see the graph without those points"
   ]
  },
  {
   "cell_type": "code",
   "execution_count": 54,
   "id": "df0c7827-038a-4b9e-ab20-86ae7201c9d5",
   "metadata": {},
   "outputs": [
    {
     "data": {
      "image/png": "[encoded data removed]",
      "text/plain": [
       "<Figure size 800x300 with 1 Axes>"
      ]
     },
     "metadata": {},
     "output_type": "display_data"
    }
   ],
   "source": [
    "plt.figure(figsize=(8,3))\n",
    "\n",
    "sns.histplot(data = df[df['Cholesterol'] > 0],\n",
    "             x = 'Cholesterol',\n",
    "             bins = 40, kde = True,\n",
    "             color = '#F6909A')\n",
    "plt.title('Cholesterol level',\n",
    "                  fontweight=\"bold\",\n",
    "                  size = 13)\n",
    "plt.axvline(np.mean(new_df['Cholesterol']), color='red', linewidth=2, label=\"mean\")\n",
    "plt.axvline(np.median(new_df['Cholesterol']), color='green', linewidth=2, label=\"median\")\n",
    "plt.legend()\n",
    "\n",
    "\n",
    "plt.show()"
   ]
  },
  {
   "cell_type": "markdown",
   "id": "c94e76e2-ee74-42f6-921b-ee1bd8b171ad",
   "metadata": {},
   "source": [
    "it looks like normal distribution with extra long tails but one chart is not enough\n",
    "<br>What about the skewness?"
   ]
  },
  {
   "cell_type": "code",
   "execution_count": 6,
   "id": "7d9f6226-7096-4a9f-b5d1-8fa7b9ce6f8e",
   "metadata": {},
   "outputs": [
    {
     "data": {
      "text/plain": [
       "1.238534436848176"
      ]
     },
     "execution_count": 6,
     "metadata": {},
     "output_type": "execute_result"
    }
   ],
   "source": [
    "df[df['Cholesterol'] > 0].Cholesterol.skew()"
   ]
  },
  {
   "cell_type": "markdown",
   "id": "6590e574-526f-4f65-8a2c-7e59f80ada18",
   "metadata": {},
   "source": [
    "the data is **extremely skewed**"
   ]
  },
  {
   "cell_type": "markdown",
   "id": "850c57e4-7c04-4290-85dd-d3f7164b6ee5",
   "metadata": {},
   "source": [
    "The last chance is **Shapiro-Wilk Test**"
   ]
  },
  {
   "cell_type": "code",
   "execution_count": 60,
   "id": "0dd25fe3-c6ad-4e64-b411-60e1ed8b06a6",
   "metadata": {},
   "outputs": [
    {
     "data": {
      "text/plain": [
       "2.1515859433204582e-17"
      ]
     },
     "execution_count": 60,
     "metadata": {},
     "output_type": "execute_result"
    }
   ],
   "source": [
    "stats.shapiro(df[df['Cholesterol'] > 0].Cholesterol)[1]"
   ]
  },
  {
   "cell_type": "markdown",
   "id": "09b631e0-ffcb-43c9-9680-98f0d0a9378e",
   "metadata": {},
   "source": [
    "p-value is less than the threshold (0.05) then we reject the null hypothesis i.e. we have sufficient evidence to say that sample does not come from a normal distribution"
   ]
  },
  {
   "cell_type": "code",
   "execution_count": 61,
   "id": "e3952bab-b819-4b3e-b351-bf70a614c194",
   "metadata": {},
   "outputs": [
    {
     "name": "stdout",
     "output_type": "stream",
     "text": [
      "Mean: 244.6353887399464\n",
      "Median: 237.0\n",
      "Mode: ModeResult(mode=254, count=11)\n"
     ]
    }
   ],
   "source": [
    "print('Mean: {}'.format(np.mean(df[df['Cholesterol'] > 0].Cholesterol)))\n",
    "print('Median: {}'.format(np.median(df[df['Cholesterol'] > 0].Cholesterol)))\n",
    "print('Mode: {}'.format(stats.mode(df[df['Cholesterol'] > 0].Cholesterol)))"
   ]
  },
  {
   "cell_type": "markdown",
   "id": "aace6da8-2f8a-4282-a90d-2f1732292f27",
   "metadata": {},
   "source": [
    "##### When to fill missing values with the median:\n",
    "Skewed or non-normal data: If the data is heavily skewed or has outliers, the median is a better choice as it is robust to extreme values. The median represents the middle value and is less influenced by extreme observations."
   ]
  },
  {
   "cell_type": "code",
   "execution_count": 7,
   "id": "4f30c7fd-1d09-49a7-a59d-f3e83c9962dd",
   "metadata": {},
   "outputs": [],
   "source": [
    "df.loc[df['Cholesterol'] == 0, 'Cholesterol'] = np.nan      # since it ca't be zero (it's impossible)\n",
    "df[\"Cholesterol\"] = df[\"Cholesterol\"].fillna(np.median(df[df['Cholesterol'] > 0].Cholesterol))"
   ]
  },
  {
   "cell_type": "markdown",
   "id": "dd6e674d-362a-4b17-b2fa-0223d2d64f90",
   "metadata": {},
   "source": [
    "Now can divide Cholesterol level into 3 groups"
   ]
  },
  {
   "cell_type": "code",
   "execution_count": 91,
   "id": "a93143ab-1f4b-4617-ae20-ba034488e8de",
   "metadata": {},
   "outputs": [
    {
     "data": {
      "text/plain": [
       "Cholesterol\n",
       "Borderline    412\n",
       "High          354\n",
       "Normal        150\n",
       "Name: count, dtype: int64"
      ]
     },
     "execution_count": 91,
     "metadata": {},
     "output_type": "execute_result"
    }
   ],
   "source": [
    "pd.cut(df[\"Cholesterol\"], bins=[0, 200, 240 , 600], labels=[\"Normal\",\"Borderline\",\"High\" ] ).value_counts()\n",
    "#print(\"Value Counts :\\n\\n\",s.value_counts())"
   ]
  },
  {
   "cell_type": "code",
   "execution_count": null,
   "id": "9162e024-9483-4593-8f8f-7593245d1699",
   "metadata": {},
   "outputs": [],
   "source": []
  },
  {
   "cell_type": "markdown",
   "id": "fc84f3e2-12b8-48ae-a395-76a588eb8bbc",
   "metadata": {},
   "source": [
    "## Hypothesis Testing"
   ]
  },
  {
   "cell_type": "markdown",
   "id": "ab31da20-cf0a-4bdf-a6b8-b260d0433e39",
   "metadata": {},
   "source": [
    "Hypothesis testing is essential. In machine learning, various vital decisions are made on the basis of hypothesis testing such as:\n",
    "* Choosing the best algorithm\n",
    "* Choosing the best feature variables\n",
    "* Choosing the best samples\n",
    "* Choosing the best hyperparameters\n",
    "* Choosing the best statistical and probability distribution etc."
   ]
  },
  {
   "cell_type": "markdown",
   "id": "abba9dd4-28eb-4bee-9088-df338e5dfd8c",
   "metadata": {},
   "source": [
    "Every teting is going to be based on associations with the target variable (having heart disease)\n",
    "<br>So we'll split the data in advance"
   ]
  },
  {
   "cell_type": "code",
   "execution_count": 97,
   "id": "959f1484-3dc4-4fdc-b11d-c7b9e158602b",
   "metadata": {},
   "outputs": [],
   "source": [
    "yes_hd = df[df['HeartDisease'] == 1]\n",
    "no_hd = df[df['HeartDisease'] == 0]"
   ]
  },
  {
   "cell_type": "markdown",
   "id": "f172fbb9-b051-42d5-bccc-e47bb764f966",
   "metadata": {},
   "source": [
    "#### Cholesterol levels for patients with heart disease"
   ]
  },
  {
   "cell_type": "markdown",
   "id": "06f356e6-7262-4018-b424-d4ba90b53923",
   "metadata": {},
   "source": [
    "A total cholesterol level of **240 mg/dL** (6.21 mmol/L) **or greater** is considered high"
   ]
  },
  {
   "cell_type": "code",
   "execution_count": 104,
   "id": "bbf828da-254f-4f0f-bc48-892e47b632f4",
   "metadata": {},
   "outputs": [
    {
     "data": {
      "text/plain": [
       "(507,)"
      ]
     },
     "execution_count": 104,
     "metadata": {},
     "output_type": "execute_result"
    }
   ],
   "source": [
    "yes_hd['Cholesterol'].shape"
   ]
  },
  {
   "cell_type": "code",
   "execution_count": 103,
   "id": "d3f21446-64cc-4e4d-bff8-a1abccf45610",
   "metadata": {},
   "outputs": [],
   "source": [
    "mean_chol_hd = np.mean(yes_hd.Cholesterol)"
   ]
  },
  {
   "cell_type": "code",
   "execution_count": 100,
   "id": "e25ccb90-3931-43aa-af82-aee655528011",
   "metadata": {},
   "outputs": [
    {
     "name": "stdout",
     "output_type": "stream",
     "text": [
      "Mean:  246.87376725838266\n",
      "Diffrence: 246.87 - 240 = 6.87\n"
     ]
    }
   ],
   "source": [
    "print(\"Mean: \", mean_chol_hd) # as we can see it is 5% higher than 240\n",
    "print(f'Diffrence: {round(mean_chol_hd, 2)} - 240 = {round(mean_chol_hd - 240, 2)}')"
   ]
  },
  {
   "cell_type": "markdown",
   "id": "f9402b1a-9210-43d4-8c09-81ec4adcd330",
   "metadata": {},
   "source": [
    "So we can form a hypothesis (The significance level is set at 0.05 or 5%)\n",
    "* H_0: People with heart disease have an average cholesterol level equal to 240 mg/dl\n",
    "* H_1: People with heart disease have an average cholesterol level that is greater than 240 mg/dl"
   ]
  },
  {
   "cell_type": "code",
   "execution_count": 101,
   "id": "f6aa9873-1c60-4dd5-9c21-75d60ca41a03",
   "metadata": {},
   "outputs": [],
   "source": [
    "stat, pval = stats.ttest_1samp(yes_hd['Cholesterol'], 240, alternative = 'greater')"
   ]
  },
  {
   "cell_type": "code",
   "execution_count": 102,
   "id": "715593d2-9f3c-4b9d-896c-9d255f45253f",
   "metadata": {},
   "outputs": [
    {
     "name": "stdout",
     "output_type": "stream",
     "text": [
      "0.0017372496798275414\n",
      "0.17%\n"
     ]
    }
   ],
   "source": [
    "print(pval)\n",
    "print(f\"{round(pval * 100, 2)}%\")"
   ]
  },
  {
   "cell_type": "markdown",
   "id": "92e5fb7a-ea6d-4b79-84f3-7c7fe5c6765a",
   "metadata": {},
   "source": [
    "This is less than 0.05 (0.0017 < 0.05), suggesting that heart disease patients have an average cholesterol level significantly higher than 240 mg/dl\n",
    "<br>**Conclusion**:\n",
    "<br>This means that if 507 people were randomly selected from the whole population (who had an average cholesterol level equal to 240 mg/dl), there is a 0.17% chance of their average cholesterol level being at least 7 mg/dl greater than the average level"
   ]
  },
  {
   "cell_type": "code",
   "execution_count": null,
   "id": "fb38926b-9c7d-4859-bcbe-3bee774b45b1",
   "metadata": {},
   "outputs": [],
   "source": []
  },
  {
   "cell_type": "markdown",
   "id": "9145085d-ec79-4f33-8d1d-e98f040f99c0",
   "metadata": {},
   "source": [
    "#### Cholesterol levels for patients without heart disease\n",
    "Do patients without heart disease have average cholesterol levels significantly different from 240 mg/dl?"
   ]
  },
  {
   "cell_type": "code",
   "execution_count": 107,
   "id": "941cb32f-6092-43a9-9b45-c51f0ea4e9ee",
   "metadata": {},
   "outputs": [],
   "source": [
    "chol_no_hd = no_hd['Cholesterol']"
   ]
  },
  {
   "cell_type": "code",
   "execution_count": 109,
   "id": "45f0b9a5-69ad-47ab-9172-947292731a42",
   "metadata": {},
   "outputs": [
    {
     "data": {
      "text/plain": [
       "(410,)"
      ]
     },
     "execution_count": 109,
     "metadata": {},
     "output_type": "execute_result"
    }
   ],
   "source": [
    "# The number of patients\n",
    "chol_no_hd.shape"
   ]
  },
  {
   "cell_type": "code",
   "execution_count": 111,
   "id": "276402a4-7b0f-4f38-a244-58c25edf9108",
   "metadata": {},
   "outputs": [
    {
     "name": "stdout",
     "output_type": "stream",
     "text": [
      "Mean:  238.6829268292683\n",
      "Diffrence: 238.68 - 240 = -1.32\n"
     ]
    }
   ],
   "source": [
    "print(\"Mean: \", np.mean(chol_no_hd))\n",
    "print(f'Diffrence: {round(np.mean(chol_no_hd), 2)} - 240 = {round(np.mean(chol_no_hd) - 240, 2)}')"
   ]
  },
  {
   "cell_type": "markdown",
   "id": "64211bae-12ad-418f-a846-ad421784f080",
   "metadata": {},
   "source": [
    "Forming a hypothesis (The significance level is set at 0.05 or 5%)\n",
    "* H_0: People with heart disease have an average cholesterol level equal to 240 mg/dl\n",
    "* H_1: People with heart disease have an average cholesterol level that is NOT equal to 240 mg/dl"
   ]
  },
  {
   "cell_type": "code",
   "execution_count": 112,
   "id": "1a72813d-af2c-44e4-a562-8980c54f7633",
   "metadata": {},
   "outputs": [],
   "source": [
    "stat, pval = stats.ttest_1samp(chol_no_hd, 240, alternative = 'two-sided')"
   ]
  },
  {
   "cell_type": "code",
   "execution_count": 113,
   "id": "67367b71-14ba-4033-8505-418e2583318b",
   "metadata": {},
   "outputs": [
    {
     "name": "stdout",
     "output_type": "stream",
     "text": [
      "0.6218254603551769\n",
      "62.18%\n"
     ]
    }
   ],
   "source": [
    "print(pval)\n",
    "print(f\"{round(pval * 100, 2)}%\")"
   ]
  },
  {
   "cell_type": "markdown",
   "id": "0bebdf40-263b-48be-b85f-0fdb3026ebed",
   "metadata": {},
   "source": [
    "**Conclusion**:\n",
    "<br>p-value (0.62 > 0.05) is not significant so we fail to reject the null hypothesis and cannot accept the alternative hypothesis"
   ]
  },
  {
   "cell_type": "code",
   "execution_count": null,
   "id": "28c13201-38fb-464e-b6bc-97e119dfce10",
   "metadata": {},
   "outputs": [],
   "source": []
  },
  {
   "cell_type": "markdown",
   "id": "b0b89636-49a3-4483-80d3-1fcdb60fa6e8",
   "metadata": {},
   "source": [
    "#### ST-Slope and Heart Problems"
   ]
  },
  {
   "cell_type": "markdown",
   "id": "b31cb957-3f47-4ae6-acd3-934b868074d8",
   "metadata": {},
   "source": [
    "At first let's look at the contigency table and maybe we'll see patterns"
   ]
  },
  {
   "cell_type": "code",
   "execution_count": 133,
   "id": "aa54fa56-8bef-4e07-97fa-d34eb3ba384a",
   "metadata": {},
   "outputs": [
    {
     "name": "stdout",
     "output_type": "stream",
     "text": [
      "HeartDisease    0    1\n",
      "ST_Slope              \n",
      "Down           14   49\n",
      "Flat           79  380\n",
      "Up            317   78\n"
     ]
    }
   ],
   "source": [
    "Xtab = pd.crosstab(df.ST_Slope, df.HeartDisease)\n",
    "print(Xtab)"
   ]
  },
  {
   "cell_type": "markdown",
   "id": "b4f3bcbb-d448-4e10-84df-3ac662bf0bc0",
   "metadata": {},
   "source": [
    "It seems we don't have to use hyporhesis testing so we could tell that there is definatelly association between these two\n",
    "<br>But still"
   ]
  },
  {
   "cell_type": "markdown",
   "id": "1fd8a2c1-71ce-45d2-ada5-00c6fc11f5f7",
   "metadata": {},
   "source": [
    "* **H_o**: There is NOT an association between ST slope and whether or not someone is diagnosed with heart disease. \n",
    "* **H_a**: There is an association between  ST slope and whether or not someone is diagnosed with heart disease."
   ]
  },
  {
   "cell_type": "code",
   "execution_count": 135,
   "id": "8c732456-d476-4abe-932a-2136ddfa40fb",
   "metadata": {},
   "outputs": [],
   "source": [
    "chi2, pval, dof, exp = stats.chi2_contingency(Xtab)"
   ]
  },
  {
   "cell_type": "code",
   "execution_count": 136,
   "id": "940082b4-7014-4a28-9ed0-ff9517d9a8fd",
   "metadata": {},
   "outputs": [
    {
     "name": "stdout",
     "output_type": "stream",
     "text": [
      "7.566932580265743e-78\n"
     ]
    }
   ],
   "source": [
    "print(pval)"
   ]
  },
  {
   "cell_type": "markdown",
   "id": "2720a541-34eb-4a3c-b5f1-9d7c4ffd1be7",
   "metadata": {},
   "source": [
    "**Conclusion**:\n",
    "<br>We can certainly reject the null hypothesis (7.566932580265743e-78 < 0.05)"
   ]
  },
  {
   "cell_type": "code",
   "execution_count": null,
   "id": "d84923ce-dbae-43cd-9ee5-01bd120080bb",
   "metadata": {},
   "outputs": [],
   "source": []
  },
  {
   "cell_type": "markdown",
   "id": "97c22404-12e5-4764-8191-fd1399dd28d8",
   "metadata": {},
   "source": [
    "#### Maximum Heart Rate and Heart Disease\n",
    "Is the maximum heart rate achieved associated with whether or not a patient will ultimately be diagnosed with heart disease?"
   ]
  },
  {
   "cell_type": "code",
   "execution_count": 114,
   "id": "c370e6e1-38d8-4e18-a019-68aa59c768a7",
   "metadata": {},
   "outputs": [],
   "source": [
    "hr_yes = yes_hd['MaxHR']\n",
    "hr_no = no_hd['MaxHR']"
   ]
  },
  {
   "cell_type": "code",
   "execution_count": 123,
   "id": "e106a431-cd79-41db-8601-bb104a9ecbc2",
   "metadata": {},
   "outputs": [],
   "source": [
    "# the difference in HeartRates for patients diagnosed with heart disease compared to patients without heart disease\n",
    "mean_diff = np.mean(hr_no) - np.mean(hr_yes)"
   ]
  },
  {
   "cell_type": "code",
   "execution_count": 118,
   "id": "e17b00e0-3e3a-4f38-b99f-450ea8c513bb",
   "metadata": {},
   "outputs": [
    {
     "name": "stdout",
     "output_type": "stream",
     "text": [
      "Median_hd: 126.0 and Mean_hd: 127.60157790927022\n",
      "Median_no_hd: 150.0 and Mean_no_hd: 148.15121951219513\n",
      "\"MaxHR\" mean Difference:  20.549641602924908\n"
     ]
    }
   ],
   "source": [
    "print(f'Median_hd: {np.median(hr_yes)} and Mean_hd: {np.mean(hr_yes)}')\n",
    "print(f'Median_no_hd: {np.median(hr_no)} and Mean_no_hd: {np.mean(hr_no)}')\n",
    "print('\"MaxHR\" mean Difference: ', mean_diff)"
   ]
  },
  {
   "cell_type": "markdown",
   "id": "c1e3bb5a-88eb-4a39-9303-b6aebd5e6ab8",
   "metadata": {},
   "source": [
    "* H_0: The average MaxHR for a person with heart disease is equal to the average MaxHR for a person without heart disease.\n",
    "* H_1: The average MaxHR for a person with heart disease is NOT equal to the average MaxHR for a person without heart disease."
   ]
  },
  {
   "cell_type": "code",
   "execution_count": 120,
   "id": "eaffd455-9c21-4d1a-8291-ad1221e157cd",
   "metadata": {},
   "outputs": [],
   "source": [
    "tstat, pval = stats.ttest_ind(hr_yes, hr_no)"
   ]
  },
  {
   "cell_type": "code",
   "execution_count": 122,
   "id": "0cfff8fa-7b72-4583-a735-271ce2889cef",
   "metadata": {},
   "outputs": [
    {
     "name": "stdout",
     "output_type": "stream",
     "text": [
      "p-value for `Max Heart Rate` two-sample t-test:  8.044072537846356e-37\n"
     ]
    }
   ],
   "source": [
    "print('p-value for `Max Heart Rate` two-sample t-test: ', pval)"
   ]
  },
  {
   "cell_type": "markdown",
   "id": "fa3bd938-d542-4eb6-9b43-034670f0d791",
   "metadata": {},
   "source": [
    "**Conclusion**:\n",
    "<br>This is less than 0.05, so we “reject the null hypothesis” and conclude that there is a significant difference in thalach for people with heart disease compared to people without heart disease."
   ]
  },
  {
   "cell_type": "code",
   "execution_count": null,
   "id": "496a2c80-62d6-4c4b-9ac3-c93bf9d2fac6",
   "metadata": {},
   "outputs": [],
   "source": []
  },
  {
   "cell_type": "markdown",
   "id": "e91b1ad2-3d21-4723-83fe-95b8bdb53549",
   "metadata": {},
   "source": [
    "#### Is the variable \"age\" is also significantly associated with heart disease?"
   ]
  },
  {
   "cell_type": "code",
   "execution_count": 124,
   "id": "6aeb932b-26ed-44ee-8d73-d91a7b553488",
   "metadata": {},
   "outputs": [],
   "source": [
    "age_hd = yes_hd.Age\n",
    "age_no_hd = no_hd.Age"
   ]
  },
  {
   "cell_type": "code",
   "execution_count": 127,
   "id": "0ea2da58-c9ec-4ec7-b6bc-9b2883286b9c",
   "metadata": {},
   "outputs": [
    {
     "name": "stdout",
     "output_type": "stream",
     "text": [
      "'Age' mean Difference:  5.350161158416313\n"
     ]
    }
   ],
   "source": [
    "# the difference in mean age for patients diagnosed with heart disease compared to patients without heart disease\n",
    "mean_diff = np.mean(age_hd) - np.mean(age_no_hd)\n",
    "print(\"'Age' mean Difference: \", mean_diff)"
   ]
  },
  {
   "cell_type": "markdown",
   "id": "fe554fbd-75cd-4af4-ab6c-81fbc2cca740",
   "metadata": {},
   "source": [
    "* H_0: The average age for a person with heart disease is equal to the average age for a person without heart disease.\n",
    "* H_1: The average age for a person with heart disease is NOT equal to the average age for a person without heart disease."
   ]
  },
  {
   "cell_type": "code",
   "execution_count": 128,
   "id": "be6c0c88-d9d7-48ce-b4a8-08e261d1d542",
   "metadata": {},
   "outputs": [],
   "source": [
    "tstat, pval = stats.ttest_ind(age_hd, age_no_hd)"
   ]
  },
  {
   "cell_type": "code",
   "execution_count": 129,
   "id": "178c7612-53e2-420f-b422-3454996438bb",
   "metadata": {},
   "outputs": [
    {
     "name": "stdout",
     "output_type": "stream",
     "text": [
      "p-value for 'Age' two-sample t-test:  3.1608374545678206e-18\n"
     ]
    }
   ],
   "source": [
    "print(\"p-value for 'Age' two-sample t-test: \", pval)"
   ]
  },
  {
   "cell_type": "markdown",
   "id": "59875ddb-5426-4739-9f26-b75d92610632",
   "metadata": {},
   "source": [
    "**Conclusion**:\n",
    "<br>Using a 0.05 significance threshold, we can conclude that age (p = 8.955636917529706e-05) is significantly associated with heart disease"
   ]
  },
  {
   "cell_type": "code",
   "execution_count": null,
   "id": "2eac6ca1-bcda-4b80-8a22-77162765ded5",
   "metadata": {},
   "outputs": [],
   "source": []
  },
  {
   "cell_type": "markdown",
   "id": "a8b273db-d95f-43f8-8b04-7594fdc60c64",
   "metadata": {},
   "source": [
    "#### Association between pain type and Heart Problems"
   ]
  },
  {
   "cell_type": "code",
   "execution_count": 130,
   "id": "67d8cab4-e635-4427-bd0c-f80a006dff9a",
   "metadata": {},
   "outputs": [
    {
     "name": "stdout",
     "output_type": "stream",
     "text": [
      "HeartDisease     0    1\n",
      "ChestPainType          \n",
      "ASY            104  392\n",
      "ATA            149   24\n",
      "NAP            131   71\n",
      "TA              26   20\n"
     ]
    }
   ],
   "source": [
    "Xtab = pd.crosstab(df.ChestPainType, df.HeartDisease)\n",
    "print(Xtab)"
   ]
  },
  {
   "cell_type": "markdown",
   "id": "13903fdf-a5a9-49ad-a187-1cfb5b0d14b9",
   "metadata": {},
   "source": [
    "Based on this table, it seems like people who are diagnosed with heart disease tend to have asymptomatic type of pain, while people without heart disease tend to have different kinds of chest pain\n",
    "<br>But still we have to test it"
   ]
  },
  {
   "cell_type": "markdown",
   "id": "47c42656-9c6f-4fb9-9e9d-85a6be5eb722",
   "metadata": {},
   "source": [
    "* **H_o**: There is NOT an association between chest pain type and whether or not someone is diagnosed with heart disease. \n",
    "* **H_a**: There is an association between chest pain type and whether or not someone is diagnosed with heart disease."
   ]
  },
  {
   "cell_type": "code",
   "execution_count": 131,
   "id": "256f0233-5681-4af9-b958-3f415f5e1ad0",
   "metadata": {},
   "outputs": [],
   "source": [
    "chi2, pval, dof, exp = stats.chi2_contingency(Xtab)"
   ]
  },
  {
   "cell_type": "code",
   "execution_count": 132,
   "id": "1efc165c-ce1d-4ccb-abfa-eaab7f90d9e7",
   "metadata": {},
   "outputs": [
    {
     "name": "stdout",
     "output_type": "stream",
     "text": [
      "5.348821918587953e-58\n"
     ]
    }
   ],
   "source": [
    "print(pval)"
   ]
  },
  {
   "cell_type": "markdown",
   "id": "cb71c3d3-4276-4f60-84d9-c1910adbf0d7",
   "metadata": {},
   "source": [
    "**Conclusion**:\n",
    "<br>This is much less than 0.05, so we can conclude that there is a significant association between these variables."
   ]
  },
  {
   "cell_type": "code",
   "execution_count": null,
   "id": "e5788d4d-801e-4660-8396-5bc3bd10601c",
   "metadata": {},
   "outputs": [],
   "source": []
  },
  {
   "cell_type": "markdown",
   "id": "ed739def-9efe-45ed-b29a-c0d8da92d7ed",
   "metadata": {},
   "source": [
    "#### FastingBS, RestingECG, ExerciseAngina, Sex and Heart Disease"
   ]
  },
  {
   "cell_type": "markdown",
   "id": "129755b9-9a98-48ac-932a-7fda044ea2c6",
   "metadata": {},
   "source": [
    "Now we are going to test other categorical variables but we'll do it faster"
   ]
  },
  {
   "cell_type": "code",
   "execution_count": 151,
   "id": "5eee6179-ac41-495b-adb0-98dad625d462",
   "metadata": {},
   "outputs": [
    {
     "name": "stdout",
     "output_type": "stream",
     "text": [
      "HeartDisease    0    1\n",
      "FastingBS             \n",
      "0             366  337\n",
      "1              44  170\n",
      "p-value for (Heart Disease and FastingBS) is 9.215944248776643e-16\n",
      "\n",
      "HeartDisease    0    1\n",
      "RestingECG            \n",
      "LVH            82  106\n",
      "Normal        267  284\n",
      "ST             61  117\n",
      "p-value for (Heart Disease and RestingECG) is 0.0039471230239550015\n",
      "\n",
      "HeartDisease      0    1\n",
      "ExerciseAngina          \n",
      "N               355  191\n",
      "Y                55  316\n",
      "p-value for (Heart Disease and ExerciseAngina) is 1.899519261220225e-50\n",
      "\n",
      "HeartDisease    0    1\n",
      "Sex                   \n",
      "F             143   50\n",
      "M             267  457\n",
      "p-value for (Heart Disease and Sex) is 5.2809560649710597e-20\n",
      "\n"
     ]
    }
   ],
   "source": [
    "for i in ['FastingBS', 'RestingECG', 'ExerciseAngina', 'Sex']:\n",
    "    Xtab = pd.crosstab(df[i], df.HeartDisease)\n",
    "    print(Xtab)\n",
    "    chi2, pval, dof, exp = stats.chi2_contingency(Xtab)\n",
    "    print(f'p-value for (Heart Disease and {i}) is {pval}')\n",
    "    print()"
   ]
  },
  {
   "cell_type": "markdown",
   "id": "7112c7a4-94bf-4f60-9908-a4a58c351c93",
   "metadata": {},
   "source": [
    "**Coclusion**:\n",
    "<br>As we see all variables are associated with Heart Problems (some of them more than others)"
   ]
  },
  {
   "cell_type": "code",
   "execution_count": null,
   "id": "b9e63732-c990-45a3-afe6-8538b56336a2",
   "metadata": {},
   "outputs": [],
   "source": []
  },
  {
   "cell_type": "markdown",
   "id": "5a092c0e-ad39-455a-938d-277ad51eb5c3",
   "metadata": {},
   "source": [
    "## Feature Engineering"
   ]
  },
  {
   "cell_type": "markdown",
   "id": "8e16f2d4-119c-4c7d-93f0-eee38c891882",
   "metadata": {},
   "source": [
    "At first let's look at our variables and remember their types"
   ]
  },
  {
   "cell_type": "code",
   "execution_count": 8,
   "id": "ed4869e5-76aa-477a-9af5-37ad099a38a5",
   "metadata": {},
   "outputs": [
    {
     "name": "stdout",
     "output_type": "stream",
     "text": [
      "Numerical: Index(['Age', 'RestingBP', 'Cholesterol', 'FastingBS', 'MaxHR', 'Oldpeak',\n",
      "       'HeartDisease'],\n",
      "      dtype='object')\n",
      "****************************************************************************************************\n",
      "Categorical: Index(['Sex', 'ChestPainType', 'RestingECG', 'ExerciseAngina', 'ST_Slope'], dtype='object')\n"
     ]
    }
   ],
   "source": [
    "numerical = df.select_dtypes(include=['number']).columns\n",
    "categorical = df.select_dtypes(include=['object']).columns\n",
    "\n",
    "print('Numerical:',numerical)\n",
    "print(\"**********\"*10)\n",
    "print(\"Categorical:\",categorical)"
   ]
  },
  {
   "cell_type": "markdown",
   "id": "789a7f12-0644-473d-9ced-a1dfce5b5d76",
   "metadata": {},
   "source": [
    "As we know categorical variables must be converted to numerical because most models can't work with caterical data"
   ]
  },
  {
   "cell_type": "code",
   "execution_count": 9,
   "id": "1a5880cd-1c4f-422b-9c6d-125d955b1a3a",
   "metadata": {},
   "outputs": [],
   "source": [
    "import category_encoders as ce"
   ]
  },
  {
   "cell_type": "code",
   "execution_count": 10,
   "id": "3321f88b-13e7-4ae7-b396-5a5ebaeac494",
   "metadata": {},
   "outputs": [],
   "source": [
    "# One-Hot encoding\n",
    "encoder = ce.OrdinalEncoder(cols=['ChestPainType','RestingECG','ST_Slope'])\n",
    "df_final = encoder.fit_transform(df)"
   ]
  },
  {
   "cell_type": "code",
   "execution_count": 11,
   "id": "64c68229-1f98-45fe-a876-41f612ac97e9",
   "metadata": {},
   "outputs": [
    {
     "data": {
      "text/html": [
       "<div>\n",
       "<style scoped>\n",
       "    .dataframe tbody tr th:only-of-type {\n",
       "        vertical-align: middle;\n",
       "    }\n",
       "\n",
       "    .dataframe tbody tr th {\n",
       "        vertical-align: top;\n",
       "    }\n",
       "\n",
       "    .dataframe thead th {\n",
       "        text-align: right;\n",
       "    }\n",
       "</style>\n",
       "<table border=\"1\" class=\"dataframe\">\n",
       "  <thead>\n",
       "    <tr style=\"text-align: right;\">\n",
       "      <th></th>\n",
       "      <th>Age</th>\n",
       "      <th>Sex</th>\n",
       "      <th>ChestPainType</th>\n",
       "      <th>RestingBP</th>\n",
       "      <th>Cholesterol</th>\n",
       "      <th>FastingBS</th>\n",
       "      <th>RestingECG</th>\n",
       "      <th>MaxHR</th>\n",
       "      <th>ExerciseAngina</th>\n",
       "      <th>Oldpeak</th>\n",
       "      <th>ST_Slope</th>\n",
       "      <th>HeartDisease</th>\n",
       "    </tr>\n",
       "  </thead>\n",
       "  <tbody>\n",
       "    <tr>\n",
       "      <th>0</th>\n",
       "      <td>40</td>\n",
       "      <td>M</td>\n",
       "      <td>1</td>\n",
       "      <td>140</td>\n",
       "      <td>289.0</td>\n",
       "      <td>0</td>\n",
       "      <td>1</td>\n",
       "      <td>172</td>\n",
       "      <td>N</td>\n",
       "      <td>0.0</td>\n",
       "      <td>1</td>\n",
       "      <td>0</td>\n",
       "    </tr>\n",
       "    <tr>\n",
       "      <th>1</th>\n",
       "      <td>49</td>\n",
       "      <td>F</td>\n",
       "      <td>2</td>\n",
       "      <td>160</td>\n",
       "      <td>180.0</td>\n",
       "      <td>0</td>\n",
       "      <td>1</td>\n",
       "      <td>156</td>\n",
       "      <td>N</td>\n",
       "      <td>1.0</td>\n",
       "      <td>2</td>\n",
       "      <td>1</td>\n",
       "    </tr>\n",
       "    <tr>\n",
       "      <th>2</th>\n",
       "      <td>37</td>\n",
       "      <td>M</td>\n",
       "      <td>1</td>\n",
       "      <td>130</td>\n",
       "      <td>283.0</td>\n",
       "      <td>0</td>\n",
       "      <td>2</td>\n",
       "      <td>98</td>\n",
       "      <td>N</td>\n",
       "      <td>0.0</td>\n",
       "      <td>1</td>\n",
       "      <td>0</td>\n",
       "    </tr>\n",
       "    <tr>\n",
       "      <th>3</th>\n",
       "      <td>48</td>\n",
       "      <td>F</td>\n",
       "      <td>3</td>\n",
       "      <td>138</td>\n",
       "      <td>214.0</td>\n",
       "      <td>0</td>\n",
       "      <td>1</td>\n",
       "      <td>108</td>\n",
       "      <td>Y</td>\n",
       "      <td>1.5</td>\n",
       "      <td>2</td>\n",
       "      <td>1</td>\n",
       "    </tr>\n",
       "    <tr>\n",
       "      <th>4</th>\n",
       "      <td>54</td>\n",
       "      <td>M</td>\n",
       "      <td>2</td>\n",
       "      <td>150</td>\n",
       "      <td>195.0</td>\n",
       "      <td>0</td>\n",
       "      <td>1</td>\n",
       "      <td>122</td>\n",
       "      <td>N</td>\n",
       "      <td>0.0</td>\n",
       "      <td>1</td>\n",
       "      <td>0</td>\n",
       "    </tr>\n",
       "  </tbody>\n",
       "</table>\n",
       "</div>"
      ],
      "text/plain": [
       "   Age Sex  ChestPainType  RestingBP  Cholesterol  FastingBS  RestingECG  \\\n",
       "0   40   M              1        140        289.0          0           1   \n",
       "1   49   F              2        160        180.0          0           1   \n",
       "2   37   M              1        130        283.0          0           2   \n",
       "3   48   F              3        138        214.0          0           1   \n",
       "4   54   M              2        150        195.0          0           1   \n",
       "\n",
       "   MaxHR ExerciseAngina  Oldpeak  ST_Slope  HeartDisease  \n",
       "0    172              N      0.0         1             0  \n",
       "1    156              N      1.0         2             1  \n",
       "2     98              N      0.0         1             0  \n",
       "3    108              Y      1.5         2             1  \n",
       "4    122              N      0.0         1             0  "
      ]
     },
     "execution_count": 11,
     "metadata": {},
     "output_type": "execute_result"
    }
   ],
   "source": [
    "df_final.head()"
   ]
  },
  {
   "cell_type": "code",
   "execution_count": 12,
   "id": "68720bc1-c4b1-4409-8fd5-7b372dc9fdc9",
   "metadata": {},
   "outputs": [],
   "source": [
    "# One-Hot encoding\n",
    "df_final = pd.get_dummies(df_final,\n",
    "               columns = ['Sex', 'ExerciseAngina'],\n",
    "               drop_first= True,\n",
    "               dtype = np.int8)"
   ]
  },
  {
   "cell_type": "code",
   "execution_count": 13,
   "id": "78cc25a1-463c-416b-acc6-d8cb98bb056a",
   "metadata": {},
   "outputs": [
    {
     "data": {
      "text/html": [
       "<div>\n",
       "<style scoped>\n",
       "    .dataframe tbody tr th:only-of-type {\n",
       "        vertical-align: middle;\n",
       "    }\n",
       "\n",
       "    .dataframe tbody tr th {\n",
       "        vertical-align: top;\n",
       "    }\n",
       "\n",
       "    .dataframe thead th {\n",
       "        text-align: right;\n",
       "    }\n",
       "</style>\n",
       "<table border=\"1\" class=\"dataframe\">\n",
       "  <thead>\n",
       "    <tr style=\"text-align: right;\">\n",
       "      <th></th>\n",
       "      <th>Age</th>\n",
       "      <th>ChestPainType</th>\n",
       "      <th>RestingBP</th>\n",
       "      <th>Cholesterol</th>\n",
       "      <th>FastingBS</th>\n",
       "      <th>RestingECG</th>\n",
       "      <th>MaxHR</th>\n",
       "      <th>Oldpeak</th>\n",
       "      <th>ST_Slope</th>\n",
       "      <th>HeartDisease</th>\n",
       "      <th>Sex_M</th>\n",
       "      <th>ExerciseAngina_Y</th>\n",
       "    </tr>\n",
       "  </thead>\n",
       "  <tbody>\n",
       "    <tr>\n",
       "      <th>0</th>\n",
       "      <td>40</td>\n",
       "      <td>1</td>\n",
       "      <td>140</td>\n",
       "      <td>289.0</td>\n",
       "      <td>0</td>\n",
       "      <td>1</td>\n",
       "      <td>172</td>\n",
       "      <td>0.0</td>\n",
       "      <td>1</td>\n",
       "      <td>0</td>\n",
       "      <td>1</td>\n",
       "      <td>0</td>\n",
       "    </tr>\n",
       "    <tr>\n",
       "      <th>1</th>\n",
       "      <td>49</td>\n",
       "      <td>2</td>\n",
       "      <td>160</td>\n",
       "      <td>180.0</td>\n",
       "      <td>0</td>\n",
       "      <td>1</td>\n",
       "      <td>156</td>\n",
       "      <td>1.0</td>\n",
       "      <td>2</td>\n",
       "      <td>1</td>\n",
       "      <td>0</td>\n",
       "      <td>0</td>\n",
       "    </tr>\n",
       "    <tr>\n",
       "      <th>2</th>\n",
       "      <td>37</td>\n",
       "      <td>1</td>\n",
       "      <td>130</td>\n",
       "      <td>283.0</td>\n",
       "      <td>0</td>\n",
       "      <td>2</td>\n",
       "      <td>98</td>\n",
       "      <td>0.0</td>\n",
       "      <td>1</td>\n",
       "      <td>0</td>\n",
       "      <td>1</td>\n",
       "      <td>0</td>\n",
       "    </tr>\n",
       "    <tr>\n",
       "      <th>3</th>\n",
       "      <td>48</td>\n",
       "      <td>3</td>\n",
       "      <td>138</td>\n",
       "      <td>214.0</td>\n",
       "      <td>0</td>\n",
       "      <td>1</td>\n",
       "      <td>108</td>\n",
       "      <td>1.5</td>\n",
       "      <td>2</td>\n",
       "      <td>1</td>\n",
       "      <td>0</td>\n",
       "      <td>1</td>\n",
       "    </tr>\n",
       "    <tr>\n",
       "      <th>4</th>\n",
       "      <td>54</td>\n",
       "      <td>2</td>\n",
       "      <td>150</td>\n",
       "      <td>195.0</td>\n",
       "      <td>0</td>\n",
       "      <td>1</td>\n",
       "      <td>122</td>\n",
       "      <td>0.0</td>\n",
       "      <td>1</td>\n",
       "      <td>0</td>\n",
       "      <td>1</td>\n",
       "      <td>0</td>\n",
       "    </tr>\n",
       "  </tbody>\n",
       "</table>\n",
       "</div>"
      ],
      "text/plain": [
       "   Age  ChestPainType  RestingBP  Cholesterol  FastingBS  RestingECG  MaxHR  \\\n",
       "0   40              1        140        289.0          0           1    172   \n",
       "1   49              2        160        180.0          0           1    156   \n",
       "2   37              1        130        283.0          0           2     98   \n",
       "3   48              3        138        214.0          0           1    108   \n",
       "4   54              2        150        195.0          0           1    122   \n",
       "\n",
       "   Oldpeak  ST_Slope  HeartDisease  Sex_M  ExerciseAngina_Y  \n",
       "0      0.0         1             0      1                 0  \n",
       "1      1.0         2             1      0                 0  \n",
       "2      0.0         1             0      1                 0  \n",
       "3      1.5         2             1      0                 1  \n",
       "4      0.0         1             0      1                 0  "
      ]
     },
     "execution_count": 13,
     "metadata": {},
     "output_type": "execute_result"
    }
   ],
   "source": [
    "df_final.head()"
   ]
  },
  {
   "cell_type": "markdown",
   "id": "4b6c54eb-52b8-4fed-8125-b4a8d4728083",
   "metadata": {},
   "source": [
    "Now all columns have numerical values"
   ]
  },
  {
   "cell_type": "code",
   "execution_count": null,
   "id": "60f05d7a-e08d-4ff9-bbad-8f7e41380802",
   "metadata": {},
   "outputs": [],
   "source": []
  },
  {
   "cell_type": "markdown",
   "id": "3ac7dcb1-cb35-4e5d-a3d0-8344c5c48cd0",
   "metadata": {},
   "source": [
    "## Model Building"
   ]
  },
  {
   "cell_type": "code",
   "execution_count": 14,
   "id": "83d30879-0a9f-4fef-a7ae-36a49da83c94",
   "metadata": {},
   "outputs": [],
   "source": [
    "from sklearn.model_selection import train_test_split\n",
    "from sklearn.metrics import accuracy_score,confusion_matrix,classification_report,f1_score, roc_auc_score\n",
    "from sklearn.model_selection import GridSearchCV, cross_val_score\n",
    "\n",
    "from sklearn.ensemble import RandomForestClassifier\n",
    "from sklearn.svm import SVC\n",
    "from sklearn.linear_model import LogisticRegression"
   ]
  },
  {
   "cell_type": "markdown",
   "id": "ce10b099-667c-4fb2-b45e-f22f0d7ea8e9",
   "metadata": {},
   "source": [
    "### Train-Test split"
   ]
  },
  {
   "cell_type": "code",
   "execution_count": 15,
   "id": "5c2a7330-6a5b-4f7d-ba5e-d9c92d4595a3",
   "metadata": {},
   "outputs": [],
   "source": [
    "X = df_final.drop('HeartDisease',axis=1) \n",
    "y = df_final['HeartDisease']"
   ]
  },
  {
   "cell_type": "code",
   "execution_count": 16,
   "id": "8ca944f5-5e18-474d-a264-273180a8fc88",
   "metadata": {},
   "outputs": [],
   "source": [
    "X_train, X_test, y_train, y_test = train_test_split(X, y, test_size=0.2, random_state = 42)"
   ]
  },
  {
   "cell_type": "markdown",
   "id": "a295f670-c997-4038-9046-6affaa1f93d0",
   "metadata": {},
   "source": [
    "### RandomForestClassifier"
   ]
  },
  {
   "cell_type": "code",
   "execution_count": 17,
   "id": "5b9bfd88-1e04-4b1b-94c8-35c4caa621ee",
   "metadata": {},
   "outputs": [],
   "source": [
    "rfc = RandomForestClassifier(random_state = 42)"
   ]
  },
  {
   "cell_type": "code",
   "execution_count": 18,
   "id": "ca58f53c-fcfb-475b-83ae-0a45551e3865",
   "metadata": {},
   "outputs": [],
   "source": [
    "# We choose which parameters should be tested\n",
    "param_grid = {'n_estimators': [64, 100, 120],\n",
    "              'max_features': [4, 8, 16],\n",
    "              'min_samples_split': [2, 5, 10],\n",
    "              'max_depth':[3,5,7]}"
   ]
  },
  {
   "cell_type": "code",
   "execution_count": 19,
   "id": "e873750a-0181-4fc2-a9a7-3381be64b7c8",
   "metadata": {},
   "outputs": [],
   "source": [
    "grid = GridSearchCV(rfc,\n",
    "                    param_grid,\n",
    "                    cv = 5)"
   ]
  },
  {
   "cell_type": "code",
   "execution_count": 20,
   "id": "61a15981-3538-4df9-b2e1-874b6f7e3060",
   "metadata": {},
   "outputs": [
    {
     "data": {
      "text/html": [
       "<style>#sk-container-id-1 {color: black;}#sk-container-id-1 pre{padding: 0;}#sk-container-id-1 div.sk-toggleable {background-color: white;}#sk-container-id-1 label.sk-toggleable__label {cursor: pointer;display: block;width: 100%;margin-bottom: 0;padding: 0.3em;box-sizing: border-box;text-align: center;}#sk-container-id-1 label.sk-toggleable__label-arrow:before {content: \"▸\";float: left;margin-right: 0.25em;color: #696969;}#sk-container-id-1 label.sk-toggleable__label-arrow:hover:before {color: black;}#sk-container-id-1 div.sk-estimator:hover label.sk-toggleable__label-arrow:before {color: black;}#sk-container-id-1 div.sk-toggleable__content {max-height: 0;max-width: 0;overflow: hidden;text-align: left;background-color: #f0f8ff;}#sk-container-id-1 div.sk-toggleable__content pre {margin: 0.2em;color: black;border-radius: 0.25em;background-color: #f0f8ff;}#sk-container-id-1 input.sk-toggleable__control:checked~div.sk-toggleable__content {max-height: 200px;max-width: 100%;overflow: auto;}#sk-container-id-1 input.sk-toggleable__control:checked~label.sk-toggleable__label-arrow:before {content: \"▾\";}#sk-container-id-1 div.sk-estimator input.sk-toggleable__control:checked~label.sk-toggleable__label {background-color: #d4ebff;}#sk-container-id-1 div.sk-label input.sk-toggleable__control:checked~label.sk-toggleable__label {background-color: #d4ebff;}#sk-container-id-1 input.sk-hidden--visually {border: 0;clip: rect(1px 1px 1px 1px);clip: rect(1px, 1px, 1px, 1px);height: 1px;margin: -1px;overflow: hidden;padding: 0;position: absolute;width: 1px;}#sk-container-id-1 div.sk-estimator {font-family: monospace;background-color: #f0f8ff;border: 1px dotted black;border-radius: 0.25em;box-sizing: border-box;margin-bottom: 0.5em;}#sk-container-id-1 div.sk-estimator:hover {background-color: #d4ebff;}#sk-container-id-1 div.sk-parallel-item::after {content: \"\";width: 100%;border-bottom: 1px solid gray;flex-grow: 1;}#sk-container-id-1 div.sk-label:hover label.sk-toggleable__label {background-color: #d4ebff;}#sk-container-id-1 div.sk-serial::before {content: \"\";position: absolute;border-left: 1px solid gray;box-sizing: border-box;top: 0;bottom: 0;left: 50%;z-index: 0;}#sk-container-id-1 div.sk-serial {display: flex;flex-direction: column;align-items: center;background-color: white;padding-right: 0.2em;padding-left: 0.2em;position: relative;}#sk-container-id-1 div.sk-item {position: relative;z-index: 1;}#sk-container-id-1 div.sk-parallel {display: flex;align-items: stretch;justify-content: center;background-color: white;position: relative;}#sk-container-id-1 div.sk-item::before, #sk-container-id-1 div.sk-parallel-item::before {content: \"\";position: absolute;border-left: 1px solid gray;box-sizing: border-box;top: 0;bottom: 0;left: 50%;z-index: -1;}#sk-container-id-1 div.sk-parallel-item {display: flex;flex-direction: column;z-index: 1;position: relative;background-color: white;}#sk-container-id-1 div.sk-parallel-item:first-child::after {align-self: flex-end;width: 50%;}#sk-container-id-1 div.sk-parallel-item:last-child::after {align-self: flex-start;width: 50%;}#sk-container-id-1 div.sk-parallel-item:only-child::after {width: 0;}#sk-container-id-1 div.sk-dashed-wrapped {border: 1px dashed gray;margin: 0 0.4em 0.5em 0.4em;box-sizing: border-box;padding-bottom: 0.4em;background-color: white;}#sk-container-id-1 div.sk-label label {font-family: monospace;font-weight: bold;display: inline-block;line-height: 1.2em;}#sk-container-id-1 div.sk-label-container {text-align: center;}#sk-container-id-1 div.sk-container {/* jupyter's `normalize.less` sets `[hidden] { display: none; }` but bootstrap.min.css set `[hidden] { display: none !important; }` so we also need the `!important` here to be able to override the default hidden behavior on the sphinx rendered scikit-learn.org. See: https://github.com/scikit-learn/scikit-learn/issues/21755 */display: inline-block !important;position: relative;}#sk-container-id-1 div.sk-text-repr-fallback {display: none;}</style><div id=\"sk-container-id-1\" class=\"sk-top-container\"><div class=\"sk-text-repr-fallback\"><pre>GridSearchCV(cv=5, estimator=RandomForestClassifier(random_state=42),\n",
       "             param_grid={&#x27;max_depth&#x27;: [3, 5, 7], &#x27;max_features&#x27;: [4, 8, 16],\n",
       "                         &#x27;min_samples_split&#x27;: [2, 5, 10],\n",
       "                         &#x27;n_estimators&#x27;: [64, 100, 120]})</pre><b>In a Jupyter environment, please rerun this cell to show the HTML representation or trust the notebook. <br />On GitHub, the HTML representation is unable to render, please try loading this page with nbviewer.org.</b></div><div class=\"sk-container\" hidden><div class=\"sk-item sk-dashed-wrapped\"><div class=\"sk-label-container\"><div class=\"sk-label sk-toggleable\"><input class=\"sk-toggleable__control sk-hidden--visually\" id=\"sk-estimator-id-1\" type=\"checkbox\" ><label for=\"sk-estimator-id-1\" class=\"sk-toggleable__label sk-toggleable__label-arrow\">GridSearchCV</label><div class=\"sk-toggleable__content\"><pre>GridSearchCV(cv=5, estimator=RandomForestClassifier(random_state=42),\n",
       "             param_grid={&#x27;max_depth&#x27;: [3, 5, 7], &#x27;max_features&#x27;: [4, 8, 16],\n",
       "                         &#x27;min_samples_split&#x27;: [2, 5, 10],\n",
       "                         &#x27;n_estimators&#x27;: [64, 100, 120]})</pre></div></div></div><div class=\"sk-parallel\"><div class=\"sk-parallel-item\"><div class=\"sk-item\"><div class=\"sk-label-container\"><div class=\"sk-label sk-toggleable\"><input class=\"sk-toggleable__control sk-hidden--visually\" id=\"sk-estimator-id-2\" type=\"checkbox\" ><label for=\"sk-estimator-id-2\" class=\"sk-toggleable__label sk-toggleable__label-arrow\">estimator: RandomForestClassifier</label><div class=\"sk-toggleable__content\"><pre>RandomForestClassifier(random_state=42)</pre></div></div></div><div class=\"sk-serial\"><div class=\"sk-item\"><div class=\"sk-estimator sk-toggleable\"><input class=\"sk-toggleable__control sk-hidden--visually\" id=\"sk-estimator-id-3\" type=\"checkbox\" ><label for=\"sk-estimator-id-3\" class=\"sk-toggleable__label sk-toggleable__label-arrow\">RandomForestClassifier</label><div class=\"sk-toggleable__content\"><pre>RandomForestClassifier(random_state=42)</pre></div></div></div></div></div></div></div></div></div></div>"
      ],
      "text/plain": [
       "GridSearchCV(cv=5, estimator=RandomForestClassifier(random_state=42),\n",
       "             param_grid={'max_depth': [3, 5, 7], 'max_features': [4, 8, 16],\n",
       "                         'min_samples_split': [2, 5, 10],\n",
       "                         'n_estimators': [64, 100, 120]})"
      ]
     },
     "execution_count": 20,
     "metadata": {},
     "output_type": "execute_result"
    }
   ],
   "source": [
    "grid.fit(X_train, y_train)"
   ]
  },
  {
   "cell_type": "code",
   "execution_count": 21,
   "id": "eda8ac9c-5c73-4fea-8790-79eb1db6ad61",
   "metadata": {},
   "outputs": [
    {
     "data": {
      "text/plain": [
       "{'max_depth': 7,\n",
       " 'max_features': 4,\n",
       " 'min_samples_split': 2,\n",
       " 'n_estimators': 120}"
      ]
     },
     "execution_count": 21,
     "metadata": {},
     "output_type": "execute_result"
    }
   ],
   "source": [
    "grid.best_params_"
   ]
  },
  {
   "cell_type": "code",
   "execution_count": 22,
   "id": "09e97fb5-b749-4c3d-be5c-7fdce4bc8a7f",
   "metadata": {},
   "outputs": [],
   "source": [
    "best_rfc = grid.best_estimator_"
   ]
  },
  {
   "cell_type": "code",
   "execution_count": 23,
   "id": "a8f44279-f970-42d9-8d9d-887a7330cba7",
   "metadata": {},
   "outputs": [],
   "source": [
    "metrics = ['accuracy', 'precision', 'recall', 'f1', 'roc_auc']\n",
    "results_rfc = {}"
   ]
  },
  {
   "cell_type": "code",
   "execution_count": 24,
   "id": "b812aa95-96ac-4c68-a18c-f76a80685f53",
   "metadata": {},
   "outputs": [],
   "source": [
    "for metric in metrics:\n",
    "    scores = cross_val_score(best_rfc, X_train, y_train, cv=5, scoring=metric)\n",
    "    results_rfc[metric] = scores.mean()"
   ]
  },
  {
   "cell_type": "markdown",
   "id": "5ca655b6-a65a-4630-aba3-aa700adeb69f",
   "metadata": {},
   "source": [
    "### LogisticRegression"
   ]
  },
  {
   "cell_type": "code",
   "execution_count": 37,
   "id": "88ff0bd4-e083-455c-9d5f-2443b8103446",
   "metadata": {},
   "outputs": [],
   "source": [
    "logreg = LogisticRegression()"
   ]
  },
  {
   "cell_type": "code",
   "execution_count": 38,
   "id": "27da8e71-05c3-46b6-9c55-594fef9c2486",
   "metadata": {},
   "outputs": [],
   "source": [
    "param_grid = {\n",
    "    'penalty': ['l1', 'l2'],\n",
    "    'C': [0.001, 0.01, 0.1, 1, 10, 100],\n",
    "    'solver': ['liblinear', 'lbfgs', 'saga'],\n",
    "    'max_iter': [100, 200, 300],\n",
    "    'class_weight': [None, 'balanced']\n",
    "}"
   ]
  },
  {
   "cell_type": "code",
   "execution_count": 40,
   "id": "4dfc9ebf-a5e3-44f0-9c52-978534bf2552",
   "metadata": {},
   "outputs": [],
   "source": [
    "grid = GridSearchCV(logreg,\n",
    "                    param_grid,\n",
    "                    cv = 5)"
   ]
  },
  {
   "cell_type": "code",
   "execution_count": 41,
   "id": "56890700-5851-4110-90d5-71d5bdd9f4b7",
   "metadata": {},
   "outputs": [
    {
     "data": {
      "text/html": [
       "<style>#sk-container-id-2 {color: black;}#sk-container-id-2 pre{padding: 0;}#sk-container-id-2 div.sk-toggleable {background-color: white;}#sk-container-id-2 label.sk-toggleable__label {cursor: pointer;display: block;width: 100%;margin-bottom: 0;padding: 0.3em;box-sizing: border-box;text-align: center;}#sk-container-id-2 label.sk-toggleable__label-arrow:before {content: \"▸\";float: left;margin-right: 0.25em;color: #696969;}#sk-container-id-2 label.sk-toggleable__label-arrow:hover:before {color: black;}#sk-container-id-2 div.sk-estimator:hover label.sk-toggleable__label-arrow:before {color: black;}#sk-container-id-2 div.sk-toggleable__content {max-height: 0;max-width: 0;overflow: hidden;text-align: left;background-color: #f0f8ff;}#sk-container-id-2 div.sk-toggleable__content pre {margin: 0.2em;color: black;border-radius: 0.25em;background-color: #f0f8ff;}#sk-container-id-2 input.sk-toggleable__control:checked~div.sk-toggleable__content {max-height: 200px;max-width: 100%;overflow: auto;}#sk-container-id-2 input.sk-toggleable__control:checked~label.sk-toggleable__label-arrow:before {content: \"▾\";}#sk-container-id-2 div.sk-estimator input.sk-toggleable__control:checked~label.sk-toggleable__label {background-color: #d4ebff;}#sk-container-id-2 div.sk-label input.sk-toggleable__control:checked~label.sk-toggleable__label {background-color: #d4ebff;}#sk-container-id-2 input.sk-hidden--visually {border: 0;clip: rect(1px 1px 1px 1px);clip: rect(1px, 1px, 1px, 1px);height: 1px;margin: -1px;overflow: hidden;padding: 0;position: absolute;width: 1px;}#sk-container-id-2 div.sk-estimator {font-family: monospace;background-color: #f0f8ff;border: 1px dotted black;border-radius: 0.25em;box-sizing: border-box;margin-bottom: 0.5em;}#sk-container-id-2 div.sk-estimator:hover {background-color: #d4ebff;}#sk-container-id-2 div.sk-parallel-item::after {content: \"\";width: 100%;border-bottom: 1px solid gray;flex-grow: 1;}#sk-container-id-2 div.sk-label:hover label.sk-toggleable__label {background-color: #d4ebff;}#sk-container-id-2 div.sk-serial::before {content: \"\";position: absolute;border-left: 1px solid gray;box-sizing: border-box;top: 0;bottom: 0;left: 50%;z-index: 0;}#sk-container-id-2 div.sk-serial {display: flex;flex-direction: column;align-items: center;background-color: white;padding-right: 0.2em;padding-left: 0.2em;position: relative;}#sk-container-id-2 div.sk-item {position: relative;z-index: 1;}#sk-container-id-2 div.sk-parallel {display: flex;align-items: stretch;justify-content: center;background-color: white;position: relative;}#sk-container-id-2 div.sk-item::before, #sk-container-id-2 div.sk-parallel-item::before {content: \"\";position: absolute;border-left: 1px solid gray;box-sizing: border-box;top: 0;bottom: 0;left: 50%;z-index: -1;}#sk-container-id-2 div.sk-parallel-item {display: flex;flex-direction: column;z-index: 1;position: relative;background-color: white;}#sk-container-id-2 div.sk-parallel-item:first-child::after {align-self: flex-end;width: 50%;}#sk-container-id-2 div.sk-parallel-item:last-child::after {align-self: flex-start;width: 50%;}#sk-container-id-2 div.sk-parallel-item:only-child::after {width: 0;}#sk-container-id-2 div.sk-dashed-wrapped {border: 1px dashed gray;margin: 0 0.4em 0.5em 0.4em;box-sizing: border-box;padding-bottom: 0.4em;background-color: white;}#sk-container-id-2 div.sk-label label {font-family: monospace;font-weight: bold;display: inline-block;line-height: 1.2em;}#sk-container-id-2 div.sk-label-container {text-align: center;}#sk-container-id-2 div.sk-container {/* jupyter's `normalize.less` sets `[hidden] { display: none; }` but bootstrap.min.css set `[hidden] { display: none !important; }` so we also need the `!important` here to be able to override the default hidden behavior on the sphinx rendered scikit-learn.org. See: https://github.com/scikit-learn/scikit-learn/issues/21755 */display: inline-block !important;position: relative;}#sk-container-id-2 div.sk-text-repr-fallback {display: none;}</style><div id=\"sk-container-id-2\" class=\"sk-top-container\"><div class=\"sk-text-repr-fallback\"><pre>GridSearchCV(cv=5, estimator=LogisticRegression(),\n",
       "             param_grid={&#x27;C&#x27;: [0.001, 0.01, 0.1, 1, 10, 100],\n",
       "                         &#x27;class_weight&#x27;: [None, &#x27;balanced&#x27;],\n",
       "                         &#x27;max_iter&#x27;: [100, 200, 300], &#x27;penalty&#x27;: [&#x27;l1&#x27;, &#x27;l2&#x27;],\n",
       "                         &#x27;solver&#x27;: [&#x27;liblinear&#x27;, &#x27;lbfgs&#x27;, &#x27;saga&#x27;]})</pre><b>In a Jupyter environment, please rerun this cell to show the HTML representation or trust the notebook. <br />On GitHub, the HTML representation is unable to render, please try loading this page with nbviewer.org.</b></div><div class=\"sk-container\" hidden><div class=\"sk-item sk-dashed-wrapped\"><div class=\"sk-label-container\"><div class=\"sk-label sk-toggleable\"><input class=\"sk-toggleable__control sk-hidden--visually\" id=\"sk-estimator-id-4\" type=\"checkbox\" ><label for=\"sk-estimator-id-4\" class=\"sk-toggleable__label sk-toggleable__label-arrow\">GridSearchCV</label><div class=\"sk-toggleable__content\"><pre>GridSearchCV(cv=5, estimator=LogisticRegression(),\n",
       "             param_grid={&#x27;C&#x27;: [0.001, 0.01, 0.1, 1, 10, 100],\n",
       "                         &#x27;class_weight&#x27;: [None, &#x27;balanced&#x27;],\n",
       "                         &#x27;max_iter&#x27;: [100, 200, 300], &#x27;penalty&#x27;: [&#x27;l1&#x27;, &#x27;l2&#x27;],\n",
       "                         &#x27;solver&#x27;: [&#x27;liblinear&#x27;, &#x27;lbfgs&#x27;, &#x27;saga&#x27;]})</pre></div></div></div><div class=\"sk-parallel\"><div class=\"sk-parallel-item\"><div class=\"sk-item\"><div class=\"sk-label-container\"><div class=\"sk-label sk-toggleable\"><input class=\"sk-toggleable__control sk-hidden--visually\" id=\"sk-estimator-id-5\" type=\"checkbox\" ><label for=\"sk-estimator-id-5\" class=\"sk-toggleable__label sk-toggleable__label-arrow\">estimator: LogisticRegression</label><div class=\"sk-toggleable__content\"><pre>LogisticRegression()</pre></div></div></div><div class=\"sk-serial\"><div class=\"sk-item\"><div class=\"sk-estimator sk-toggleable\"><input class=\"sk-toggleable__control sk-hidden--visually\" id=\"sk-estimator-id-6\" type=\"checkbox\" ><label for=\"sk-estimator-id-6\" class=\"sk-toggleable__label sk-toggleable__label-arrow\">LogisticRegression</label><div class=\"sk-toggleable__content\"><pre>LogisticRegression()</pre></div></div></div></div></div></div></div></div></div></div>"
      ],
      "text/plain": [
       "GridSearchCV(cv=5, estimator=LogisticRegression(),\n",
       "             param_grid={'C': [0.001, 0.01, 0.1, 1, 10, 100],\n",
       "                         'class_weight': [None, 'balanced'],\n",
       "                         'max_iter': [100, 200, 300], 'penalty': ['l1', 'l2'],\n",
       "                         'solver': ['liblinear', 'lbfgs', 'saga']})"
      ]
     },
     "execution_count": 41,
     "metadata": {},
     "output_type": "execute_result"
    }
   ],
   "source": [
    "grid.fit(X_train, y_train)"
   ]
  },
  {
   "cell_type": "code",
   "execution_count": 42,
   "id": "52fc98f7-525f-4670-aa4c-d39a8e469762",
   "metadata": {},
   "outputs": [],
   "source": [
    "best_lreg = grid.best_estimator_"
   ]
  },
  {
   "cell_type": "code",
   "execution_count": 43,
   "id": "99617896-0515-49aa-998a-9d65f4389efa",
   "metadata": {},
   "outputs": [],
   "source": [
    "results_lreg = {}"
   ]
  },
  {
   "cell_type": "code",
   "execution_count": 44,
   "id": "37671057-37a9-40f1-a3cb-f5d5d5bcb3be",
   "metadata": {},
   "outputs": [],
   "source": [
    "for metric in metrics:\n",
    "    scores = cross_val_score(best_lreg, X_train, y_train, cv=5, scoring=metric)\n",
    "    results_lreg[metric] = scores.mean()"
   ]
  },
  {
   "cell_type": "markdown",
   "id": "1adb2e3d-5423-4444-94bd-59a6c3e35cf7",
   "metadata": {},
   "source": [
    "### Support Vector Machines"
   ]
  },
  {
   "cell_type": "code",
   "execution_count": 45,
   "id": "c5268f3f-6e36-4060-a685-422fde10a614",
   "metadata": {},
   "outputs": [],
   "source": [
    "svm = SVC()"
   ]
  },
  {
   "cell_type": "code",
   "execution_count": 49,
   "id": "399f7ed1-5fa1-49f8-8ce5-afa2bbbe99a7",
   "metadata": {},
   "outputs": [],
   "source": [
    "param_grid = {\n",
    "    'C': [0.1, 1, 10], # Regularization parameter\n",
    "    'kernel': ['linear', 'rbf'],  # Choice of kernel\n",
    "    'gamma': [0.1, 1, 10], # Kernel coefficient for 'rbf' and 'poly'\n",
    "    'class_weight': [None, 'balanced'], \n",
    "}"
   ]
  },
  {
   "cell_type": "code",
   "execution_count": 50,
   "id": "78d6a6f4-3e95-49e1-98db-7e8f79ecd958",
   "metadata": {},
   "outputs": [],
   "source": [
    "grid = GridSearchCV(svm,\n",
    "                    param_grid,\n",
    "                    cv = 5)"
   ]
  },
  {
   "cell_type": "code",
   "execution_count": 51,
   "id": "91a92c5e-7f21-4d15-b875-108bdb2b2b48",
   "metadata": {},
   "outputs": [
    {
     "data": {
      "text/html": [
       "<style>#sk-container-id-3 {color: black;}#sk-container-id-3 pre{padding: 0;}#sk-container-id-3 div.sk-toggleable {background-color: white;}#sk-container-id-3 label.sk-toggleable__label {cursor: pointer;display: block;width: 100%;margin-bottom: 0;padding: 0.3em;box-sizing: border-box;text-align: center;}#sk-container-id-3 label.sk-toggleable__label-arrow:before {content: \"▸\";float: left;margin-right: 0.25em;color: #696969;}#sk-container-id-3 label.sk-toggleable__label-arrow:hover:before {color: black;}#sk-container-id-3 div.sk-estimator:hover label.sk-toggleable__label-arrow:before {color: black;}#sk-container-id-3 div.sk-toggleable__content {max-height: 0;max-width: 0;overflow: hidden;text-align: left;background-color: #f0f8ff;}#sk-container-id-3 div.sk-toggleable__content pre {margin: 0.2em;color: black;border-radius: 0.25em;background-color: #f0f8ff;}#sk-container-id-3 input.sk-toggleable__control:checked~div.sk-toggleable__content {max-height: 200px;max-width: 100%;overflow: auto;}#sk-container-id-3 input.sk-toggleable__control:checked~label.sk-toggleable__label-arrow:before {content: \"▾\";}#sk-container-id-3 div.sk-estimator input.sk-toggleable__control:checked~label.sk-toggleable__label {background-color: #d4ebff;}#sk-container-id-3 div.sk-label input.sk-toggleable__control:checked~label.sk-toggleable__label {background-color: #d4ebff;}#sk-container-id-3 input.sk-hidden--visually {border: 0;clip: rect(1px 1px 1px 1px);clip: rect(1px, 1px, 1px, 1px);height: 1px;margin: -1px;overflow: hidden;padding: 0;position: absolute;width: 1px;}#sk-container-id-3 div.sk-estimator {font-family: monospace;background-color: #f0f8ff;border: 1px dotted black;border-radius: 0.25em;box-sizing: border-box;margin-bottom: 0.5em;}#sk-container-id-3 div.sk-estimator:hover {background-color: #d4ebff;}#sk-container-id-3 div.sk-parallel-item::after {content: \"\";width: 100%;border-bottom: 1px solid gray;flex-grow: 1;}#sk-container-id-3 div.sk-label:hover label.sk-toggleable__label {background-color: #d4ebff;}#sk-container-id-3 div.sk-serial::before {content: \"\";position: absolute;border-left: 1px solid gray;box-sizing: border-box;top: 0;bottom: 0;left: 50%;z-index: 0;}#sk-container-id-3 div.sk-serial {display: flex;flex-direction: column;align-items: center;background-color: white;padding-right: 0.2em;padding-left: 0.2em;position: relative;}#sk-container-id-3 div.sk-item {position: relative;z-index: 1;}#sk-container-id-3 div.sk-parallel {display: flex;align-items: stretch;justify-content: center;background-color: white;position: relative;}#sk-container-id-3 div.sk-item::before, #sk-container-id-3 div.sk-parallel-item::before {content: \"\";position: absolute;border-left: 1px solid gray;box-sizing: border-box;top: 0;bottom: 0;left: 50%;z-index: -1;}#sk-container-id-3 div.sk-parallel-item {display: flex;flex-direction: column;z-index: 1;position: relative;background-color: white;}#sk-container-id-3 div.sk-parallel-item:first-child::after {align-self: flex-end;width: 50%;}#sk-container-id-3 div.sk-parallel-item:last-child::after {align-self: flex-start;width: 50%;}#sk-container-id-3 div.sk-parallel-item:only-child::after {width: 0;}#sk-container-id-3 div.sk-dashed-wrapped {border: 1px dashed gray;margin: 0 0.4em 0.5em 0.4em;box-sizing: border-box;padding-bottom: 0.4em;background-color: white;}#sk-container-id-3 div.sk-label label {font-family: monospace;font-weight: bold;display: inline-block;line-height: 1.2em;}#sk-container-id-3 div.sk-label-container {text-align: center;}#sk-container-id-3 div.sk-container {/* jupyter's `normalize.less` sets `[hidden] { display: none; }` but bootstrap.min.css set `[hidden] { display: none !important; }` so we also need the `!important` here to be able to override the default hidden behavior on the sphinx rendered scikit-learn.org. See: https://github.com/scikit-learn/scikit-learn/issues/21755 */display: inline-block !important;position: relative;}#sk-container-id-3 div.sk-text-repr-fallback {display: none;}</style><div id=\"sk-container-id-3\" class=\"sk-top-container\"><div class=\"sk-text-repr-fallback\"><pre>GridSearchCV(cv=5, estimator=SVC(),\n",
       "             param_grid={&#x27;C&#x27;: [0.1, 1, 10], &#x27;class_weight&#x27;: [None, &#x27;balanced&#x27;],\n",
       "                         &#x27;gamma&#x27;: [0.1, 1, 10], &#x27;kernel&#x27;: [&#x27;linear&#x27;, &#x27;rbf&#x27;]})</pre><b>In a Jupyter environment, please rerun this cell to show the HTML representation or trust the notebook. <br />On GitHub, the HTML representation is unable to render, please try loading this page with nbviewer.org.</b></div><div class=\"sk-container\" hidden><div class=\"sk-item sk-dashed-wrapped\"><div class=\"sk-label-container\"><div class=\"sk-label sk-toggleable\"><input class=\"sk-toggleable__control sk-hidden--visually\" id=\"sk-estimator-id-7\" type=\"checkbox\" ><label for=\"sk-estimator-id-7\" class=\"sk-toggleable__label sk-toggleable__label-arrow\">GridSearchCV</label><div class=\"sk-toggleable__content\"><pre>GridSearchCV(cv=5, estimator=SVC(),\n",
       "             param_grid={&#x27;C&#x27;: [0.1, 1, 10], &#x27;class_weight&#x27;: [None, &#x27;balanced&#x27;],\n",
       "                         &#x27;gamma&#x27;: [0.1, 1, 10], &#x27;kernel&#x27;: [&#x27;linear&#x27;, &#x27;rbf&#x27;]})</pre></div></div></div><div class=\"sk-parallel\"><div class=\"sk-parallel-item\"><div class=\"sk-item\"><div class=\"sk-label-container\"><div class=\"sk-label sk-toggleable\"><input class=\"sk-toggleable__control sk-hidden--visually\" id=\"sk-estimator-id-8\" type=\"checkbox\" ><label for=\"sk-estimator-id-8\" class=\"sk-toggleable__label sk-toggleable__label-arrow\">estimator: SVC</label><div class=\"sk-toggleable__content\"><pre>SVC()</pre></div></div></div><div class=\"sk-serial\"><div class=\"sk-item\"><div class=\"sk-estimator sk-toggleable\"><input class=\"sk-toggleable__control sk-hidden--visually\" id=\"sk-estimator-id-9\" type=\"checkbox\" ><label for=\"sk-estimator-id-9\" class=\"sk-toggleable__label sk-toggleable__label-arrow\">SVC</label><div class=\"sk-toggleable__content\"><pre>SVC()</pre></div></div></div></div></div></div></div></div></div></div>"
      ],
      "text/plain": [
       "GridSearchCV(cv=5, estimator=SVC(),\n",
       "             param_grid={'C': [0.1, 1, 10], 'class_weight': [None, 'balanced'],\n",
       "                         'gamma': [0.1, 1, 10], 'kernel': ['linear', 'rbf']})"
      ]
     },
     "execution_count": 51,
     "metadata": {},
     "output_type": "execute_result"
    }
   ],
   "source": [
    "grid.fit(X_train, y_train)"
   ]
  },
  {
   "cell_type": "code",
   "execution_count": 52,
   "id": "c4fd2b53-15cc-47cb-9732-6c00a16d2f6a",
   "metadata": {},
   "outputs": [],
   "source": [
    "best_svm = grid.best_estimator_"
   ]
  },
  {
   "cell_type": "code",
   "execution_count": 53,
   "id": "810670ef-3ef9-4b02-a33e-29e68c712604",
   "metadata": {},
   "outputs": [],
   "source": [
    "results_svm = {}"
   ]
  },
  {
   "cell_type": "code",
   "execution_count": 54,
   "id": "1d0aae4d-e495-43ad-ad67-b5c24fdcb685",
   "metadata": {},
   "outputs": [],
   "source": [
    "for metric in metrics:\n",
    "    scores = cross_val_score(best_svm, X_train, y_train, cv=5, scoring=metric)\n",
    "    results_svm[metric] = scores.mean()"
   ]
  },
  {
   "cell_type": "markdown",
   "id": "7ea7b6ca-e34c-4545-9c83-853d2348d3c1",
   "metadata": {},
   "source": [
    "### Choosing the best model"
   ]
  },
  {
   "cell_type": "code",
   "execution_count": 60,
   "id": "6407b48a-5e77-43ab-8c1b-b842859a1cb2",
   "metadata": {},
   "outputs": [
    {
     "data": {
      "text/html": [
       "<div>\n",
       "<style scoped>\n",
       "    .dataframe tbody tr th:only-of-type {\n",
       "        vertical-align: middle;\n",
       "    }\n",
       "\n",
       "    .dataframe tbody tr th {\n",
       "        vertical-align: top;\n",
       "    }\n",
       "\n",
       "    .dataframe thead th {\n",
       "        text-align: right;\n",
       "    }\n",
       "</style>\n",
       "<table border=\"1\" class=\"dataframe\">\n",
       "  <thead>\n",
       "    <tr style=\"text-align: right;\">\n",
       "      <th></th>\n",
       "      <th>accuracy</th>\n",
       "      <th>precision</th>\n",
       "      <th>recall</th>\n",
       "      <th>f1</th>\n",
       "      <th>roc_auc</th>\n",
       "    </tr>\n",
       "  </thead>\n",
       "  <tbody>\n",
       "    <tr>\n",
       "      <th>RFC</th>\n",
       "      <td>0.864896</td>\n",
       "      <td>0.859074</td>\n",
       "      <td>0.898734</td>\n",
       "      <td>0.877585</td>\n",
       "      <td>0.917066</td>\n",
       "    </tr>\n",
       "    <tr>\n",
       "      <th>LogReg</th>\n",
       "      <td>0.852558</td>\n",
       "      <td>0.857155</td>\n",
       "      <td>0.873418</td>\n",
       "      <td>0.865550</td>\n",
       "      <td>0.908108</td>\n",
       "    </tr>\n",
       "    <tr>\n",
       "      <th>SVM</th>\n",
       "      <td>0.860759</td>\n",
       "      <td>0.857056</td>\n",
       "      <td>0.891139</td>\n",
       "      <td>0.873429</td>\n",
       "      <td>0.908366</td>\n",
       "    </tr>\n",
       "  </tbody>\n",
       "</table>\n",
       "</div>"
      ],
      "text/plain": [
       "        accuracy  precision    recall        f1   roc_auc\n",
       "RFC     0.864896   0.859074  0.898734  0.877585  0.917066\n",
       "LogReg  0.852558   0.857155  0.873418  0.865550  0.908108\n",
       "SVM     0.860759   0.857056  0.891139  0.873429  0.908366"
      ]
     },
     "execution_count": 60,
     "metadata": {},
     "output_type": "execute_result"
    }
   ],
   "source": [
    "pd.DataFrame([results_rfc, results_lreg, results_svm], index= ['RFC', 'LogReg', 'SVM'])"
   ]
  },
  {
   "cell_type": "markdown",
   "id": "5652e422-52ee-4cd9-84d1-aed4800bf8cb",
   "metadata": {},
   "source": [
    "As we can see the best model is **Fandom Forest Classifier**"
   ]
  },
  {
   "cell_type": "markdown",
   "id": "ead5fbdc-0450-4c00-8f9d-db855006cba9",
   "metadata": {},
   "source": [
    "### Predictions"
   ]
  },
  {
   "cell_type": "code",
   "execution_count": 25,
   "id": "984ed0a6-bd80-4ee4-bbc5-352e23814423",
   "metadata": {},
   "outputs": [
    {
     "data": {
      "text/html": [
       "<style>#sk-container-id-2 {color: black;}#sk-container-id-2 pre{padding: 0;}#sk-container-id-2 div.sk-toggleable {background-color: white;}#sk-container-id-2 label.sk-toggleable__label {cursor: pointer;display: block;width: 100%;margin-bottom: 0;padding: 0.3em;box-sizing: border-box;text-align: center;}#sk-container-id-2 label.sk-toggleable__label-arrow:before {content: \"▸\";float: left;margin-right: 0.25em;color: #696969;}#sk-container-id-2 label.sk-toggleable__label-arrow:hover:before {color: black;}#sk-container-id-2 div.sk-estimator:hover label.sk-toggleable__label-arrow:before {color: black;}#sk-container-id-2 div.sk-toggleable__content {max-height: 0;max-width: 0;overflow: hidden;text-align: left;background-color: #f0f8ff;}#sk-container-id-2 div.sk-toggleable__content pre {margin: 0.2em;color: black;border-radius: 0.25em;background-color: #f0f8ff;}#sk-container-id-2 input.sk-toggleable__control:checked~div.sk-toggleable__content {max-height: 200px;max-width: 100%;overflow: auto;}#sk-container-id-2 input.sk-toggleable__control:checked~label.sk-toggleable__label-arrow:before {content: \"▾\";}#sk-container-id-2 div.sk-estimator input.sk-toggleable__control:checked~label.sk-toggleable__label {background-color: #d4ebff;}#sk-container-id-2 div.sk-label input.sk-toggleable__control:checked~label.sk-toggleable__label {background-color: #d4ebff;}#sk-container-id-2 input.sk-hidden--visually {border: 0;clip: rect(1px 1px 1px 1px);clip: rect(1px, 1px, 1px, 1px);height: 1px;margin: -1px;overflow: hidden;padding: 0;position: absolute;width: 1px;}#sk-container-id-2 div.sk-estimator {font-family: monospace;background-color: #f0f8ff;border: 1px dotted black;border-radius: 0.25em;box-sizing: border-box;margin-bottom: 0.5em;}#sk-container-id-2 div.sk-estimator:hover {background-color: #d4ebff;}#sk-container-id-2 div.sk-parallel-item::after {content: \"\";width: 100%;border-bottom: 1px solid gray;flex-grow: 1;}#sk-container-id-2 div.sk-label:hover label.sk-toggleable__label {background-color: #d4ebff;}#sk-container-id-2 div.sk-serial::before {content: \"\";position: absolute;border-left: 1px solid gray;box-sizing: border-box;top: 0;bottom: 0;left: 50%;z-index: 0;}#sk-container-id-2 div.sk-serial {display: flex;flex-direction: column;align-items: center;background-color: white;padding-right: 0.2em;padding-left: 0.2em;position: relative;}#sk-container-id-2 div.sk-item {position: relative;z-index: 1;}#sk-container-id-2 div.sk-parallel {display: flex;align-items: stretch;justify-content: center;background-color: white;position: relative;}#sk-container-id-2 div.sk-item::before, #sk-container-id-2 div.sk-parallel-item::before {content: \"\";position: absolute;border-left: 1px solid gray;box-sizing: border-box;top: 0;bottom: 0;left: 50%;z-index: -1;}#sk-container-id-2 div.sk-parallel-item {display: flex;flex-direction: column;z-index: 1;position: relative;background-color: white;}#sk-container-id-2 div.sk-parallel-item:first-child::after {align-self: flex-end;width: 50%;}#sk-container-id-2 div.sk-parallel-item:last-child::after {align-self: flex-start;width: 50%;}#sk-container-id-2 div.sk-parallel-item:only-child::after {width: 0;}#sk-container-id-2 div.sk-dashed-wrapped {border: 1px dashed gray;margin: 0 0.4em 0.5em 0.4em;box-sizing: border-box;padding-bottom: 0.4em;background-color: white;}#sk-container-id-2 div.sk-label label {font-family: monospace;font-weight: bold;display: inline-block;line-height: 1.2em;}#sk-container-id-2 div.sk-label-container {text-align: center;}#sk-container-id-2 div.sk-container {/* jupyter's `normalize.less` sets `[hidden] { display: none; }` but bootstrap.min.css set `[hidden] { display: none !important; }` so we also need the `!important` here to be able to override the default hidden behavior on the sphinx rendered scikit-learn.org. See: https://github.com/scikit-learn/scikit-learn/issues/21755 */display: inline-block !important;position: relative;}#sk-container-id-2 div.sk-text-repr-fallback {display: none;}</style><div id=\"sk-container-id-2\" class=\"sk-top-container\"><div class=\"sk-text-repr-fallback\"><pre>RandomForestClassifier(max_depth=7, max_features=4, n_estimators=120,\n",
       "                       random_state=42)</pre><b>In a Jupyter environment, please rerun this cell to show the HTML representation or trust the notebook. <br />On GitHub, the HTML representation is unable to render, please try loading this page with nbviewer.org.</b></div><div class=\"sk-container\" hidden><div class=\"sk-item\"><div class=\"sk-estimator sk-toggleable\"><input class=\"sk-toggleable__control sk-hidden--visually\" id=\"sk-estimator-id-4\" type=\"checkbox\" checked><label for=\"sk-estimator-id-4\" class=\"sk-toggleable__label sk-toggleable__label-arrow\">RandomForestClassifier</label><div class=\"sk-toggleable__content\"><pre>RandomForestClassifier(max_depth=7, max_features=4, n_estimators=120,\n",
       "                       random_state=42)</pre></div></div></div></div></div>"
      ],
      "text/plain": [
       "RandomForestClassifier(max_depth=7, max_features=4, n_estimators=120,\n",
       "                       random_state=42)"
      ]
     },
     "execution_count": 25,
     "metadata": {},
     "output_type": "execute_result"
    }
   ],
   "source": [
    "best_rfc"
   ]
  },
  {
   "cell_type": "code",
   "execution_count": 26,
   "id": "e2dd422a-bed7-4bba-9d2d-9c7db1b9316e",
   "metadata": {},
   "outputs": [],
   "source": [
    "y_pred = best_rfc.predict(X_test)"
   ]
  },
  {
   "cell_type": "code",
   "execution_count": 28,
   "id": "36322d72-4203-4aa7-be3f-dd568549f820",
   "metadata": {},
   "outputs": [
    {
     "name": "stdout",
     "output_type": "stream",
     "text": [
      "              precision    recall  f1-score   support\n",
      "\n",
      "           0       0.83      0.83      0.83        72\n",
      "           1       0.89      0.89      0.89       112\n",
      "\n",
      "    accuracy                           0.87       184\n",
      "   macro avg       0.86      0.86      0.86       184\n",
      "weighted avg       0.87      0.87      0.87       184\n",
      "\n"
     ]
    }
   ],
   "source": [
    "print(classification_report(y_test, y_pred))"
   ]
  },
  {
   "cell_type": "markdown",
   "id": "4896dd6d-2adb-4331-a8bd-b07ba53eb106",
   "metadata": {},
   "source": [
    "* Mcro averaged precision: calculate precision for all classes individually and then average them\n",
    "* Micro averaged precision: calculate class wise true positive and false positive and then use that to calculate overall precision\n",
    "* Weighted precision: same as macro but in this case, it is weighted average depending on the number of items in each class"
   ]
  },
  {
   "cell_type": "markdown",
   "id": "4573d1be-03f9-40e7-b88e-90a27f14f411",
   "metadata": {},
   "source": [
    "#### Confusion matrix"
   ]
  },
  {
   "cell_type": "code",
   "execution_count": 29,
   "id": "12e0ea59-601b-46d9-8577-7bf84bf588f8",
   "metadata": {},
   "outputs": [],
   "source": [
    "cm = confusion_matrix(y_test, y_pred)"
   ]
  },
  {
   "cell_type": "code",
   "execution_count": 30,
   "id": "97566926-eb88-490f-b074-002c9f8835c9",
   "metadata": {},
   "outputs": [
    {
     "data": {
      "image/png": "[encoded data removed]",
      "text/plain": [
       "<Figure size 800x600 with 2 Axes>"
      ]
     },
     "metadata": {},
     "output_type": "display_data"
    }
   ],
   "source": [
    "plt.figure(figsize=(8, 6))\n",
    "sns.heatmap(cm, annot=True, cmap=\"Blues\", fmt=\"d\", xticklabels=['Predicted 0', 'Predicted 1'],\n",
    "            yticklabels=['Actual 0', 'Actual 1'])\n",
    "plt.xlabel('Predicted Label')\n",
    "plt.ylabel('True Label')\n",
    "plt.title('Confusion Matrix')\n",
    "plt.show()"
   ]
  },
  {
   "cell_type": "markdown",
   "id": "8bf201aa-72f4-47c4-9b7e-8d95e6303066",
   "metadata": {},
   "source": [
    "* annot=True: shows the numerical values in each cell of the heatmap.\n",
    "* cmap=\"Blues\": sets the color map for the heatmap.\n",
    "* fmt=\"d\": format for the numerical values in the heatmap as integers.\n",
    "* xticklabels and yticklabels: sets the labels for the x-axis and y-axis, respectively."
   ]
  },
  {
   "cell_type": "code",
   "execution_count": null,
   "id": "1cdb58bf-fefc-43bb-ac88-10d9e9f1d4bc",
   "metadata": {},
   "outputs": [],
   "source": []
  },
  {
   "cell_type": "code",
   "execution_count": null,
   "id": "87ff698d-9827-490f-895c-b89da205fe22",
   "metadata": {},
   "outputs": [],
   "source": []
  }
 ],
 "metadata": {
  "kernelspec": {
   "display_name": "Python 3 (ipykernel)",
   "language": "python",
   "name": "python3"
  },
  "language_info": {
   "codemirror_mode": {
    "name": "ipython",
    "version": 3
   },
   "file_extension": ".py",
   "mimetype": "text/x-python",
   "name": "python",
   "nbconvert_exporter": "python",
   "pygments_lexer": "ipython3",
   "version": "3.9.13"
  }
 },
 "nbformat": 4,
 "nbformat_minor": 5
}
